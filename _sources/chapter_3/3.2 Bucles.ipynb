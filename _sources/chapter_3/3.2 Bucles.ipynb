{
 "cells": [
  {
   "cell_type": "markdown",
   "id": "0e49c95a",
   "metadata": {},
   "source": [
    "# 3.2 Bucles\n",
    "***"
   ]
  },
  {
   "cell_type": "markdown",
   "id": "f50b34a2",
   "metadata": {},
   "source": [
    "Hemos hablado anteriormente acerca de los condicionales, que nos permiten ejecutar diferentes fragmentos de código en función de ciertas condiciones. Ahora, nos centraremos en otra estructura de control, los **bucles**. Los bucles nos ofrecen la posibilidad de repetir un mismo fragmento de código un número específico de veces o mientras se cumpla una determinada condición. Los bucles son una herramienta poderosa y versátil en la programación, ya que nos permiten automatizar tareas y evitar la repetición manual del mismo código una y otra vez.\n",
    "\n",
    "Existen dos tipos principales de bucles en Python: el bucle `for` y el bucle `while`. El bucle `for` nos permite iterar sobre una secuencia de elementos, como una lista, una cadena de texto o un rango de números, y ejecutar el bloque de código correspondiente para cada elemento de la secuencia. Por otro lado, el bucle `while` se ejecuta mientras se cumpla una determinada condición, y nos permite repetir un bloque de código hasta que dicha condición deje de ser verdadera.\n",
    "\n",
    "```{note} \n",
    "Podemos clasificar los bucles en dos categorías principales según su forma de ejecución: bucles determinados (`for`) y bucles indeterminados (`while`). \n",
    "```\n",
    "\n",
    "Una de las principales ventajas de los bucles es que nos permiten ahorrar código y simplificar tareas repetitivas. En lugar de escribir instrucciones manualmente para cada repetición, podemos utilizar un bucle para automatizar la ejecución del código. Esto no solo ahorra tiempo y esfuerzo, sino que también facilita el mantenimiento y la modificación del código en el futuro, ya que solo tenemos que realizar cambios en un único bloque de código en lugar de múltiples repeticiones dispersas.\n",
    "\n",
    "Los bucles son especialmente útiles cuando necesitamos procesar grandes volúmenes de datos, realizar cálculos repetitivos, interactuar con elementos de una lista o realizar cualquier tarea que requiera repeticiones controladas. Su flexibilidad y capacidad para adaptarse a diferentes situaciones los convierten en una herramienta esencial en la programación, permitiéndonos escribir código más eficiente y conciso.\n"
   ]
  },
  {
   "cell_type": "markdown",
   "id": "d45b159c",
   "metadata": {},
   "source": [
    "## Ciclo `for`\n",
    "***\n",
    "\n",
    "En Python, el bucle `for` se utiliza como una forma general de iterar sobre una secuencia, es decir, recorre los elementos de un objeto iterable (listas, tuplas, diccionarios, entre otros) y ejecuta un bloque de código. En cada paso de la iteración considera a un único elemento del objeto iterable, sobre el cuál se pueden aplicar una serie de operaciones.\n",
    "\n",
    "La estructura del ciclo for, es la siguiente:\n",
    "\n",
    "```python\n",
    "for var in objeto:\n",
    "    \n",
    "    Instrucción\n",
    "```"
   ]
  },
  {
   "cell_type": "markdown",
   "id": "59d13d7f",
   "metadata": {},
   "source": [
    "donde:\n",
    "    \n",
    "- `var` → Representa la variable que se va iterando .\n",
    "- `in` → Representa el operador que permite evaluar si el valor especificado se enceuntra dentro de la secuencia.\n",
    "- `objeto` → Elemento implementado dentro de la estructura para realizar la indentación.\n",
    "- `Instrucción` → Representa las instrucciones que se van a repetir cierto número de veces. "
   ]
  },
  {
   "cell_type": "markdown",
   "id": "68340f61",
   "metadata": {},
   "source": [
    "### Ejemplo 1: Listas\n",
    " \n",
    " Para el siguiente ejemplo se hace uso de una lista"
   ]
  },
  {
   "cell_type": "code",
   "execution_count": null,
   "id": "214bca87",
   "metadata": {},
   "outputs": [],
   "source": [
    "Numeros = [1,2,3]\n",
    "\n",
    "for i in Numeros: \n",
    "    \n",
    "    print(i)\n",
    "    \n",
    "print(\"\\n\") "
   ]
  },
  {
   "cell_type": "markdown",
   "id": "e6cf4db0",
   "metadata": {},
   "source": [
    "De acuerdo a la lista definida como `Numeros`, el cual contiene en ella números que esta determinados, por lo que es posible recorrer mediante el ciclo **for**. La variable que se usa en este ejemplo es: `i`, el cual iterarará en la lista `Numeros`. \n",
    "\n",
    "El `print(i)` la función que cumple, es que cada vez que entre el **bucle for**, será un elemento de la lista de `Numeros`. Por esta razón en la primera iteración del bucle elemento valdrá `1`, en la segunda `2`, y en la tercera `3`.\n",
    "\n",
    "|Estructura| Estructura|\n",
    "| ---|---|\n",
    "| \"Variable\" | `i` |\n",
    "| \"Operador\" | `in`|\n",
    "| \"Objeto\" | `Numeros`|\n",
    "| \"Instrucción\" | `print(\"i\")`|\n",
    "\n"
   ]
  },
  {
   "cell_type": "markdown",
   "id": "e23c282f",
   "metadata": {},
   "source": [
    "En el siguiente ejemplo, se hace uso de una lista que contiene palabras"
   ]
  },
  {
   "cell_type": "code",
   "execution_count": null,
   "id": "e4246d8f",
   "metadata": {},
   "outputs": [],
   "source": [
    "for palabra in [\"Hola\", \"Python\", \"FCFM\", \"Luis\"]:  \n",
    "    \n",
    "    print(palabra, end=\" \")"
   ]
  },
  {
   "cell_type": "markdown",
   "id": "997f7dd0",
   "metadata": {},
   "source": [
    "|Estructura| Estructura|\n",
    "| ---|---|\n",
    "| \"Variable\" | `palabra` |\n",
    "| \"Operador\" | `in`|\n",
    "| \"Objeto\" | `[\"Hola\", \"Python\", \"FCFM\", \"Luis\"]`|\n",
    "| \"Instrucción\" | `print(palabra, end=\" \")`|\n",
    "\n",
    "En este ejemplo, ocurre lo mismo que en el anterior, con la diferencia que lo que se itera son palabras. \n",
    "\n",
    "**Nota**\n",
    "- *`end=\" \"`* → Representa un espacio en cada palabra cada vez que el ciclo for este iterando, es decir las palabras ya no estarán separadas con un salto de renglón."
   ]
  },
  {
   "cell_type": "markdown",
   "id": "b372e0a1",
   "metadata": {},
   "source": [
    "## Range \n",
    "\n",
    "Anteriormente se trabajó con una lista que iteraba sobre sus elementos, sin embargo, esto representa una acción ineficiente ya que pueden existir listas que contengan un mayor número de elementos. Por ejemplo, una lista que requiera añadir números del `0` al `1000`, esta acción se volvería tediosa. \n",
    "\n",
    "Para ello, el lenguaje `Python`, aporta una función llamada **range** que permite generar una lista que vaya desde el primer número que le indiquemos al segundo número que se quiera. \n"
   ]
  },
  {
   "cell_type": "markdown",
   "id": "49709d9a",
   "metadata": {},
   "source": [
    "Previamente se uso este ejemplo, con el bucle **for** para imprimir los elementos de la lista `Numeros`, ahora si se requiere iterar hasta un delimitado número de elementos, se hace uso del \"range\". \n",
    "\n",
    "```{warning}\n",
    "El range comienza desde una poscición ya establecida en la posición 0, por lo tanto el bucle itera hasta el número que se asigna, menos uno. \n",
    "```"
   ]
  },
  {
   "cell_type": "markdown",
   "id": "683f4f9d",
   "metadata": {},
   "source": [
    "La función range abarca mas beneficios para iterar sobre un bucle for, ya que si se desea eleguir el elemento en el que se quiere comenzar hasta que elemento se quiere terminar y establecer una secuencia entre el elemento inicial hasta el elemento de llegada, se agrega una comas más, tal como muestra el siguiente formato: `range(Inicio, Final, Salto)`\n",
    "\n",
    "Donde:\n",
    "    \n",
    "- *`Inicio`* → Representa el elemento donde comienza el bucle .\n",
    "- *`Final`* → Representa el elemento donde termina el bucle .\n",
    "- *`salto`* → Representa la secuencia entre elemento inicial y final\n",
    "`"
   ]
  },
  {
   "cell_type": "markdown",
   "id": "c74135be",
   "metadata": {},
   "source": [
    "Para que quede más claro, se toma el siguiente ejemplo: "
   ]
  },
  {
   "cell_type": "code",
   "execution_count": 8,
   "id": "a601baea",
   "metadata": {},
   "outputs": [
    {
     "name": "stdout",
     "output_type": "stream",
     "text": [
      "7\n",
      "9\n",
      "11\n"
     ]
    }
   ],
   "source": [
    "for i in range(7, 12, 2):\n",
    "    \n",
    "    print(i)\n",
    "    "
   ]
  },
  {
   "cell_type": "markdown",
   "id": "a3d35e36",
   "metadata": {},
   "source": [
    "En este caso, el ciclo for recorre hasta el elemento `12` en un salto de dos en dos. "
   ]
  },
  {
   "cell_type": "markdown",
   "id": "63942fb1",
   "metadata": {},
   "source": [
    "Otra implementación que agrega el \"range\" es la transformación de listas a tuplas, es decir transformar el rango en lista. \n",
    "Para ello se toma el siguiente ejemplo:"
   ]
  },
  {
   "cell_type": "code",
   "execution_count": null,
   "id": "4d220f0c",
   "metadata": {},
   "outputs": [],
   "source": [
    "x = list(range(1, 101))\n",
    "\n",
    "print(x)"
   ]
  },
  {
   "cell_type": "markdown",
   "id": "b8d749a0",
   "metadata": {},
   "source": [
    "De acuerdo a esta ejemplo, se define una variable `x` que imprime una lista que va desde el `1` al `100`, pero para realizar la transformación a lista se antepone la palabra `list` seguido de la función `range`, de esta forma no es necesario definir una lista previamente que contenga una cantidad elementos tan grande ya que se puede crear gracias a la función \"range\". \n",
    "\n"
   ]
  },
  {
   "cell_type": "markdown",
   "id": "c489d2fa",
   "metadata": {},
   "source": [
    "## Iteración sobre cadenas de texto"
   ]
  },
  {
   "cell_type": "markdown",
   "id": "d6446a6d",
   "metadata": {},
   "source": [
    "`Python`, también nos brinda la iteración sobre cadenas de cáracteres, esto se debe a que `Python` interpreta las cadenas de texto como una `lista de letras`. \n",
    "\n",
    "Para introducir lo anterior, se toma el siguiente ejemplo: "
   ]
  },
  {
   "cell_type": "code",
   "execution_count": null,
   "id": "2a3fbe5b",
   "metadata": {},
   "outputs": [],
   "source": [
    "H = \"Hola mundo, estamos aprendiendo bucles\""
   ]
  },
  {
   "cell_type": "markdown",
   "id": "cd85b59c",
   "metadata": {},
   "source": [
    "Se define una variable `H`, en donde de acuerdo a lo que contiene la cadena de texo, se puede decir que el primer elemento de esta lista es `H`, el segundo elemento es `o`, el tercer elemento es `l`, el cuarto es `a`, el quinto es `un espacio`, etc. "
   ]
  },
  {
   "cell_type": "markdown",
   "id": "7feabb61",
   "metadata": {},
   "source": [
    "Ahora, se hace uso de un ciclo for, que itera sobre la variable `H`."
   ]
  },
  {
   "cell_type": "code",
   "execution_count": null,
   "id": "0ef93012",
   "metadata": {},
   "outputs": [],
   "source": [
    "H = \"Hola mundo, estamos aprendiendo bucles\"\n",
    "for letra in H:\n",
    "    print(letra, end=\"\")"
   ]
  },
  {
   "cell_type": "markdown",
   "id": "332d1c22",
   "metadata": {},
   "source": [
    "De acuerdo al ciclo for, donde: \n",
    "\n",
    "|Estructura| Estructura|\n",
    "| ---|---|\n",
    "| \"Variable\" | `letra` |\n",
    "| \"Operador\" | `in`|\n",
    "| \"Objeto\" | `H`|\n",
    "| \"Instrucción\" | `print(letra, end=\"\")`|\n",
    "\n",
    "Lo que hace es iterar sobre cada elemento de la lista, por lo que al imprimir el resultado arrojado será: `Hola mundo, estamos aprendiendo bucles`.\n",
    "\n",
    "Sin embargo, hay distintas maneras de poder imprimir esta variable `H`. El sigueinte ejemplo muestra un formato que empezó a estar en `python 3.6`, que es utilizar una letra `f` al principio de la cadena que se quiera imprimir, luego se abren llaves para imprimir la variable, es decir: \n",
    "`print(f\"Cadena de texto: {variable}\")`. \n",
    "\n",
    "Utilizando el formato `f`, se utiliza el siguiente ejemplo. \n",
    "\n"
   ]
  },
  {
   "cell_type": "code",
   "execution_count": 11,
   "id": "b460ec66",
   "metadata": {},
   "outputs": [
    {
     "name": "stdout",
     "output_type": "stream",
     "text": [
      "El número es 0\n",
      "El número es 1\n",
      "El número es 2\n",
      "El número es 3\n",
      "El número es 4\n",
      "El número es 5\n",
      "El número es 6\n",
      "El número es 7\n",
      "El número es 8\n",
      "El número es 9\n",
      "El número es 10\n"
     ]
    },
    {
     "ename": "NameError",
     "evalue": "name 'Numeros' is not defined",
     "output_type": "error",
     "traceback": [
      "\u001b[1;31m---------------------------------------------------------------------------\u001b[0m",
      "\u001b[1;31mNameError\u001b[0m                                 Traceback (most recent call last)",
      "\u001b[1;32m~\\AppData\\Local\\Temp\\ipykernel_15976\\2067051146.py\u001b[0m in \u001b[0;36m<module>\u001b[1;34m\u001b[0m\n\u001b[0;32m      3\u001b[0m     \u001b[0mprint\u001b[0m\u001b[1;33m(\u001b[0m\u001b[1;34mf\"El número es {k}\"\u001b[0m\u001b[1;33m)\u001b[0m\u001b[1;33m\u001b[0m\u001b[1;33m\u001b[0m\u001b[0m\n\u001b[0;32m      4\u001b[0m \u001b[1;33m\u001b[0m\u001b[0m\n\u001b[1;32m----> 5\u001b[1;33m \u001b[0mprint\u001b[0m\u001b[1;33m(\u001b[0m\u001b[1;34mf\"La primera lista del program es {Numeros}\"\u001b[0m\u001b[1;33m)\u001b[0m\u001b[1;33m\u001b[0m\u001b[1;33m\u001b[0m\u001b[0m\n\u001b[0m\u001b[0;32m      6\u001b[0m \u001b[1;33m\u001b[0m\u001b[0m\n",
      "\u001b[1;31mNameError\u001b[0m: name 'Numeros' is not defined"
     ]
    }
   ],
   "source": [
    "for k in range(11):\n",
    "    print(f\"El número es {k}\")    \n",
    "    \n",
    "\n",
    "    "
   ]
  },
  {
   "cell_type": "markdown",
   "id": "6ac9e84f",
   "metadata": {},
   "source": [
    "|Estructura| Estructura|\n",
    "| ---|---|\n",
    "| \"Variable\" | `K` |\n",
    "| \"Operador\" | `in`|\n",
    "| \"Objeto\" | `[0,1,2,3,4,5,6,7,8,9,10,11]`|\n",
    "| \"Instrucción\" | `print(f\"El número es {k}\")`|"
   ]
  },
  {
   "cell_type": "markdown",
   "id": "c8a4ce98",
   "metadata": {},
   "source": [
    "El ciclo for recorre un rango que abarca hasta el elemento `10`, lo que ocurre es que a cada elemento de ese rango al imprimir realiza un salto de linea añadiendo `El número es`, es decir: \n",
    "Para el el elemento `1`, imprime `El número es 0`, para el elemento `2`, `El número es 1`, etc."
   ]
  },
  {
   "cell_type": "markdown",
   "id": "932a3017",
   "metadata": {},
   "source": [
    "Para terminar con el bucle **for**, para entender la utilidad. En ocasiones se quiere evaluar, sumas o mejor conocidas como sumatorias de un conjunto de numeros. \n",
    "\n",
    "Para ello, imagine que desea sumar un conunto de números enteros que abarca hasta el `100`. Con el bucle **for** esta acción se vulve fácil ya que "
   ]
  },
  {
   "cell_type": "code",
   "execution_count": 15,
   "id": "3aa0a075",
   "metadata": {},
   "outputs": [
    {
     "name": "stdout",
     "output_type": "stream",
     "text": [
      "La suma de los primeros 100 enteros es:  5050\n"
     ]
    }
   ],
   "source": [
    "suma = 0 \n",
    "for i in range(101): \n",
    "    suma += i \n",
    "print(\"La suma de los primeros 100 enteros es: \", suma)"
   ]
  },
  {
   "cell_type": "markdown",
   "id": "a8cb1253",
   "metadata": {},
   "source": [
    "Donde: \n",
    "- *`+=`* → suma = suma + i .\n",
    "\n",
    "Para ello se requiere definir la variable `suma`, ya que la máquina necesita intepretar que es a lo que se refiere con suma. \n",
    "Para ello se define `suma` fuera del ciclo for, con valor `0`. Esto significa que dado que `suma` vale `0` no alterara el resultado ya que al entrar al bucle se sumará con el primer elemento que recorre la variable `i` que es `0`, pero `i` aumentará en cada iteración. \n",
    "\n",
    "Dando como resultado: `5050`"
   ]
  },
  {
   "cell_type": "markdown",
   "id": "e0365a04",
   "metadata": {},
   "source": [
    "Esta sumatoria puede resultar un tanto trivial, dado que ya existe una fomrula la cual nos dice que si se quiere sumar hasta `n` elementos, entonces la suma es igual a: $$suma = \\frac{ n(n+1)}{2}$$"
   ]
  },
  {
   "cell_type": "markdown",
   "id": "e03b0eab",
   "metadata": {},
   "source": [
    "## Bucle While "
   ]
  },
  {
   "cell_type": "markdown",
   "id": "62e95ef8",
   "metadata": {},
   "source": [
    "Acontinuación se hablará de lo que es un ciclo **while**, anteriormente se explicó lo que era el ciclo **for** el cual se utilizaba para iterar sobre un cierto número de veces `determinado` , en cambio el bucle **while** es un ciclo `indeterminado`, es decir, que no se conoce el número de veces que se va ejecutar la instrucción que esta contenida dentro del ciclo while. \n",
    "\n",
    "La estructura del ciclo while, es la siguiente: \n"
   ]
  },
  {
   "cell_type": "code",
   "execution_count": 17,
   "id": "59806234",
   "metadata": {},
   "outputs": [
    {
     "ename": "NameError",
     "evalue": "name 'conidición' is not defined",
     "output_type": "error",
     "traceback": [
      "\u001b[1;31m---------------------------------------------------------------------------\u001b[0m",
      "\u001b[1;31mNameError\u001b[0m                                 Traceback (most recent call last)",
      "\u001b[1;32m~\\AppData\\Local\\Temp\\ipykernel_15976\\3325254634.py\u001b[0m in \u001b[0;36m<module>\u001b[1;34m\u001b[0m\n\u001b[1;32m----> 1\u001b[1;33m \u001b[1;32mwhile\u001b[0m \u001b[0mconidición\u001b[0m\u001b[1;33m:\u001b[0m\u001b[1;33m\u001b[0m\u001b[1;33m\u001b[0m\u001b[0m\n\u001b[0m\u001b[0;32m      2\u001b[0m     \u001b[0mInstrucción\u001b[0m\u001b[1;33m\u001b[0m\u001b[1;33m\u001b[0m\u001b[0m\n",
      "\u001b[1;31mNameError\u001b[0m: name 'conidición' is not defined"
     ]
    }
   ],
   "source": [
    "while conidición: \n",
    "    Instrucción "
   ]
  },
  {
   "cell_type": "markdown",
   "id": "fbf0a5f9",
   "metadata": {},
   "source": [
    "El ciclo while significa que mientras se cumpla dicha condición se ejecutará la instrucción. "
   ]
  },
  {
   "cell_type": "code",
   "execution_count": null,
   "id": "329d9286",
   "metadata": {},
   "outputs": [],
   "source": [
    "Para ello se pasará al siguiente ejemplo: "
   ]
  },
  {
   "cell_type": "code",
   "execution_count": 23,
   "id": "984f507a",
   "metadata": {},
   "outputs": [
    {
     "name": "stdout",
     "output_type": "stream",
     "text": [
      "0\n",
      "1\n",
      "2\n",
      "3\n",
      "4\n",
      "5\n",
      "6\n",
      "7\n",
      "8\n",
      "9\n",
      "10\n"
     ]
    }
   ],
   "source": [
    "i = 0\n",
    "while i <= 10: \n",
    "    print(i)\n",
    "    i = i + 1 \n",
    "    "
   ]
  },
  {
   "cell_type": "markdown",
   "id": "ec1b2245",
   "metadata": {},
   "source": [
    "La manera de iterar en un ciclo while es que se debe definir una variable de iteración, en este caso `i = 0` en donde la condición que `i <= 10`, imprime la variable `i`, sin embargo esta variable `i`, es una variable que se mantiene estática a diferencia del ciclo que **for** que esta en constante aumento. Si esta variable `i` no se aumenta se volverá un ciclo infinito porque todo el tiempo `i` es igual a `0`.  Para ello se agrega la instrucción que `i = i + 1`, en este caso la variable `i` entra al ciclo **while** como `0`, luego imprime la variable `i` para después aumenatrse y de esa forma se evita que la variable sea estática para que esta comience a reasignarse hasta que cumpla la condición `i <= 10`.  \n",
    "\n",
    "Para el siguiente ejemplo, se utiliza el anterior añadiendo en este caso la orden **break** "
   ]
  },
  {
   "cell_type": "code",
   "execution_count": null,
   "id": "e7949766",
   "metadata": {},
   "outputs": [],
   "source": [
    "i = 0\n",
    "while i <= 10: \n",
    "    if i == 5:\n",
    "        print(\"ciclo terminado\")\n",
    "        break\n",
    "    print(i)\n",
    "    i = i + 1 "
   ]
  },
  {
   "cell_type": "markdown",
   "id": "014e6521",
   "metadata": {},
   "source": [
    "El **break**, se usa para detener el ciclo cuando la variable `i` llegue a un cierto número que este propuesto por un condicional, tal fue el caso del `if i == 5:`,es decir, que sale del bucle para ejecutar las demas instrucciones si es que hay alguna otra, tal como se muestra en el ejemplo, en donde la primera iteración es `0`, la segunda itearción `1`, tercera iteración `2`, cuarta iteración `3` y quinta iteración `4`; dado que se cumple la condición que `i == 5` ejecuta la condición imprimiendo `ciclo terminado` y corta el ciclo por lo que ya no realiza las demas iteraciones."
   ]
  },
  {
   "cell_type": "markdown",
   "id": "eaa688f0",
   "metadata": {},
   "source": [
    "También se encuentra la declaración `continue`, su función es saltarse la iteración, para regresar al bucle **while** y continuar ejecutandolo. Como se muestra en el ejemplo."
   ]
  },
  {
   "cell_type": "code",
   "execution_count": 38,
   "id": "1d466d1d",
   "metadata": {},
   "outputs": [
    {
     "name": "stdout",
     "output_type": "stream",
     "text": [
      "1\n",
      "2\n",
      "3\n",
      "4\n",
      "Nos saltamos el 5\n",
      "6\n",
      "7\n",
      "8\n",
      "9\n",
      "10\n",
      "11\n"
     ]
    }
   ],
   "source": [
    "i = 0\n",
    "\n",
    "while i <= 10: \n",
    "    \n",
    "    i = i + 1 \n",
    "    \n",
    "    if i == 5:\n",
    "        \n",
    "        print(\"Nos saltamos el 5\")\n",
    "        \n",
    "        continue\n",
    "    print(i)"
   ]
  },
  {
   "cell_type": "markdown",
   "id": "3a81b3c2",
   "metadata": {},
   "source": [
    "## Ejemplo con ciclo while, \"Determinar números pares o impares\"\n",
    "Para el siguiente ejemplo se basa en determinar cuales números son pares o impares. \n",
    "\n",
    "\n"
   ]
  },
  {
   "cell_type": "code",
   "execution_count": null,
   "id": "7ea0049f",
   "metadata": {},
   "outputs": [],
   "source": [
    "N = int(input(\"Dame el número que deseas: \"))\n",
    "\n",
    "i = 1 \n",
    "\n",
    "#Operación módulo %   a%b\n",
    "\n",
    "while i <= N:\n",
    "    \n",
    "    if i%2 == 0:\n",
    "        \n",
    "        print(f\"{i} es un número par\")\n",
    "        \n",
    "    else:\n",
    "        \n",
    "        print(f\"{i} es un número impar\")\n",
    "        \n",
    "    i += 1"
   ]
  },
  {
   "cell_type": "markdown",
   "id": "52965518",
   "metadata": {},
   "source": [
    "Para ello, se pide al usuario hasta que número se quiere obtener los resultados. \n",
    "\n",
    "Par ello se usa un cicilo **while**, en el cual previamente se define una variable de iteración como `i = 0`. La condición del ciclo **while** esta dada por: `i <= N`, iterará sobre todos esos números. Luego se añade una condicional para determinar si la variable de iteración es par o impar, para ello se usa la operación módulo que esencia es hacer la división de esos dos números y obtener el resto. \n",
    "\n",
    "- `si el módulo es 0, entonces es par`\n",
    "- `si el módulo es distinto de 0, entonces es impar`\n",
    "\n",
    "Siguiendo estos punto se relizan las condiciones, en donde si `if i%2 == 0: ` entonces es par, y la opción por default que viene dada por `else` que significa que el número es impar. \n",
    "\n",
    "Recordando que la variable `i` debe estar aumentado y asi evitar un ciclo infinto "
   ]
  },
  {
   "cell_type": "markdown",
   "id": "6039ea24",
   "metadata": {},
   "source": [
    "## While True\n",
    "Otra forma de realizar un ciclo **while**, es utilizando la variable `True`, dado que `True` es verdadero, es una condición que siempre se cumple por lo que el ciclo comenzará a iterarse de manera indefinida, donde la única manera de cortarse es por medio de un **break**. "
   ]
  },
  {
   "cell_type": "markdown",
   "id": "8eea526c",
   "metadata": {},
   "source": [
    "Para ello se propone el siguiente ejemplo: "
   ]
  },
  {
   "cell_type": "code",
   "execution_count": null,
   "id": "21ebf003",
   "metadata": {},
   "outputs": [],
   "source": [
    "while True: \n",
    "    \n",
    "    edad = int(input(\"Digita tu edad: \"))\n",
    "    \n",
    "    if edad == 18 and edad >= 18:\n",
    "        \n",
    "        print(\"Acceso a la página\")\n",
    "        \n",
    "        break \n",
    "    \n",
    "    else:\n",
    "    \n",
    "        print(\"No tienes acceso\")\n",
    "        print(\"Eres menor de edad\")"
   ]
  },
  {
   "cell_type": "markdown",
   "id": "1339a618",
   "metadata": {},
   "source": [
    "En este programa, se pide al usuario ingresra su edad. Luego se hace uso de un condicional `if edad >= 0 and edad >= 18:`\n",
    "\n",
    "Notese que el usario puede digitar las veces que desee la edad, aun si la condición no es valida, ya que el bucle seguirá repitiendose hasta que la condición se cumpla y logre acceder a la página"
   ]
  },
  {
   "cell_type": "code",
   "execution_count": null,
   "id": "95cd52aa",
   "metadata": {},
   "outputs": [],
   "source": []
  }
 ],
 "metadata": {
  "hide_input": false,
  "kernelspec": {
   "display_name": "Python 3 (ipykernel)",
   "language": "python",
   "name": "python3"
  },
  "language_info": {
   "codemirror_mode": {
    "name": "ipython",
    "version": 3
   },
   "file_extension": ".py",
   "mimetype": "text/x-python",
   "name": "python",
   "nbconvert_exporter": "python",
   "pygments_lexer": "ipython3",
   "version": "3.8.12"
  },
  "toc": {
   "base_numbering": 1,
   "nav_menu": {},
   "number_sections": true,
   "sideBar": true,
   "skip_h1_title": false,
   "title_cell": "Table of Contents",
   "title_sidebar": "Contents",
   "toc_cell": false,
   "toc_position": {},
   "toc_section_display": true,
   "toc_window_display": false
  }
 },
 "nbformat": 4,
 "nbformat_minor": 5
}
