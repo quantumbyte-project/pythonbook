{
 "cells": [
  {
   "cell_type": "markdown",
   "id": "1a7127f2",
   "metadata": {},
   "source": [
    "# 1.4 Instalación de Python"
   ]
  },
  {
   "cell_type": "markdown",
   "id": "c458fb9e",
   "metadata": {},
   "source": [
    "```{admonition} Advertencia\n",
    ":class: warning\n",
    "Este libro está actualmente en proceso de desarrollo, por lo que es posible que algunos de sus contenidos aún no estén disponibles. Agradecemos su comprensión mientras trabajamos en completarlo y mejorar su contenido.\n",
    "```"
   ]
  },
  {
   "cell_type": "markdown",
   "id": "d2361286",
   "metadata": {},
   "source": [
    "Hemos visto cómo nos comunicamos con las computadoras, lo cual nos llevo a conocer los lenguajes de programación. Y como hemos dicho en este libro utilizaremos el lenguaje de programación Python. Ahora, veremos cómo podemos tener instalado Python en nuestra computadora.\n",
    "\n",
    "Para computadoras WIndows te recomiendo entrar a \n",
    "\n",
    "[Python](https://www.python.org/)"
   ]
  },
  {
   "cell_type": "markdown",
   "id": "490d1e07",
   "metadata": {},
   "source": [
    "## Anaconda"
   ]
  },
  {
   "cell_type": "markdown",
   "id": "f9d2cd67",
   "metadata": {},
   "source": [
    "### Windows"
   ]
  },
  {
   "cell_type": "markdown",
   "id": "649877b0",
   "metadata": {},
   "source": [
    "### Linux\n",
    "\n",
    "Para instalar Anaconda en un sistema GNU/Linux debe seguir los siguientes paso:\n",
    "\n",
    "1. Descargue el instalador en el siguiente [enlace](https://www.anaconda.com/products/individual).\n",
    "\n",
    "\n",
    "2. Al tener descargado el instalador, debemos abrir la terminal en la carpeta donde se haya descargado el archivo.\n",
    "\n",
    "\n",
    "3. Ejecute el siguiente comando en la terminal\n",
    "\n",
    "    ``` terminal\n",
    "    bash ~/Downloads/Anaconda3-2020.02-Linux-x86_64.sh\n",
    "    ```\n",
    "\n",
    "\n",
    "4. Cierre y abra la ventana de su terminal para que la instalación surta efecto."
   ]
  },
  {
   "cell_type": "markdown",
   "id": "9f3a3721",
   "metadata": {},
   "source": [
    "### Mac OS"
   ]
  },
  {
   "cell_type": "markdown",
   "id": "4fa42afa",
   "metadata": {},
   "source": [
    "Instalado Python, en la siguiente sección veremos algunas herramientas con las que cuenta *Anaconda* para programar en dicho lenguaje. De igual manera, veremos una herramienta con la cual no es necesario instalar Anaconda para poder programar. "
   ]
  }
 ],
 "metadata": {
  "hide_input": false,
  "kernelspec": {
   "display_name": "Python 3 (ipykernel)",
   "language": "python",
   "name": "python3"
  },
  "language_info": {
   "codemirror_mode": {
    "name": "ipython",
    "version": 3
   },
   "file_extension": ".py",
   "mimetype": "text/x-python",
   "name": "python",
   "nbconvert_exporter": "python",
   "pygments_lexer": "ipython3",
   "version": "3.8.12"
  },
  "toc": {
   "base_numbering": 1,
   "nav_menu": {},
   "number_sections": true,
   "sideBar": true,
   "skip_h1_title": false,
   "title_cell": "Table of Contents",
   "title_sidebar": "Contents",
   "toc_cell": false,
   "toc_position": {},
   "toc_section_display": true,
   "toc_window_display": false
  }
 },
 "nbformat": 4,
 "nbformat_minor": 5
}
