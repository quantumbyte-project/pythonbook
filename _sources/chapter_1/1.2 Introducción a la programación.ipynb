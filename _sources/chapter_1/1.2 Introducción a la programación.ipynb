{
 "cells": [
  {
   "cell_type": "markdown",
   "metadata": {},
   "source": [
    "# 1.2 Introducción a la programación\n",
    "_________________"
   ]
  },
  {
   "cell_type": "markdown",
   "metadata": {},
   "source": [
    "Si bien hemos explorado cómo intercambiar información con una computadora, es importante tener en cuenta que para los seres humanos no resulta tan sencillo escribir directamente una secuencia de \"1s\" y \"0s\" como forma de comunicación con estas máquinas. Es por ello que existe una manera más accesible de establecer esta comunicación: la programación.\n",
    "\n",
    "Hasta ahora, hemos observado que las computadoras tienen la capacidad de realizar cálculos y tomar decisiones lógicas a una velocidad increíblemente superior a la de los seres humanos, convirtiéndolas en herramientas de gran utilidad. Estas máquinas procesan datos mediante conjuntos de instrucciones conocidos como programas de computadora, y la creación de estos programas se denomina programación. Los programas guían a la computadora a través de una secuencia ordenada de acciones, especificadas por aquellos que son conocidos como programadores de computadoras.\n",
    "\n",
    "```{margin} Programación hoy en día\n",
    "<img alt=\"Programación\" src=images/Programa.jpg>\n",
    "```\n",
    "\n",
    "Es importante destacar que no se debe confundir la programación con la mera computación. La diferencia entre estos dos términos puede ser equiparada a la diferencia entre conocer la fórmula para resolver una ecuación cuadrática y tener un conocimiento más profundo de la teoría de las ecuaciones en general.    "
   ]
  },
  {
   "cell_type": "markdown",
   "metadata": {},
   "source": [
    "## 1.2.1 Los lenguajes de programación\n",
    "***"
   ]
  },
  {
   "cell_type": "markdown",
   "metadata": {},
   "source": [
    "La creación de un programa, que pueda ser interpretado y ejecutado por una computadora, requiere que las instrucciones sean escritas en un lenguaje de programación.\n",
    "\n",
    "En sus inicios, las computadoras solo interpretaban instrucciones en un lenguaje específico de bajo nivel conocido como **lenguaje máquina**. Este lenguaje consiste en cadenas de números binarios (0s y 1s), como vimos en la sección anterior. Sin embargo, resultaba difícil de comprender para los humanos. Con el fin de facilitar el trabajo de programación, se comenzaron a utilizar abreviaturas en inglés para representar operaciones básicas. Estas abreviaturas sentaron las bases de los lenguajes ensambladores. Se desarrollaron programas llamados ensambladores, que convertían los programas escritos en **lenguaje ensamblador** al lenguaje máquina, el cual es comprendido por las computadoras.\n",
    "\n",
    "Conforme aumentaba la complejidad de las tareas realizadas por las computadoras, surgió la necesidad de contar con un método más sencillo para programar. Fue así como se crearon los **lenguajes de alto nivel**, en los cuales era posible escribir instrucciones individuales para llevar a cabo tareas más complejas. Estos lenguajes de alto nivel permiten escribir instrucciones que se asemejan al inglés y contienen expresiones matemáticas de uso común. Los programas traductores, conocidos como compiladores, se encargan de convertir los programas escritos en lenguaje de alto nivel al lenguaje máquina.\n",
    "\n",
    "A lo largo de la historia de los lenguajes de programación, la idea principal ha sido simplificar, flexibilizar y hacer que la tarea de crear programas para computadoras sea cada vez más sencilla y portátil. Se ha buscado encontrar formas de programación más accesibles para los seres humanos, a fin de impulsar el desarrollo de la informática."
   ]
  },
  {
   "cell_type": "markdown",
   "metadata": {},
   "source": [
    "### Lenguajes de programación de alto nivel"
   ]
  },
  {
   "cell_type": "markdown",
   "metadata": {},
   "source": [
    "Como hemos visto, los lenguajes de alto nivel se caracteriza por expresar los algoritmos de una manera adecuada a la capacidad cognitiva humana, en lugar de la capacidad con que los ejecutan las máquinas. \n",
    "\n",
    "```{margin} Lenguajes de programación de alto nivel\n",
    "<img alt=\"Lenguajes de programación\" src=Imagenes/Programacion.png>\n",
    "```\n",
    "\n",
    "El primer lenguaje de uso generalizado orientado a esto fue <b>FORTRAN</b> (<i>Formula Translator</i>), alrededor de 1956. Pocos años después se desarrolló un lenguaje para usos comerciales, donde lo que se deseaba es poder manejar datos a distintos niveles de agregación. Este lenguaje se llamaba <b>COBOL</b>(<i>COmon Bussiness Oriented Language</i>). Ambos lenguajes, o versiones modernizadas, sobreviven hasta nuestros días. Hacia finales de los años 50 se diseño un lenguaje, <b>ALGOL</b> (<i>ALGorithmic Oriented Language</i>) que resultó ser el modelo de desarrollo de prácticamente todos los lenguajes orientados a algoritmos de hoy en día, como <b>Pascal, C, C++, Java</b> y muchos más.    \n",
    "\n",
    "Apesar que estos últimos lenguajes pueden ser más utilizados que los primeros, además que los primeros pueden ser considerados lenguajes \"viejos\", no se consideran obsoletos. En particular FORTRAN sigue siendo muy utilizado en la física, debido que está especialmente adaptado al cálculo numérico y a la computación científica. \n",
    "\n",
    "El proceso de compilación de un programa escrito en lenguaje de alto nivel a un lenguaje máquina puede tardar un tiempo considerable en la computadora. Los <b>programas intérpretes</b> se desarrollaron para ejecutar programas en lenguaje de alto nivel de manera directa, esta modalidad de trabajo es equivalente pero se realiza instrucción por instrucción, es decir, se traduce a medida que es ejecutado el programa, esto ocasiona que la ejecución del programa sea más lenta en comparación a los programas compilados. Los lenguajes de secuencias de comandos, como los populares lenguajes <b>Python, JavaScript</b> y <b>PHP</b>, son procesados por intérpretes. \n",
    "\n",
    "El lenguaje de programación Python es el más llamativo para nuestros propositos en computación científica. Según el índice de la comundidad de programación <i>TIOBE</i>, este lenguaje  de programación se encuentra entre los primeros tres más usados, los otros puesto los ocupa Java (2°) y C (1°). El índice TIOBE puede consultarse en: https://www.tiobe.com/tiobe-index/"
   ]
  },
  {
   "cell_type": "markdown",
   "metadata": {},
   "source": [
    "Como hemos visto, los lenguajes de programación de alto nivel se caracterizan por permitir expresar los algoritmos de una manera más adecuada a la capacidad cognitiva humana, en contraste con la capacidad de ejecución de las máquinas.\n",
    "\n",
    "```{margin} Lenguajes de programación de alto nivel\n",
    "<img alt=\"Lenguajes de programación\" src=images/Programacion.png>\n",
    "```\n",
    "\n",
    "El primer lenguaje de programación de uso general orientado a este enfoque fue **FORTRAN** (*Formula Translator*), desarrollado alrededor de 1956. Pocos años después, surgió un lenguaje diseñado para aplicaciones comerciales que buscaba manejar datos a diferentes niveles de agregación, conocido como **COBOL** (*COmmon Business Oriented Language*). Tanto FORTRAN como COBOL, o versiones modernizadas de ellos, siguen siendo utilizados hasta el día de hoy. Hacia finales de los años 50, se desarrolló el lenguaje **ALGOL** (*ALGorithmic Oriented Language*), que se convirtió en el modelo de desarrollo para la mayoría de los lenguajes orientados a algoritmos que se utilizan en la actualidad, como **Pascal**, **C**, **C++**, **Java**, entre otros.\n",
    "\n",
    "A pesar de que los lenguajes más recientes pueden ser más ampliamente utilizados y se consideran más modernos en comparación con los primeros lenguajes, estos últimos no se consideran obsoletos. En particular, FORTRAN sigue siendo muy utilizado en el campo de la física, ya que está especialmente adaptado para el cálculo numérico y la computación científica.\n",
    "\n",
    "El proceso de compilación de un programa escrito en un lenguaje de alto nivel a lenguaje máquina puede llevar cierto tiempo en la computadora. Para abordar esta cuestión, se desarrollaron los **programas intérpretes**, que permiten ejecutar programas en lenguajes de alto nivel de forma directa. Esta modalidad de trabajo es equivalente, pero se realiza instrucción por instrucción, es decir, la traducción se lleva a cabo a medida que el programa se ejecuta. Esto implica que la ejecución del programa sea más lenta en comparación con los programas compilados. Los lenguajes de secuencias de comandos, como **Python**, **JavaScript** y **PHP**, son procesados por intérpretes.\n",
    "\n",
    "En el ámbito de la computación científica, el lenguaje de programación **Python** destaca significativamente. Según el índice de popularidad de programación TIOBE, Python se encuentra en el primer lugar de los lenguajes más utilizados, mientras que C, C++ y Javan ocupan los siguientes tres puestos respectivamente. El índice TIOBE se puede consultar en https://www.tiobe.com/tiobe-index/. "
   ]
  },
  {
   "cell_type": "markdown",
   "metadata": {},
   "source": [
    "### Características de algunos lenguajes de alto nivel"
   ]
  },
  {
   "cell_type": "markdown",
   "metadata": {},
   "source": [
    "Dependiendo del tipo de problema que queramos resolver (numérico, administrativo, de propósito general, inteligencia artificial, lógico) tenemos distintos lenguajes de programación que permiten representar de mejor manera los formatos de los datos y los recursos que requerimos para resolver el problema. Así, para procesos numéricos se requiere de bibliotecas muy extensas con funciones matemáticas, un manejo sencillo de matrices y, en general, de espacios de varias dimensiones, etc. A continuación se presenta una tabla comparativa con los lenguajes de programación que esten más orientados a la computación científica.  "
   ]
  },
  {
   "cell_type": "markdown",
   "metadata": {},
   "source": [
    "|\tLenguaje | Características | Ventajas   |     Desventajas                   | \n",
    "| -----------|:----------------|:-----------|:---------------------------------\n",
    "|\tFORTRAN | Compilado | Rápido            | Uso único en campos científicos   |\n",
    "|\t\t\t| POO       | Sintaxis simple   |  Pocas librerias                  |\n",
    "|\t\t\t|           |  Tipado fuerte   | Lenguaje primitivo                 |\n",
    "|\t\t\t|           | Sencillo de aprender |                                |\n",
    "|\tC++ | Compilado | Ejecución rápida | Sintaxis compleja                      |\n",
    "|\t\t| POO  | Tipado fuerte  | Compilación lenta                             |         \n",
    "|\t\t|      |                 | Difícil de aprender                          | \n",
    "|\tPython | Interpretado | Sintaxis simple | Lento                             | \n",
    "|\t\t   | Multiparadigma | Muchas librerias  | Tipado dinámico               |\n",
    "|\t\t   |                | Sencillo de aprender |                            |"
   ]
  },
  {
   "cell_type": "markdown",
   "metadata": {},
   "source": [
    "Actualmente se encuentran proyectos en desarrollo como <b>Cython</b>, un lenguaje de programación que su objetivo es tomar lo mejor de Python y C++ para combinarlo en un mismo lenguaje de programación, es tener Python a la velocidad de C. También el proyecto <b>F2PY</b> que puede se utilizado para implementar subrutinas de FORTRAN en Python."
   ]
  },
  {
   "cell_type": "markdown",
   "metadata": {},
   "source": [
    "##  Paradigmas de programación"
   ]
  },
  {
   "cell_type": "markdown",
   "metadata": {},
   "source": [
    "Un paradigma de programación consiste en la forma en la que deben estructurarse y organizarse las tareas que debe realizar un programa. Representa un enfoque particular o filosofía para diseñar soluciones. Los paradigmas difieren unos de otros, en los conceptos y la forma de abstraer los elementos involucrados en un problema, así como en los pasos que integran su solución del problema. El paradigma de programación que actualmente es más utilizado es la \"orientación a objetos\" (POO). \n",
    "\n",
    "Los paradigmas de programación comunes son: \n",
    "\n",
    " - **Imperativo:** El programador instruye a la máquina cómo cambiar su estado.\n",
    " \n",
    "    - **Procedimental:** Agrupa las instrucciones en procedimientos.\n",
    "    - **Orientado a objetos:** Agrupa las instrucciones con la parte del estado en el que operan.\n",
    "\n",
    "- **Declarativo:** El programador simplemente declara las propiedades del resultado deseado, pero no cómo calcularlo.\n",
    "\n",
    "    - **Funcional:** El resultado deseado se declara como el valor de una serie de aplicaciones de función.\n",
    "    - **Lógica:** El resultado deseado se declara como la respuesta a una pregunta sobre un sistema de hechos y reglas.\n",
    "    - **Matemático:** El resultado deseado se declara como la solución de un problema de optimización.\n",
    "    - **Reactivo:** El resultado deseado se declara con flujos de datos y la propagación del cambio.\n",
    "       "
   ]
  },
  {
   "cell_type": "markdown",
   "metadata": {},
   "source": [
    "_______________________________________"
   ]
  },
  {
   "cell_type": "markdown",
   "metadata": {},
   "source": [
    "Los lenguajes de programación son bastante variados, tienen características distintas e incluso diferentes maneras para estructurar los programas. En particular el lenguaje de programación de alto nivel **Python** es el de mayor interés para nosotros, esto se debe a su características para la utilización en ciencia.  "
   ]
  }
 ],
 "metadata": {
  "hide_input": false,
  "kernelspec": {
   "display_name": "Python 3 (ipykernel)",
   "language": "python",
   "name": "python3"
  },
  "language_info": {
   "codemirror_mode": {
    "name": "ipython",
    "version": 3
   },
   "file_extension": ".py",
   "mimetype": "text/x-python",
   "name": "python",
   "nbconvert_exporter": "python",
   "pygments_lexer": "ipython3",
   "version": "3.8.12"
  },
  "toc": {
   "base_numbering": 1,
   "nav_menu": {},
   "number_sections": true,
   "sideBar": true,
   "skip_h1_title": false,
   "title_cell": "Table of Contents",
   "title_sidebar": "Contents",
   "toc_cell": false,
   "toc_position": {},
   "toc_section_display": true,
   "toc_window_display": false
  }
 },
 "nbformat": 4,
 "nbformat_minor": 4
}
