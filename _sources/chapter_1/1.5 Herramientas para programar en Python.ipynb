{
 "cells": [
  {
   "cell_type": "markdown",
   "id": "31723cef",
   "metadata": {},
   "source": [
    "# 1.5 Herramientas para programar en Python"
   ]
  },
  {
   "cell_type": "markdown",
   "id": "2556672e",
   "metadata": {},
   "source": [
    "```{admonition} Advertencia\n",
    ":class: warning\n",
    "Este libro está actualmente en proceso de desarrollo, por lo que es posible que algunos de sus contenidos aún no estén disponibles. Agradecemos su comprensión mientras trabajamos en completarlo y mejorar su contenido.\n",
    "```"
   ]
  },
  {
   "cell_type": "markdown",
   "id": "d0006458",
   "metadata": {},
   "source": [
    "Existen muchos editores de texto y algunos entorno de desarrollo para programar en Python pero solamente mencionaremos algunos"
   ]
  },
  {
   "cell_type": "markdown",
   "id": "5cf8fbd9",
   "metadata": {},
   "source": [
    "## Spyder "
   ]
  },
  {
   "cell_type": "markdown",
   "id": "d83f8879",
   "metadata": {},
   "source": [
    "## Jupyter Notebook"
   ]
  },
  {
   "cell_type": "markdown",
   "id": "559dfed7",
   "metadata": {},
   "source": [
    "## Google Colab"
   ]
  }
 ],
 "metadata": {
  "hide_input": false,
  "kernelspec": {
   "display_name": "Python 3 (ipykernel)",
   "language": "python",
   "name": "python3"
  },
  "language_info": {
   "codemirror_mode": {
    "name": "ipython",
    "version": 3
   },
   "file_extension": ".py",
   "mimetype": "text/x-python",
   "name": "python",
   "nbconvert_exporter": "python",
   "pygments_lexer": "ipython3",
   "version": "3.8.12"
  },
  "toc": {
   "base_numbering": 1,
   "nav_menu": {},
   "number_sections": true,
   "sideBar": true,
   "skip_h1_title": false,
   "title_cell": "Table of Contents",
   "title_sidebar": "Contents",
   "toc_cell": false,
   "toc_position": {},
   "toc_section_display": true,
   "toc_window_display": false
  }
 },
 "nbformat": 4,
 "nbformat_minor": 5
}
