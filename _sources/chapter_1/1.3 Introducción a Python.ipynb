{
 "cells": [
  {
   "cell_type": "markdown",
   "metadata": {},
   "source": [
    "# 1.3 Introducción a Python "
   ]
  },
  {
   "cell_type": "markdown",
   "metadata": {},
   "source": [
    "```{admonition} Advertencia\n",
    ":class: warning\n",
    "Este libro está actualmente en proceso de desarrollo, por lo que es posible que algunos de sus contenidos aún no estén disponibles. Agradecemos su comprensión mientras trabajamos en completarlo y mejorar su contenido.\n",
    "```"
   ]
  },
  {
   "cell_type": "markdown",
   "metadata": {},
   "source": [
    "Python es un lenguaje de programación de alto nivel, interpretado y multiparadigma. Fue creado por Guido Van Rossum a comienzos de los años 90. Cuenta con una gramática simple y sencilla, lo cual hace que Python sea facil de\n",
    "aprender y de usar.\n",
    "\n",
    "```{margin} Guido Van Rossum\n",
    "![Guido Van Rossum](Imagenes/descarga.jpeg)\n",
    "```\n",
    "\n",
    "Además, Python es un lenguaje muy popular y usado por organizaciones como Google, NASA, la CIA y Disney. También aplicaciones como Netflix, Instagram y Spotify utilizan Python. \n",
    "\n",
    "Una de las características que hace especial a Python es debido a que es multiproposito, esto quiere decir que es usado para muchos fines. Entre ellos son aplicaciones web, ciencia de datos, juegos, modelos de machine learning, computación científica, entre otras cosas."
   ]
  },
  {
   "cell_type": "markdown",
   "metadata": {},
   "source": [
    "## ¿Por qué programar en Python?"
   ]
  },
  {
   "cell_type": "markdown",
   "metadata": {},
   "source": [
    "\n",
    "Python cuenta con multiples características muy atractivas, las cuales lo hacen un lenguaje de programacion muy ideal para trabajar, como lo son:\n",
    "\n",
    "*   **Gramática muy simple y sencilla**: Esto hace muy fácil de aprender, a comparación de otros lenguajes, debido a que no hay ciertos aspectos que tienen otros lenguajes de programación, por ejemplo, el punto y coma, este no es necesario colocarlo al finalizar cada instrucción (se puede pero más adelante veremos el porqué).\n",
    "\n",
    "*   Es de **tipado dinámico**: Esto quiere decir que el interprete asigna el tipo de una variable durante su ejecución.\n",
    "\n",
    "*   El **tipado fuerte**: Esto quiere decir que sabe diferenciar muy bien entre los tipos de datos que hay, a lo mejor ustedes ya conocen algunos tipos de datos por ejemplo los enteros los flotantes, los caracteres o los boléanos.\n",
    "\n",
    "*   **Es multiparadigma** ya que cuenta con algunos paradigmas que vimos el capitulo anterior, como la programación orientada a objetos o la programación funcional. \n",
    "\n",
    "*   Tiene **librerías, o módulos, muy amplios**, no solo la librería estándar como tal, también existen librerías externas por decir un nombre, que son muy utilizadas en cuestiones científicas, y estas a su vez están optimizados y en constante actualización, créanme que están mejorando estos módulos para poder trabajar mucho mejor.\n",
    "\n",
    "*   Es **open source**, es decir que es de código abierto, es algo que tú puedes entrar al proyecto donde esté Python y tú puedes hacer modificaciones vamos a decirlo así, es una \n",
    "contribución entre muchas personas, esto quiere decir que muchas personas van haciéndole \n",
    "modificaciones y van mejorándolo cada día. \n",
    "\n",
    "*   El **bajo costo**, Python gratuito, esto es algo que me parece es muy importante porque muchas veces se utilizan softwares como Matlab que se tiene que pagar por alguna licencia, y eso reduce que varias personas no quieran utilizar el software o no puedan pagar para poder utilizar.\n",
    "\n",
    "*   **versátilidad**: con lo que quiero decir es que es un lenguaje multipropósito y que puede ser utilizado para muchas cosas, pudiendo trabajar con programación web, ciencia de datos, inteligencia artificial, también puedes crear incluso videojuegos, interfaces gráficas, entre otras cosas.\n",
    " \n",
    "   Por todo esto, es un lenguaje de programación muy utilizado en ciencia, al tener tantas herramientas y ser relativamente simple de aprender. ya que nosotros como científicos, físicos, matemáticos, etcétera, no es necesario aprender algo muy complejo de programación al final de cuentas.\n",
    "\n",
    "\n",
    "```{margin} Logo de Python\n",
    "<img alt=\"Python\" src=Imagenes/Python.png height=120px width=120px  >\n",
    "```"
   ]
  },
  {
   "cell_type": "markdown",
   "metadata": {},
   "source": [
    "    "
   ]
  }
 ],
 "metadata": {
  "hide_input": false,
  "kernelspec": {
   "display_name": "Python 3 (ipykernel)",
   "language": "python",
   "name": "python3"
  },
  "language_info": {
   "codemirror_mode": {
    "name": "ipython",
    "version": 3
   },
   "file_extension": ".py",
   "mimetype": "text/x-python",
   "name": "python",
   "nbconvert_exporter": "python",
   "pygments_lexer": "ipython3",
   "version": "3.8.12"
  },
  "toc": {
   "base_numbering": 1,
   "nav_menu": {
    "height": "10px",
    "width": "160px"
   },
   "number_sections": true,
   "sideBar": true,
   "skip_h1_title": false,
   "title_cell": "Table of Contents",
   "title_sidebar": "Contents",
   "toc_cell": false,
   "toc_position": {},
   "toc_section_display": true,
   "toc_window_display": false
  }
 },
 "nbformat": 4,
 "nbformat_minor": 4
}
