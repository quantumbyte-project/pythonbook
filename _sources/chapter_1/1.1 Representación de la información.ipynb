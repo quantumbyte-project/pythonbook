{
 "cells": [
  {
   "cell_type": "markdown",
   "id": "185f795f",
   "metadata": {},
   "source": [
    "# 1.1 Representación de la información\n",
    "***"
   ]
  },
  {
   "cell_type": "markdown",
   "id": "ad2190ef",
   "metadata": {},
   "source": [
    "En la actualidad, las computadoras desempeñan un papel fundamental en prácticamente todos los aspectos de nuestras vidas, convirtiéndose en una herramienta imprescindible para el ser humano.\n",
    "\n",
    "En pocas palabras, una computadora, también conocida como ordenador, es una máquina digital programable. Esto significa que puede ejecutar una serie de instrucciones, o comandos, para procesar datos de entrada y obtener información útil que se envía a través de dispositivos de salida. En resumen, una computadora realiza tareas específicas que le indicamos (entrada) y nos devuelve resultados después de cierto tiempo (salida).\n",
    "\n",
    "Si bien no nos adentraremos en la arquitectura interna de las computadoras en esta ocasión, es importante destacar que funcionan mediante circuitos eléctricos. Al conectar una computadora a una fuente de energía eléctrica, se habilita su capacidad para realizar una amplia variedad de tareas y resolver problemas en diferentes áreas de la actividad humana, como administración, ciencia, diseño, ingeniería, medicina, comunicaciones, música, entre otras.\n",
    "\n",
    "Pero, ¿cómo nos comunicamos con una computadora? Es posible que hayas escuchado la afirmación de que las computadoras funcionan con <i>\"unos y ceros\"</i>, pero esta respuesta puede no ser del todo clara. En esta sección, intentaremos brindar una idea básica del funcionamiento de las computadoras, centrándonos en la representación de información.\n",
    "\n",
    "La base del funcionamiento de las computadoras se basa en el sistema binario, que utiliza dos símbolos: el \"1\" y el \"0\". Estos símbolos se denominan **bits** y se utilizan para representar la información dentro de la computadora. A través de combinaciones de unos y ceros, se pueden representar números, caracteres, imágenes, sonidos y cualquier otra forma de datos.\n",
    "\n",
    "Para interactuar con una computadora, utilizamos diferentes dispositivos de entrada, como teclados y ratones, que nos permiten enviar comandos y datos. Estos dispositivos traducen nuestras acciones en señales eléctricas que la computadora puede entender."
   ]
  },
  {
   "cell_type": "markdown",
   "id": "52dac142",
   "metadata": {},
   "source": [
    "## 1.1.1 Sistemas de numeración\n",
    "***"
   ]
  },
  {
   "cell_type": "markdown",
   "id": "6b76cb7f",
   "metadata": {},
   "source": [
    "```{margin} \"Hola\" en algunos idiomas \n",
    "<img alt=\"Idiomas\" src=images/Lenguaje.png>\n",
    "```\n",
    "\n",
    "Como hemos mencionado anteriormente, cuando utilizamos una computadora, nos comunicamos con ella para asignarle tareas que queremos que realice.\n",
    "\n",
    "La comunicación, en esencia, implica el intercambio de información entre dos o más participantes. Sin embargo, para lograr ese intercambio de información, necesitamos un sistema estandarizado que nos permita entender y compartir la información de manera efectiva. Ese sistema de comunicación es lo que conocemos como lenguaje. Para los seres humanos, el lenguaje se basa en secuencias de sonidos y símbolos gráficos, a los cuales llamamos idiomas. Algunos ejemplos de idiomas son el español, inglés, francés, italiano, portugués, ruso, entre otros. Es evidente que no podemos comunicarnos directamente con una computadora utilizando los idiomas que conocemos, ya que esto resulta bastante complejo. Por lo tanto, necesitamos otro tipo de lenguaje específico para interactuar con las computadoras.\n",
    "\n",
    "Para comprender cómo nos comunicamos con las computadoras, primero debemos hablar sobre los sistemas de numeración, en particular el sistema decimal, que es el sistema que utilizamos en nuestra sociedad moderna para contar. Este sistema se basa en la presencia de diez símbolos específicos:\n",
    "\n",
    "$$0,1,2,3,4,5,6,7,8,9$$\n",
    "\n",
    "Estos símbolos son aquellos con los que estás familiarizado. Tu mente los relaciona automáticamente con cantidades numéricas, pero debemos tener en cuenta que son simplemente símbolos. Estos símbolos se conocen como números arábigos o dígitos, derivados de la palabra \"dedo\" en latín, ya que originalmente se utilizaban los dedos de las manos para contar. Tenemos diez dígitos porque tenemos diez dedos en nuestras manos.\n",
    "\n",
    "Esto significa que si en lugar de tener cinco dedos en cada mano, tuviéramos cuatro, entonces los dígitos serían:\n",
    "\n",
    "$$0,1,2,3,4,5,6,7$$\n",
    "\n",
    "Tendríamos un sistema octal en lugar de decimal. En este sistema, los símbolos \"8\" y \"9\" no existirían. Debemos recordar que tener diez, ocho o incluso dieciséis símbolos es solo una convención, un acuerdo al que hemos llegado como civilización para facilitar el conteo y la representación numérica.\n"
   ]
  },
  {
   "cell_type": "markdown",
   "id": "8a74cf0e",
   "metadata": {},
   "source": [
    "### 1.1.1.1 Ejemplo: Numeración en sistema decimal\n",
    "\n",
    "En el sistema decimal, cuando vamos contando y alcanzamos el último símbolo, el nueve (9), debemos comenzar nuevamente en el primer dígito, que es el 0. Sin embargo, cuando queremos representar un número más grande, agregamos una nueva columna y le añadimos el siguiente símbolo disponible, que es el 1. Así obtenemos el número 10. Veamos un ejemplo para entenderlo mejor:"
   ]
  },
  {
   "cell_type": "markdown",
   "id": "374d7da6",
   "metadata": {},
   "source": [
    "|Número|Símbolo|Número|Símbolo|\n",
    "|------|:------|:-----|:------|\n",
    "|cero  | 0     |siete |  7    |\n",
    "|uno   | 1     |ocho  |  8    | \n",
    "|dos   | 2     |nueve |  9    |  \n",
    "|tres  | 3     |diez  |  10   | \n",
    "|cuatro| 4     |once  |  11   |  \n",
    "|cinco | 5     |doce  |  12   |  \n",
    "|seis  | 6     |trece |  13   | "
   ]
  },
  {
   "cell_type": "markdown",
   "id": "2672f074",
   "metadata": {},
   "source": [
    "\n",
    "Podemos observar que a medida que avanzamos, seguimos cambiando de símbolo en la primera columna. Sin embargo, cuando llegamos nuevamente al 9 en la primera columna, debemos cambiar de símbolo en la segunda columna, pasando al siguiente símbolo disponible, que es el 2. De esta manera, obtenemos el número 20.\n",
    "\n",
    "Ahora, ¿qué sucede si llegamos al símbolo 9 en la segunda columna? En ese caso, hemos alcanzado el número 90. Aumentamos el valor de la primera columna hasta el 99 y luego agregamos una nueva columna, lo que resulta en el número 100.\n",
    "\n",
    "Es posible que esto te parezca bastante evidente, ya que lo hacemos de manera natural. Sin embargo, ahora veamos algo que quizás no te resulte tan familiar."
   ]
  },
  {
   "cell_type": "markdown",
   "id": "2bdcea3a",
   "metadata": {},
   "source": [
    "### 1.1.1.2 Ejemplo 2: Numeración en sistema octal\n",
    "\n",
    "Por ejemplo, si utilizáramos el sistema octal, contaríamos hasta el número siete (7). Para representar el número ocho, comenzaríamos nuevamente desde el primer dígito, el cero (0), y agregaríamos una nueva fila con el siguiente símbolo, el uno (1). En este sistema, el número diez (10) representaría lo que conocemos como el número ocho en el sistema decimal.\n",
    "\n",
    "Veamos un ejemplo de los primeros trece números en el sistema octal:"
   ]
  },
  {
   "cell_type": "markdown",
   "id": "42fd72c8",
   "metadata": {},
   "source": [
    "|Número|Símbolo|Número|Símbolo|\n",
    "|------|:------|:-----|:------|\n",
    "|cero  | 0     |siete |  7    |\n",
    "|uno   | 1     |ocho  |  10   | \n",
    "|dos   | 2     |nueve |  11   |  \n",
    "|tres  | 3     |diez  |  12   | \n",
    "|cuatro| 4     |once  |  13   |  \n",
    "|cinco | 5     |doce  |  14   |  \n",
    "|seis  | 6     |trece |  15   | "
   ]
  },
  {
   "cell_type": "markdown",
   "id": "7e06570b",
   "metadata": {},
   "source": [
    "Para obtener un número mayor, debemos incrementar la segunda columna, lo que resultaría en el número 17 en octal, que equivaldría al número quince en decimal. Siguiendo este patrón, podemos continuar incrementando y obtendríamos el número 20 en octal, que representa el número dieciséis en decimal.\n",
    "\n",
    "Es comprensible que al principio resulte difícil de entender, ya que estamos tan familiarizados con el sistema decimal. Sin embargo, es importante recordar que esta convención es arbitraria. Podríamos tener cualquier número de símbolos, incluso hasta 73, y aún así tendríamos que repetir el mismo proceso para representar números mayores."
   ]
  },
  {
   "cell_type": "markdown",
   "id": "b07218b8",
   "metadata": {},
   "source": [
    "### 1.1.1.3 Sistema binario y la electrónica digital"
   ]
  },
  {
   "cell_type": "markdown",
   "id": "279b274c",
   "metadata": {},
   "source": [
    "Ahora, adentrémonos en el campo de la electrónica, en particular la electrónica digital. Para poder establecer una comunicación con una computadora utilizando electricidad, necesitamos un código preciso para representar los números. El método más exitoso para lograr esto es el sistema binario.\n",
    "\n",
    "En el sistema binario, contamos solamente con dos símbolos:\n",
    "\n",
    "$$0,1$$\n",
    "\n",
    "En este sentido, contamos hasta el uno (1), y luego, para continuar, agregamos una nueva columna, lo que nos permite representar el número dos como 10. Veamos un ejemplo para ilustrar esto:"
   ]
  },
  {
   "cell_type": "markdown",
   "id": "e776eeb7",
   "metadata": {},
   "source": [
    "|Número|Símbolo|Número|Símbolo|\n",
    "|------|:------|:-----|:------|\n",
    "|cero  | 0     |siete |  111  |\n",
    "|uno   | 1     |ocho  |  1000 | \n",
    "|dos   | 10    |nueve |  1001 |  \n",
    "|tres  | 11    |diez  |  1010 | \n",
    "|cuatro| 100   |once  |  1011 |  \n",
    "|cinco | 101   |doce  |  1100 |  \n",
    "|seis  | 110   |trece |  1101 | "
   ]
  },
  {
   "cell_type": "markdown",
   "id": "f0122fab",
   "metadata": {},
   "source": [
    "Esta es la forma más sencilla de establecer una comunicación, debido a que solo contamos con dos símbolos, lo cual se puede representar fácilmente mediante señales eléctricas que el ordenador puede interpretar. Si hay corriente en el circuito, se interpreta como un 1; si no hay corriente, se interpreta como un 0. En resumen, un cable puede tener solo dos valores: 0 o 1. El sistema binario se adapta perfectamente a esta realidad.\n",
    "\n",
    "Por último, es importante mencionar que a estos 1s y 0s los denominamos **bits**. Y cuando combinamos 8 bits, obtenemos lo que llamamos un **byte**."
   ]
  },
  {
   "cell_type": "markdown",
   "id": "bfd692d1",
   "metadata": {},
   "source": [
    "## 1.1.2 Codifcación ASCII\n",
    "****"
   ]
  },
  {
   "cell_type": "markdown",
   "id": "5d3fd8b6",
   "metadata": {},
   "source": [
    "Hemos explorado cómo comunicarnos con una computadora utilizando el sistema binario, representado por bits (1s y 0s). A través de este sistema, podemos representar los números que conocemos.\n",
    "\n",
    "Sin embargo, si deseamos representar símbolos más complejos, como letras (A, B, C, D, E, ...) u otros caracteres, la forma más sencilla es asignar a cada símbolo un número entero. Este proceso se conoce como codificación. Al igual que hemos estandarizado la comunicación con una computadora mediante el sistema binario, también necesitamos estándares para codificar otros símbolos. De hecho, ya existen diversos estándares de codificación de símbolos. En Python, se asigna el tipo \"cadena de caracteres\" o str a los símbolos codificados.\n",
    "\n",
    "Uno de los estándares de codificación más antiguos utilizados en informática es **ASCII** (<i>American Standard Code for Information Interchange</i>). Se utiliza para codificar $128 = 2^7$ símbolos diferentes, principalmente utilizados en el idioma inglés.\n",
    "\n",
    "En la codificación ASCII, cada símbolo se representa mediante un número entero de 7 bits. A continuación, se muestra un ejemplo de esta codificación, que incluye las letras mayúsculas del alfabeto."
   ]
  },
  {
   "cell_type": "markdown",
   "id": "bb09179d",
   "metadata": {},
   "source": [
    "|Letra|Codificación|Letra|Codificación|Letra|Codificación|Letra|Codificación| \n",
    "|-----|:-----------|:----|:-----------|:----|:-----------|:----|:-----------|\n",
    "|  A  |  1000001   |  H  |  1001000   |  O  |  1001111   |  V  |  1010110   | \n",
    "|  B  |  1000010   |  I  |  1001001   |  P  |  1010000   |  W  |  1010111   |\n",
    "|  C  |  1000011   |  J  |  1001010   |  Q  |  1010001   |  X  |  1011000   |\n",
    "|  D  |  1000100   |  K  |  1001011   |  R  |  1010010   |  Y  |  1011001   |\n",
    "|  E  |  1000101   |  L  |  1001100   |  S  |  1010011   |  Z  |  1011010   |\n",
    "|  F  |  1000110   |  M  |  1001101   |  T  |  1010100   |     |            |  \n",
    "|  G  |  1000111   |  N  |  1001110   |  U  |  1010101   |     |            |\n",
    "         "
   ]
  },
  {
   "cell_type": "markdown",
   "id": "c3ec1c23",
   "metadata": {},
   "source": [
    "A medida que la informática se expandía a nivel mundial, se hizo evidente que el conjunto de caracteres definido por ASCII era insuficiente para representar todas las lenguas y escrituras del mundo. Para abordar esta limitación, se desarrollaron varios códigos de caracteres de 8 bits, conocidos como **ASCII extendido** o **ASCII ampliado**.\n",
    "\n",
    "Estos códigos de 8 bits permitieron la incorporación de caracteres adicionales más allá de los 128 símbolos originales de ASCII. Cada conjunto de caracteres de 8 bits se diseñó específicamente para cubrir un conjunto de lenguas con escrituras similares. Sin embargo, esta solución no era ideal, ya que no proporcionaba una codificación unificada para todas las lenguas y escrituras del mundo.\n",
    "\n",
    "La principal limitación de los códigos de caracteres de 8 bits es que se agotan rápidamente los 256 posibles valores, y no son suficientes para representar la amplia variedad de alfabetos y escrituras existentes. Además, cada código de caracteres de 8 bits se basaba en suposiciones específicas sobre los caracteres más comunes en un conjunto particular de lenguas, lo que dificultaba la representación de caracteres menos comunes o caracteres utilizados en lenguas menos conocidas.\n",
    "\n",
    "Dado este panorama, se desarrollaron posteriormente estándares de codificación más robustos y amplios, como Unicode, que utiliza más bits para representar un rango mucho mayor de caracteres y símbolos. Unicode se ha convertido en el estándar de facto para la representación de caracteres en la mayoría de los sistemas informáticos actuales, ya que permite la codificación de prácticamente todos los alfabetos y escrituras utilizados en el mundo."
   ]
  },
  {
   "cell_type": "markdown",
   "id": "0781165d",
   "metadata": {},
   "source": [
    "##  1.1.3 Codificación Unicode\n",
    "***"
   ]
  },
  {
   "cell_type": "markdown",
   "id": "391aa28d",
   "metadata": {},
   "source": [
    "En respuesta a estas limitaciones, se estableció internacionalmente el estándar Unicode a partir de 1991. Unicode es una tabla de caracteres extensa que asigna un código único a cada uno de los más de cincuenta mil símbolos que abarcan todos los alfabetos europeos, ideogramas chinos, japoneses, coreanos, así como muchas otras formas de escritura y más de mil símbolos locales.\n",
    "\n",
    "La principal ventaja de Unicode es su objetivo de ser una solución más universal, al incluir símbolos de todos los idiomas utilizados en el mundo. Esto permite una representación más completa y precisa de los caracteres utilizados en diferentes escrituras y lenguas, sin las limitaciones de los códigos de caracteres anteriores.\n",
    "\n",
    "En su forma más común, conocida como UTF-8 (Unicode Transformation Format 8-bit), Unicode se implementa como un esquema de codificación compresible y dinámico. UTF-8 utiliza entre 1 y 4 bytes para representar cada símbolo, y utiliza menos bytes para los símbolos más comunes. Los primeros 128 símbolos de Unicode corresponden directamente a los símbolos del conjunto de caracteres ASCII, lo que garantiza la compatibilidad con los sistemas y aplicaciones que utilizan ASCII.\n",
    "\n",
    "Esta codificación dinámica de Unicode, como UTF-8, permite ahorrar espacio en memoria y almacenamiento, ya que los símbolos más utilizados se representan con menos bytes. Además, UTF-8 facilita la transmisión de datos y la interoperabilidad entre diferentes sistemas y aplicaciones, ya que es compatible con los sistemas ASCII existentes."
   ]
  }
 ],
 "metadata": {
  "hide_input": false,
  "kernelspec": {
   "display_name": "Python 3 (ipykernel)",
   "language": "python",
   "name": "python3"
  },
  "language_info": {
   "codemirror_mode": {
    "name": "ipython",
    "version": 3
   },
   "file_extension": ".py",
   "mimetype": "text/x-python",
   "name": "python",
   "nbconvert_exporter": "python",
   "pygments_lexer": "ipython3",
   "version": "3.8.12"
  },
  "toc": {
   "base_numbering": 1,
   "nav_menu": {},
   "number_sections": true,
   "sideBar": true,
   "skip_h1_title": false,
   "title_cell": "Table of Contents",
   "title_sidebar": "Contents",
   "toc_cell": false,
   "toc_position": {},
   "toc_section_display": true,
   "toc_window_display": false
  }
 },
 "nbformat": 4,
 "nbformat_minor": 5
}
