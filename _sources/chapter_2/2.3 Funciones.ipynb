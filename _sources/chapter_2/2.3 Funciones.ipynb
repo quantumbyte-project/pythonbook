{
 "cells": [
  {
   "cell_type": "markdown",
   "metadata": {
    "id": "6N8FOyJx0var"
   },
   "source": [
    "# 2.3 Funciones\n",
    "***\n",
    "\n",
    "Una de las estructuras más importantes y utilizadas en la programación son las **funciones**. A diferencia de las matemáticas, las funciones en programación tienen un abánico más amplio de aplicaciones. Por otra parte, la reutilización de código en programación es un aspecto muy importante, ya que incrementar el tamaño de código, este pierde su legibilidad y lo hace más difícil de mantener o trabajar. Por ejemplo, cuando se tiene un proyecto grande, es importante simplificar segmentos de código que se repiten, es decir reutilizarlos y para esto, se hace uso de las funciones.\n",
    "\n",
    "Una función es un fragmento de código con un nombre asociado que realiza una serie de tareas. Las funciones pueden devolver (o no) valores y pueden tener (o no) parámetros/argumentos, teniendo una estructura es muy similar a las funciones matemáticas, como las funciones $f(x)$, a las cuales le ingresas un valor y lo transforma en otro.\n",
    "\n",
    "Un ejemplo con el cual estamos bastante relacionados, son las funciones en interfaces gráficas, como al pulsar el botón de cerrar, correr el programa, minimizar una ventana, etc., estás llamando a una función, una serie de instrucciones que se tienen que repetir."
   ]
  },
  {
   "cell_type": "markdown",
   "metadata": {
    "id": "4Q388HtjABch"
   },
   "source": [
    "## 2.3.1 Sintaxis para las funciones\n",
    "______"
   ]
  },
  {
   "cell_type": "markdown",
   "metadata": {
    "id": "17dcdfba"
   },
   "source": [
    "A continuación mostramos la sintaxis base de una función\n",
    "\n",
    "```python\n",
    "def nombre_funcion(arg):\n",
    "  \n",
    "  Instrucción\n",
    "\n",
    "  return var\n",
    "\n",
    "nombre_funcion(arg)\n",
    "```"
   ]
  },
  {
   "cell_type": "markdown",
   "metadata": {
    "id": "0MidgpAk_ZyY"
   },
   "source": [
    "donde \n",
    "\n",
    "- *`nombre_funcion`* → Caracterización de la función.\n",
    "- *`arg`* → Argumento de la función (valor o valores de entrada).\n",
    "- *`Instrucción`* → Bloque de instrucciones dentro de la función.\n",
    "- *`return var`* → La salida de la función.\n",
    "- *`nombre_funcion(arg)`* → Llamar a la función con un argumento dado."
   ]
  },
  {
   "cell_type": "markdown",
   "metadata": {
    "id": "X7mLBz8fA9u1"
   },
   "source": [
    "Podemos observar que, en Python no es necesario definir el tipo de dato en el argumento, a diferencia de otros lenguajes de programación.\n",
    "\n",
    "Además, se requiere de una identación dentro de la función para identificar el bloque de instrucciones que pertenecen a la función y que queremos que repita cada que la mandamos llamar. La función se acaba cuando la siguiente línea de código ya no está identada."
   ]
  },
  {
   "cell_type": "markdown",
   "metadata": {
    "id": "NMtV2GtjN0Tn"
   },
   "source": [
    "## 2.3.2 Ejemplos de funciones\n",
    "_________"
   ]
  },
  {
   "cell_type": "markdown",
   "metadata": {
    "id": "yFwHGJyiCw7A"
   },
   "source": [
    "### 2.3.2.1 Ejemplo 1: Mensajes cortos"
   ]
  },
  {
   "cell_type": "markdown",
   "metadata": {
    "id": "g0hMN0H_CZap"
   },
   "source": [
    "Definimos nuestra primera función sin argumento y la mandamos llamar:"
   ]
  },
  {
   "cell_type": "code",
   "execution_count": null,
   "metadata": {
    "colab": {
     "base_uri": "https://localhost:8080/"
    },
    "id": "_Prwt8iJCdHZ",
    "outputId": "59bb39e1-000d-40f7-dffe-c48547c04796"
   },
   "outputs": [
    {
     "name": "stdout",
     "output_type": "stream",
     "text": [
      "Hola a todos, esta es mi primera función\n"
     ]
    }
   ],
   "source": [
    "def mostrar_mensaje():\n",
    "    print(\"Hola a todos, esta es mi primera función\")\n",
    "\n",
    "mostrar_mensaje()"
   ]
  },
  {
   "cell_type": "markdown",
   "metadata": {
    "id": "PMSMgA0UGddH"
   },
   "source": [
    "### 2.3.2.2 Ejemplo 2: Mensajes largos"
   ]
  },
  {
   "cell_type": "markdown",
   "metadata": {
    "id": "gC2FOoejEHth"
   },
   "source": [
    "Para escribir un bloque de mensajes reiteradamente:"
   ]
  },
  {
   "cell_type": "code",
   "execution_count": null,
   "metadata": {
    "colab": {
     "base_uri": "https://localhost:8080/"
    },
    "id": "D_2haL1JEeci",
    "outputId": "926830fe-3d08-4751-9825-d4b5749fd8b0"
   },
   "outputs": [
    {
     "name": "stdout",
     "output_type": "stream",
     "text": [
      "\n",
      "Hola a todos\n",
      "Hoy estamos aprendiendo funciones\n",
      "Python es muy divertido\n",
      "\n",
      "Hola a todos\n",
      "Hoy estamos aprendiendo funciones\n",
      "Python es muy divertido\n",
      "\n",
      "Hola a todos\n",
      "Hoy estamos aprendiendo funciones\n",
      "Python es muy divertido\n"
     ]
    }
   ],
   "source": [
    "print(\"\\nHola a todos\")\n",
    "print(\"Hoy estamos aprendiendo funciones\")\n",
    "print(\"Python es muy divertido\")\n",
    "\n",
    "print(\"\\nHola a todos\")\n",
    "print(\"Hoy estamos aprendiendo funciones\")\n",
    "print(\"Python es muy divertido\")\n",
    "\n",
    "print(\"\\nHola a todos\")\n",
    "print(\"Hoy estamos aprendiendo funciones\")\n",
    "print(\"Python es muy divertido\")"
   ]
  },
  {
   "cell_type": "markdown",
   "metadata": {
    "id": "WiywKzFjEhlg"
   },
   "source": [
    "Lo podemos agrupar en una función:"
   ]
  },
  {
   "cell_type": "code",
   "execution_count": null,
   "metadata": {
    "colab": {
     "base_uri": "https://localhost:8080/"
    },
    "id": "V8PqtFGEEHSl",
    "outputId": "892bb297-75f5-484d-dbd9-e54cf6c78d52"
   },
   "outputs": [
    {
     "name": "stdout",
     "output_type": "stream",
     "text": [
      "\n",
      "Hola a todos\n",
      "Hoy estamos aprendiendo funciones\n",
      "Python es muy divertido\n",
      "\n",
      "Hola a todos\n",
      "Hoy estamos aprendiendo funciones\n",
      "Python es muy divertido\n",
      "\n",
      "Hola a todos\n",
      "Hoy estamos aprendiendo funciones\n",
      "Python es muy divertido\n"
     ]
    }
   ],
   "source": [
    "def mensaje():\n",
    "    print(\"\\nHola a todos\")\n",
    "    print(\"Hoy estamos aprendiendo funciones\")\n",
    "    print(\"Python es muy divertido\")\n",
    "\n",
    "mensaje()\n",
    "mensaje()\n",
    "mensaje()"
   ]
  },
  {
   "cell_type": "markdown",
   "metadata": {
    "id": "qv7txDG0GgKg"
   },
   "source": [
    "### 2.3.2.3 Ejemplo 3: Función matemática"
   ]
  },
  {
   "cell_type": "markdown",
   "metadata": {
    "id": "Xf9bd-L1E_Vw"
   },
   "source": [
    "Ahora definamos una función como lo haríamos en matemáticas, que reciba argumentos y que regrese un valor:\n",
    "$$f(x)=x^2$$"
   ]
  },
  {
   "cell_type": "code",
   "execution_count": null,
   "metadata": {
    "id": "rFatR6E-GFmQ"
   },
   "outputs": [],
   "source": [
    "def f(x):\n",
    "    resultado=x**2\n",
    "    return resultado"
   ]
  },
  {
   "cell_type": "markdown",
   "metadata": {
    "id": "uY2FaSdaF1pH"
   },
   "source": [
    "y evaluamos en $x=2$:\n",
    "$$f(2)=2^2=4$$"
   ]
  },
  {
   "cell_type": "code",
   "execution_count": null,
   "metadata": {
    "colab": {
     "base_uri": "https://localhost:8080/"
    },
    "id": "9qyneADxFIag",
    "outputId": "5b6185c1-d751-4d24-f5a7-fabdcc55c2c0"
   },
   "outputs": [
    {
     "name": "stdout",
     "output_type": "stream",
     "text": [
      "4\n"
     ]
    }
   ],
   "source": [
    "print(f(2))"
   ]
  },
  {
   "cell_type": "markdown",
   "metadata": {
    "id": "tylyJtccF90K"
   },
   "source": [
    "y evaluamos en $x=10$:\n",
    "$$f(2)=10^2=100$$"
   ]
  },
  {
   "cell_type": "code",
   "execution_count": null,
   "metadata": {
    "colab": {
     "base_uri": "https://localhost:8080/"
    },
    "id": "xXJFJ7aNGD6A",
    "outputId": "98329028-46ad-43a1-b172-77078a50020b"
   },
   "outputs": [
    {
     "name": "stdout",
     "output_type": "stream",
     "text": [
      "100\n"
     ]
    }
   ],
   "source": [
    "print(f(10))"
   ]
  },
  {
   "cell_type": "markdown",
   "metadata": {
    "id": "Wqa3VpJJIi3Q"
   },
   "source": [
    "### 2.3.2.4 Ejemplo 4: Sumar dos números"
   ]
  },
  {
   "cell_type": "markdown",
   "metadata": {
    "id": "2KtEmJkNInqf"
   },
   "source": [
    "Hacemos una función que nos sume dos números, por lo que necesitamos dos argumentos $(x,y)$:"
   ]
  },
  {
   "cell_type": "code",
   "execution_count": null,
   "metadata": {
    "id": "GRnMGi-CJRfI"
   },
   "outputs": [],
   "source": [
    "def sumar(x,y):\n",
    "    resultado=x+y\n",
    "    return resultado"
   ]
  },
  {
   "cell_type": "markdown",
   "metadata": {
    "id": "0eAMiLeVJYpX"
   },
   "source": [
    "Podemos simplificar esta función añadiendo directamente la suma $x+y$ en el *return*:"
   ]
  },
  {
   "cell_type": "code",
   "execution_count": null,
   "metadata": {
    "id": "DPU7uqa-Jimn"
   },
   "outputs": [],
   "source": [
    "def sumar(x,y):\n",
    "    return x+y"
   ]
  },
  {
   "cell_type": "markdown",
   "metadata": {
    "id": "sBMXnPvpJpBn"
   },
   "source": [
    "Evaluamos la función con los argumentos `x=2` y `y=3`:\n",
    "```python\n",
    "sumar(2,3)=2+3=5\n",
    "```"
   ]
  },
  {
   "cell_type": "code",
   "execution_count": null,
   "metadata": {
    "colab": {
     "base_uri": "https://localhost:8080/"
    },
    "id": "SpyoqpRXJ6xY",
    "outputId": "8fd9448d-93d0-456c-a38b-4d789ee73e15"
   },
   "outputs": [
    {
     "name": "stdout",
     "output_type": "stream",
     "text": [
      "5\n"
     ]
    }
   ],
   "source": [
    "print(sumar(2,3))"
   ]
  },
  {
   "cell_type": "markdown",
   "metadata": {
    "id": "wlA0l-6uKWvA"
   },
   "source": [
    "Cuando una función nos retorna valores, ests pueden ser guardados en una variable:"
   ]
  },
  {
   "cell_type": "code",
   "execution_count": null,
   "metadata": {
    "id": "ESTJUIx9KO5I"
   },
   "outputs": [],
   "source": [
    "x = sumar(10,10)"
   ]
  },
  {
   "cell_type": "markdown",
   "metadata": {
    "id": "pYIhobm5Kn0v"
   },
   "source": [
    "Lo que significa que al ejecutarse la función $sumar(10,10)$, guardará ese valor en la variable $x$."
   ]
  },
  {
   "cell_type": "code",
   "execution_count": null,
   "metadata": {
    "colab": {
     "base_uri": "https://localhost:8080/"
    },
    "id": "zGU5YjEAK1EM",
    "outputId": "03cea405-f336-416b-aa02-d44f545b316a"
   },
   "outputs": [
    {
     "name": "stdout",
     "output_type": "stream",
     "text": [
      "20\n"
     ]
    }
   ],
   "source": [
    "print(x)"
   ]
  },
  {
   "cell_type": "markdown",
   "metadata": {
    "id": "rkp0mz87K5-f"
   },
   "source": [
    "Cuando queremos imprimir una mezcla de tipos de datos, en este caso, para darle formato a nuestra impresión, realizamos la siguiente instrucción:"
   ]
  },
  {
   "cell_type": "code",
   "execution_count": null,
   "metadata": {
    "colab": {
     "base_uri": "https://localhost:8080/"
    },
    "id": "pcTOgWEjLKB_",
    "outputId": "b6658923-b646-44dd-eed3-86ae4e7d6154"
   },
   "outputs": [
    {
     "name": "stdout",
     "output_type": "stream",
     "text": [
      "La suma es:  20\n"
     ]
    }
   ],
   "source": [
    "print(\"La suma es: \", x)"
   ]
  },
  {
   "cell_type": "markdown",
   "metadata": {
    "id": "9583_TT6LUF_"
   },
   "source": [
    "### 2.3.2.5 Ejemplo 5: Retornar múltiples valores"
   ]
  },
  {
   "cell_type": "markdown",
   "metadata": {
    "id": "kBBI4gttLWTn"
   },
   "source": [
    "A su vez, las funciones pueden regresar varios valores, para separarlos se hace uso de la coma en el *return*.\n",
    "\n",
    "Para ejemplificar esto declaramos la siguiente función:"
   ]
  },
  {
   "cell_type": "code",
   "execution_count": null,
   "metadata": {
    "id": "ecXxmfV4Lj3I"
   },
   "outputs": [],
   "source": [
    "def sumar_multiplicar(x,y):\n",
    "    return x + y, x*y"
   ]
  },
  {
   "cell_type": "markdown",
   "metadata": {
    "id": "otzgA_mAMUtE"
   },
   "source": [
    "Imprimimos la función evaluada en $x=1$ y $y=1$:"
   ]
  },
  {
   "cell_type": "code",
   "execution_count": null,
   "metadata": {
    "colab": {
     "base_uri": "https://localhost:8080/"
    },
    "id": "VDjDoWasMntH",
    "outputId": "09a10a4c-092b-4dc4-f231-d169ebc7dd04"
   },
   "outputs": [
    {
     "name": "stdout",
     "output_type": "stream",
     "text": [
      "(2, 1)\n"
     ]
    }
   ],
   "source": [
    "print(sumar_multiplicar(1,1))"
   ]
  },
  {
   "cell_type": "markdown",
   "metadata": {
    "id": "KONk9FG0M3zX"
   },
   "source": [
    "Regresando los valores como tipo de dato *tupla*."
   ]
  },
  {
   "cell_type": "markdown",
   "metadata": {
    "id": "mCtGiwAtNAH-"
   },
   "source": [
    "También podemos guardarlo en variables de la siguiente forma:"
   ]
  },
  {
   "cell_type": "code",
   "execution_count": null,
   "metadata": {
    "colab": {
     "base_uri": "https://localhost:8080/"
    },
    "id": "dkn-2yWAM_gi",
    "outputId": "1c42f528-f98d-4118-eb1b-262399c299d0"
   },
   "outputs": [
    {
     "name": "stdout",
     "output_type": "stream",
     "text": [
      "2 1\n"
     ]
    }
   ],
   "source": [
    "suma, multiplicacion = sumar_multiplicar(1,1)\n",
    "print(suma,multiplicacion)"
   ]
  },
  {
   "cell_type": "markdown",
   "metadata": {
    "id": "hPdfYuMxNMf-"
   },
   "source": [
    "De modo que, nos imprime los valores de forma separada."
   ]
  },
  {
   "cell_type": "markdown",
   "metadata": {
    "id": "9Fr2snGTNrcb"
   },
   "source": [
    "### 2.3.2.6 Ejemplo 6: Sumar dos strings"
   ]
  },
  {
   "cell_type": "markdown",
   "metadata": {
    "id": "fWiUKg-HOBcu"
   },
   "source": [
    "Retomando la función `sumar(x,y)`, ahora queremos dar como argumentos cadenas de caracteres, de forma que `x=\"Hola\"` y `y=\"mundo\"`, buscando que se obtenga como resultado una suma de caracteres:\n",
    "```python\n",
    "sumar(\"Hola\",\"mundo\")=\"Hola\"+\"mundo\"=\"Holamundo\"\n",
    "```"
   ]
  },
  {
   "cell_type": "code",
   "execution_count": null,
   "metadata": {
    "colab": {
     "base_uri": "https://localhost:8080/"
    },
    "id": "z5pWn8oyOnIQ",
    "outputId": "e41da623-c8c6-4374-d8da-e3296c603f22"
   },
   "outputs": [
    {
     "name": "stdout",
     "output_type": "stream",
     "text": [
      "Holamundo\n"
     ]
    }
   ],
   "source": [
    "print(sumar(\"Hola\",\"mundo\"))"
   ]
  },
  {
   "cell_type": "markdown",
   "metadata": {
    "id": "f6HIABjwPM8W"
   },
   "source": [
    "### 2.3.2.7 Ejemplo 7: Pedir un valor al usuario"
   ]
  },
  {
   "cell_type": "markdown",
   "metadata": {
    "id": "ILLV6KOkPOsH"
   },
   "source": [
    "Haremos uso de la función *`input()`*, la cual nos permite pedirle al usuario un valor al que se le tiene que asignar una variable. "
   ]
  },
  {
   "cell_type": "code",
   "execution_count": null,
   "metadata": {
    "colab": {
     "base_uri": "https://localhost:8080/"
    },
    "id": "kRMdMObJQGYX",
    "outputId": "7693dbf9-2bcb-4cc0-8ff7-b38f0293a2bb"
   },
   "outputs": [
    {
     "name": "stdout",
     "output_type": "stream",
     "text": [
      "Digite un número: 3\n",
      "3\n"
     ]
    }
   ],
   "source": [
    "x=input(\"Digite un número: \")\n",
    "print(x)"
   ]
  },
  {
   "cell_type": "markdown",
   "metadata": {
    "id": "6ZG7_P9MQQQu"
   },
   "source": [
    "La función *`input()`* recibe una cadena de caracteres, para comprobar esto, haremos uso de la función *`type()`*, que nos proporciona el tipo de dato de la variable en cuestión:"
   ]
  },
  {
   "cell_type": "code",
   "execution_count": null,
   "metadata": {
    "colab": {
     "base_uri": "https://localhost:8080/"
    },
    "id": "KY2tSWqHQc3f",
    "outputId": "b3ebf4ea-2e17-4c45-fc84-492c6585f40b"
   },
   "outputs": [
    {
     "name": "stdout",
     "output_type": "stream",
     "text": [
      "<class 'str'>\n"
     ]
    }
   ],
   "source": [
    "print(type(x))"
   ]
  },
  {
   "cell_type": "markdown",
   "metadata": {
    "id": "8nr4voBeQuqe"
   },
   "source": [
    "Nuevamente pediremos al usuario dos números, los cuales serán sumados con la función creada $sumar(x,y)$:"
   ]
  },
  {
   "cell_type": "code",
   "execution_count": null,
   "metadata": {
    "colab": {
     "base_uri": "https://localhost:8080/"
    },
    "id": "NcOuLobhRGOG",
    "outputId": "f34812a5-0632-4276-ed4e-4570cdda053b"
   },
   "outputs": [
    {
     "name": "stdout",
     "output_type": "stream",
     "text": [
      "Digite un número: 10\n",
      "Digite otro número: 10\n",
      "1010\n"
     ]
    }
   ],
   "source": [
    "x=input(\"Digite un número: \")\n",
    "y=input(\"Digite otro número: \")\n",
    "\n",
    "print(sumar(x,y))"
   ]
  },
  {
   "cell_type": "markdown",
   "metadata": {
    "id": "PtAy57TqUPrO"
   },
   "source": [
    "### 2.3.2.8 Ejemplo 8: Cambiar el tipo de dato de las variables"
   ]
  },
  {
   "cell_type": "markdown",
   "metadata": {
    "id": "wFVqt3wBRQsH"
   },
   "source": [
    "Si lo que busco es cambiar a valores enteros, se realiza mediante la función *`int()`*:"
   ]
  },
  {
   "cell_type": "code",
   "execution_count": null,
   "metadata": {
    "colab": {
     "base_uri": "https://localhost:8080/"
    },
    "id": "n6G72peXRhMO",
    "outputId": "f53a29a2-6340-4d85-8b80-838bb6811980"
   },
   "outputs": [
    {
     "name": "stdout",
     "output_type": "stream",
     "text": [
      "20\n"
     ]
    }
   ],
   "source": [
    "x=int(x)\n",
    "y=int(y)\n",
    "\n",
    "print(sumar(x,y))"
   ]
  },
  {
   "cell_type": "markdown",
   "metadata": {
    "id": "TyKMXILBSX8W"
   },
   "source": [
    "Si lo que busco es cambiar a valores flotantes, se realiza mediante la función *`float()`*, y para redondear utilizamos la función *`round()`*:"
   ]
  },
  {
   "cell_type": "code",
   "execution_count": null,
   "metadata": {
    "colab": {
     "base_uri": "https://localhost:8080/"
    },
    "id": "ffYholaFSeCG",
    "outputId": "6e094e9f-5820-4abb-dc87-0409d5553c90"
   },
   "outputs": [
    {
     "name": "stdout",
     "output_type": "stream",
     "text": [
      "20.0\n",
      "1.857\n"
     ]
    }
   ],
   "source": [
    "x=float(x)\n",
    "y=float(y)\n",
    "\n",
    "print(sumar(x,y))\n",
    "\n",
    "\n",
    "z=(x+3)/(y-3)\n",
    "\n",
    "print(round(z,3))"
   ]
  },
  {
   "cell_type": "markdown",
   "metadata": {
    "id": "56ccIcvFS8_-"
   },
   "source": [
    "Si lo que busco es cambiar a cadenas de texto, se realiza mediante la función *`str()`*:"
   ]
  },
  {
   "cell_type": "code",
   "execution_count": null,
   "metadata": {
    "colab": {
     "base_uri": "https://localhost:8080/"
    },
    "id": "AsHq336-TK_r",
    "outputId": "9783e7a6-c8e7-4765-c3f9-fe13577b075f"
   },
   "outputs": [
    {
     "name": "stdout",
     "output_type": "stream",
     "text": [
      "10.010.0\n"
     ]
    }
   ],
   "source": [
    "x=str(x)\n",
    "y=str(y)\n",
    "\n",
    "print(sumar(x,y))"
   ]
  },
  {
   "cell_type": "markdown",
   "metadata": {
    "id": "OYxSSMYQUWvV"
   },
   "source": [
    "### 2.3.2.9 Ejemplo 9: Parte real e imaginaria de un número complejo"
   ]
  },
  {
   "cell_type": "markdown",
   "metadata": {
    "id": "41ts8wHNU909"
   },
   "source": [
    "Tenemos el número complejo $z=2+3i$, lo podemos expresar de la siguiente forma mediante la función `complex()`:"
   ]
  },
  {
   "cell_type": "code",
   "execution_count": null,
   "metadata": {
    "colab": {
     "base_uri": "https://localhost:8080/"
    },
    "id": "RI84BXqLUey8",
    "outputId": "49bcd1fd-0442-4c90-f3f9-7f2b212869b0"
   },
   "outputs": [
    {
     "name": "stdout",
     "output_type": "stream",
     "text": [
      "(2+3j)\n"
     ]
    }
   ],
   "source": [
    "z=complex(2,3)\n",
    "\n",
    "print(z)"
   ]
  },
  {
   "cell_type": "markdown",
   "metadata": {
    "id": "7qkDGxE9Ve32"
   },
   "source": [
    "Haremos uso de un método, aplicado a un objeto, en este caso, la variable, para obtener la parte real e imaginaria del número complejo, los métodos son `.real` y `.img` respectivamente:"
   ]
  },
  {
   "cell_type": "code",
   "execution_count": null,
   "metadata": {
    "colab": {
     "base_uri": "https://localhost:8080/"
    },
    "id": "s0nDKr6vWJd-",
    "outputId": "da5bf647-94f7-4348-fbd3-0c61ff2916d3"
   },
   "outputs": [
    {
     "name": "stdout",
     "output_type": "stream",
     "text": [
      "2.0 3.0\n"
     ]
    }
   ],
   "source": [
    "parte_real=z.real\n",
    "parte_img=z.imag\n",
    "\n",
    "print(parte_real, parte_img)"
   ]
  },
  {
   "cell_type": "markdown",
   "metadata": {
    "id": "fCyScfkjGhXo"
   },
   "source": [
    "## 2.3.3 Funciones lambda\n",
    "_______________\n",
    "\n",
    "Para aquellas funciones anónimas, no son extensas, con la capacidad de definirse en una sola línea de código, son de gran utilidad para describir funciones matemáticas.\n",
    "En vez de utilizar la sintaxis vista anteriormente, se puede compactar de la siguiente forma:"
   ]
  },
  {
   "cell_type": "code",
   "execution_count": null,
   "metadata": {
    "id": "bE01ScDiHByo"
   },
   "outputs": [],
   "source": [
    "f=lambda x: x**2"
   ]
  },
  {
   "cell_type": "markdown",
   "metadata": {
    "id": "3LBpCgQqHKWw"
   },
   "source": [
    "Por lo que evaluando los valores $x=2$ y $x=10$, nos damos cuenta que tiene el mismo funcionamiento, pero de forma más compacta:"
   ]
  },
  {
   "cell_type": "code",
   "execution_count": null,
   "metadata": {
    "colab": {
     "base_uri": "https://localhost:8080/"
    },
    "id": "_V0AoeueHedQ",
    "outputId": "21ae98e4-92ba-484d-97ae-ebaabbe2b1f5"
   },
   "outputs": [
    {
     "name": "stdout",
     "output_type": "stream",
     "text": [
      "4\n",
      "100\n"
     ]
    }
   ],
   "source": [
    "print(f(2))\n",
    "print(f(10))"
   ]
  }
 ],
 "metadata": {
  "colab": {
   "provenance": []
  },
  "hide_input": false,
  "kernelspec": {
   "display_name": "Python 3 (ipykernel)",
   "language": "python",
   "name": "python3"
  },
  "language_info": {
   "codemirror_mode": {
    "name": "ipython",
    "version": 3
   },
   "file_extension": ".py",
   "mimetype": "text/x-python",
   "name": "python",
   "nbconvert_exporter": "python",
   "pygments_lexer": "ipython3",
   "version": "3.8.12"
  },
  "toc": {
   "base_numbering": 1,
   "nav_menu": {},
   "number_sections": true,
   "sideBar": true,
   "skip_h1_title": false,
   "title_cell": "Table of Contents",
   "title_sidebar": "Contents",
   "toc_cell": false,
   "toc_position": {},
   "toc_section_display": true,
   "toc_window_display": false
  }
 },
 "nbformat": 4,
 "nbformat_minor": 1
}
