{
 "cells": [
  {
   "cell_type": "markdown",
   "id": "09f6921b",
   "metadata": {
    "id": "09f6921b"
   },
   "source": [
    "# 2.4 Colecciones\n",
    "***\n",
    "\n",
    "Anteriormente vimos algunos tipos de datos básicos como los enteros, los flotantes, los complejos, las cadenas de texto y los booleanos. En esta ocasión veremos algunos tipos de colecciones de datos:    \n",
    "\n",
    "- `Listas`\n",
    "- `Tuplas`\n",
    "- `Diccionarios`\n",
    "\n",
    "Las ***colecciones*** son objetos que contienen un conjunto de datos con los cuales se pueden hacer ciertas operaciones. Todos los tipos de colecciones pueden albergar todos los tipos de datos (incluso usted puede albergar una colección dentro de otra colección).<br>\n",
    "    \n",
    "Cada tipo de colección tiene distintos atributos que la caracterizan. Es por eso que es importante conocer cada una y decidir cual usar.\n",
    "\n",
    "## 2.4.1 Listas\n",
    "***\n",
    "\n",
    "La `lista` es un tipo de colección ordenada. Sería equivalente a lo que en otros lenguajes se conoce por arrays, o vectores. Las listas pueden contener cualquier tipo de dato: números, cadenas, booleanos, y también listas.\n",
    "\n",
    "Una ventaja de las listas en Python es que maneja distintos tipos de datos. Además, las listas son mutables, ya que pueden ser modificadas en cualquier momento. \n",
    "\n",
    "Las listas siguen el formato `[Dato0, Dato1, ... , Dato(n-1)]`. Note como cada dato contenido en la lista tiene una posición asignada, donde el primer dato tiene la posición 0.\n",
    "\n",
    "A continuación se muestra un ejemplo de lista:"
   ]
  },
  {
   "cell_type": "code",
   "execution_count": 1,
   "id": "9df61aac",
   "metadata": {
    "id": "9df61aac"
   },
   "outputs": [],
   "source": [
    "lista1 = [\"Hola\", 23, True, [4,-5.2], [\"variable\",[\"y\"]]]"
   ]
  },
  {
   "cell_type": "markdown",
   "id": "76ef5b65",
   "metadata": {
    "id": "76ef5b65"
   },
   "source": [
    "Al analizar la lista `lista1`, note como tiene distintos tipos de datos contenidos dentro de ella. La siguiente tabla muestra la posición en la lista, el dato almacenado, y el tipo de dato que almacena:\n",
    "\n",
    "|Posición | Dato | Tipo de dato|\n",
    "| ---|---|---|\n",
    "| 0 | \"Hola\" | `string`|\n",
    "| 1 | 23 | `int`|\n",
    "| 2 | True | `bool`|\n",
    "| 3 |\\[4,-5.2\\] | `list`|\n",
    "| 4 |\\[\"variable\",\\[\"y\"\\]\\] | `list`|\n",
    "\n",
    "En la posición 4 de `lista1`, el dato almacenado es una lista `[\"variable\",[\"y\"]]` con dos valores, donde el segundo valor es otra lista `[\"y\"]`. Manejar listas permite controlar y usar distintos tipos de datos para distintos usos. \n",
    "\n",
    "Otra característica a notar es que el tipo de dato para una lista tiene el nombre de `list`.\n",
    "\n",
    "A continuación se muestra otro ejemplo de lista, donde se usan otros tipos de coleccionables que se verán y analizarán más adelante, pero por ahora solo sirven como demostración de la facilidad de albergar estos datos en una lista."
   ]
  },
  {
   "cell_type": "code",
   "execution_count": 2,
   "id": "ce787e53",
   "metadata": {
    "id": "ce787e53"
   },
   "outputs": [],
   "source": [
    "lista2 = [\"prueba\", {\"x\":1,\"y\":2}, (\"a\",\"b\",\"c\")]"
   ]
  },
  {
   "cell_type": "markdown",
   "id": "1726ea02",
   "metadata": {
    "id": "1726ea02"
   },
   "source": [
    "Las listas contienen cualquier tipo y cantidad de datos que se requieran, aunque hay situaciones en que es conveniente definir una lista vacía para modificarla después. Para construir una lista vacía, basta solo definir su nombre y no agregarle ningún dato, como se muestra a continuación:"
   ]
  },
  {
   "cell_type": "code",
   "execution_count": 3,
   "id": "d5582230",
   "metadata": {
    "id": "d5582230"
   },
   "outputs": [],
   "source": [
    "lista_vacia = []"
   ]
  },
  {
   "cell_type": "markdown",
   "id": "5d3add1c",
   "metadata": {
    "id": "5d3add1c"
   },
   "source": [
    "### 2.4.1.1 Construyendo una matriz a partir de listas\n",
    "\n",
    "Debido a que las listas pueden ser vistas como arreglos o vectores, es posible construir una matriz en Python utlizando este tipo de coleccionable. Suponga que se requiere construir la siguiente matriz identidad:\n",
    "\n",
    "$$\\begin{pmatrix} 1 & 0 & 0 \\\\ 0 & 1 & 0 \\\\ 0 & 0 & 1 \\end{pmatrix}$$\n",
    "\n",
    "Para programar esta matriz en Python, cada renglón de la matriz representará una lista, entonces se obtiene:"
   ]
  },
  {
   "cell_type": "code",
   "execution_count": 4,
   "id": "2b35d4de",
   "metadata": {
    "id": "2b35d4de"
   },
   "outputs": [
    {
     "name": "stdout",
     "output_type": "stream",
     "text": [
      "[[1, 0, 0], [0, 1, 0], [0, 0, 1]]\n"
     ]
    }
   ],
   "source": [
    "matriz = [[1,0,0],\n",
    "          [0,1,0],\n",
    "          [0,0,1]]\n",
    "print(matriz)"
   ]
  },
  {
   "cell_type": "markdown",
   "id": "1f608afc",
   "metadata": {
    "id": "1f608afc"
   },
   "source": [
    "Si ejecuta la línea de código anterior, el resultado muestra como cada lista está contenida de una lista mayor, siguiendo la idea original. Para mejorar la redacción, se da un intro después de cada lista para identificarla como una matriz, aunque no es necesario.\n",
    "\n",
    "### 2.4.1.2 Cómo acceder a los datos de una lista\n",
    "\n",
    "Ya hemos visto como se construyen las listas en Python pero, ¿y si queremos saber que contiene esa lista?\n",
    "\n",
    "Responder esta pregunta es sencilla, puesto que solo se tendría que ejecutar `print(lista)` y se mostraría la lista en pantalla. Pero si se quisiera un dato en específico, habría que indicarle a Python la posición del dato que nos interesa.\n",
    "\n",
    "Si se desea conocer el dato de una lista, se sigue el formato `lista[i]`, donde `i` es la posición del dato a buscar. Hay que tomar en cuenta que `i` toma valores desde 0 hasta $n-1$, donde $n$ es la cantidad de elementos que contiene la lista. Recuerde que el formato de una lista en Python es `[Dato0, Dato1, ... , Dato(n-1)]`.\n",
    "\n",
    "Retomando la lista creada anteriormente, `lista1`, se desea conocer los datos de la posición 2 y 3, entonces se escribe:"
   ]
  },
  {
   "cell_type": "code",
   "execution_count": 5,
   "id": "fd9d967a",
   "metadata": {
    "id": "fd9d967a"
   },
   "outputs": [
    {
     "name": "stdout",
     "output_type": "stream",
     "text": [
      "True\n",
      "[4, -5.2]\n"
     ]
    }
   ],
   "source": [
    "lista1 = [\"Hola\", 23, True, [4,-5.2], [\"variable\",[\"y\"]]]\n",
    "\n",
    "print(lista1[2])\n",
    "print(lista1[3])"
   ]
  },
  {
   "cell_type": "markdown",
   "id": "379315b5",
   "metadata": {
    "id": "379315b5"
   },
   "source": [
    "El resultado de la celda anterior es `True`, ya que este dato se encuentra en la posición 2 de `lista1`. Del mismo modo, `[4,-5.2]` es el dato contenido en la posición 3\n",
    "\n",
    "Si se desea acceder a varios elementos de la lista a la vez, se sigue el formato `lista[i:j:k]`, donde `i` es la posición inicial, `j ` es la posición final, y `k`, los saltos a dar. Si no se da un valor para cualquiera de estos, Python lo tomará como 0.\n",
    "\n",
    "Para un valor de `j` dado, puede visualizarlo como un ciclo `for`, donde se registrarán todos los datos desde `i` hasta `j-1`\n",
    "\n",
    "Para entender esto, nombremos una nueva lista:"
   ]
  },
  {
   "cell_type": "code",
   "execution_count": 6,
   "id": "697673af",
   "metadata": {
    "id": "697673af"
   },
   "outputs": [],
   "source": [
    "lista = [2, \"Python\", True, [1,1], False, [\"x\",1]]"
   ]
  },
  {
   "cell_type": "markdown",
   "id": "754b9ed7",
   "metadata": {
    "id": "754b9ed7"
   },
   "source": [
    "Si se desea obtener todos los elementos desde `2` hasta `True`, debe comenzar desde el cero hasta 2 + 1 para obtener todos los datos. La siguiente celda muestra el proceso:"
   ]
  },
  {
   "cell_type": "code",
   "execution_count": 7,
   "id": "b8fd71b8",
   "metadata": {
    "id": "b8fd71b8"
   },
   "outputs": [
    {
     "name": "stdout",
     "output_type": "stream",
     "text": [
      "[2, 'Python', True]\n"
     ]
    }
   ],
   "source": [
    "print(lista[:3])"
   ]
  },
  {
   "cell_type": "markdown",
   "id": "9f16cad4",
   "metadata": {
    "id": "9f16cad4"
   },
   "source": [
    "Además, se puede acceder a los elementos de una lista mediante una secuencia. Si introducimos un valor de `k`, se estarían indicando los pasos que debe tomar Python. Corra la siguiente celda de código y verifique que, efectivamente, se tomaron los pasos para regresar cada valor."
   ]
  },
  {
   "cell_type": "code",
   "execution_count": 8,
   "id": "58742a54",
   "metadata": {
    "id": "58742a54"
   },
   "outputs": [
    {
     "name": "stdout",
     "output_type": "stream",
     "text": [
      "[2, True, False]\n"
     ]
    }
   ],
   "source": [
    "print(lista[:5:2])"
   ]
  },
  {
   "cell_type": "markdown",
   "id": "e2ff92fb",
   "metadata": {
    "id": "e2ff92fb"
   },
   "source": [
    "Por el momento se ha visto lo que pasa cuando `i`, `j`, y `k` toman valores positivos, pero no se limite. Estos valores también pueden tomar valores negativos. ¿Cómo se comportaría el método cuando se le introducen negativos? La secuencia cambiaría de sentido. Suponga que se quiere conocer el último elemento de la lista, pero no sabemos en qué posición se encuentra, entonces basta con escribir -1, como se muestra a continuación:"
   ]
  },
  {
   "cell_type": "code",
   "execution_count": 9,
   "id": "0dda740b",
   "metadata": {
    "id": "0dda740b"
   },
   "outputs": [
    {
     "name": "stdout",
     "output_type": "stream",
     "text": [
      "['x', 1]\n"
     ]
    }
   ],
   "source": [
    "print(lista[-1])"
   ]
  },
  {
   "cell_type": "markdown",
   "id": "974b605e",
   "metadata": {
    "id": "974b605e"
   },
   "source": [
    "El resultado de la línea de código anterior es el último dato de `lista`, que es `['x',1]`. La siguiente celda muestra los resultados para diferentes intervalos:"
   ]
  },
  {
   "cell_type": "code",
   "execution_count": 10,
   "id": "cd32549d",
   "metadata": {
    "id": "cd32549d"
   },
   "outputs": [
    {
     "name": "stdout",
     "output_type": "stream",
     "text": [
      "[['x', 1], False, [1, 1], True, 'Python', 2]\n",
      "[2, 'Python', True, [1, 1], False]\n",
      "[[1, 1], ['x', 1]]\n"
     ]
    }
   ],
   "source": [
    "# Los datos de la lista se muestran de derecha a izquierda\n",
    "print(lista[::-1])\n",
    "\n",
    "# Se muestran los datos desde la posición 0 hasta el penúltimo dato\n",
    "print(lista[:-1])\n",
    "\n",
    "# Se muestran los datos desde la posición antepenúltima hasta el último dato, dando saltos de 2\n",
    "print(lista[-3::2])"
   ]
  },
  {
   "cell_type": "markdown",
   "id": "416bf9d2",
   "metadata": {
    "id": "416bf9d2"
   },
   "source": [
    "*¿Cómo se puede modificar el dato de una lista?* \n",
    "\n",
    "Ahora que conoce como acceder a los datos de una lista, modificar el dato dado una posición es sencillo. La siguiente línea de código muestra un cambio realizado a `lista`:"
   ]
  },
  {
   "cell_type": "code",
   "execution_count": 11,
   "id": "2da7d8c8",
   "metadata": {
    "id": "2da7d8c8"
   },
   "outputs": [
    {
     "name": "stdout",
     "output_type": "stream",
     "text": [
      "[2, 'Python', False, [1, 1], False, ['x', 1]]\n"
     ]
    }
   ],
   "source": [
    "lista = [2, \"Python\", True, [1,1], False, [\"x\",1]]\n",
    "\n",
    "# Se realiza una modificación, asignandole a la posicion indicada un nuevo dato\n",
    "lista[2] = False\n",
    "\n",
    "print(lista)"
   ]
  },
  {
   "cell_type": "markdown",
   "id": "2f1a8b39",
   "metadata": {
    "id": "2f1a8b39"
   },
   "source": [
    "\n",
    "### 2.4.1.3 Ciclo `for` y las listas\n",
    "\n",
    "Suponga que se tiene una lista con múltiples datos, pero usted desea operar de cierta manera con todos los datos de la lista (o con algunos exclusivamente, dependiendo del caso). El ciclo `for` permite realizar esto, y existen dos formas de realizarlo: usando la lista misma, o de la forma tradicional.\n",
    "\n",
    "#### Usando la lista para iterar\n",
    "\n",
    "Para usar una lista dentro de un ciclo `for`, basta con escribir el formato `for i in lista`, donde `i` es solo una variable que permite iterar.\n",
    "\n",
    "La siguiente celda de código muestra un ejemplo:"
   ]
  },
  {
   "cell_type": "code",
   "execution_count": 12,
   "id": "cf03a925",
   "metadata": {
    "id": "cf03a925"
   },
   "outputs": [
    {
     "name": "stdout",
     "output_type": "stream",
     "text": [
      "2514\n"
     ]
    }
   ],
   "source": [
    "valores = [115,784,924,12,679]\n",
    "\n",
    "# se desea obtener la suma de todos los datos\n",
    "count = 0\n",
    "\n",
    "for i in valores:\n",
    "    count += i\n",
    "    \n",
    "print(count)"
   ]
  },
  {
   "cell_type": "markdown",
   "id": "ca1c58e4",
   "metadata": {
    "id": "ca1c58e4"
   },
   "source": [
    "Cada valor de `i` será un dato de la lista. Entonces, el primer valor de `i` es 115, el segundo valor de `i` es 784, y así sucesivamente.\n",
    "\n",
    "#### Usando `range()` para iterar\n",
    "\n",
    "La celda de código anterior se puede realizar de la misma manera usando `range()`. Para esta explicación se utilizará una función aplicada a las listas de nombre `len`, misma que se explicará junto con otras funciones más adelante.\n",
    "\n",
    "La función `len` permite conocer la cantidad de datos que hay en una lista. El ciclo for a construir deberá ser capaz de recorrer el contenido de la lista y no pasarse de ella. Repitiendo el mismo ejemplo anterior se obtiene:"
   ]
  },
  {
   "cell_type": "code",
   "execution_count": 13,
   "id": "4b8d8465",
   "metadata": {
    "id": "4b8d8465"
   },
   "outputs": [
    {
     "name": "stdout",
     "output_type": "stream",
     "text": [
      "2514\n"
     ]
    }
   ],
   "source": [
    "valores = [115,784,924,12,679]\n",
    "\n",
    "# se desea obtener la suma de todos los datos\n",
    "count = 0\n",
    "\n",
    "for i in range(len(valores)):\n",
    "    count += valores[i]\n",
    "    \n",
    "print(count)"
   ]
  },
  {
   "cell_type": "markdown",
   "id": "8914c517",
   "metadata": {
    "id": "8914c517"
   },
   "source": [
    "Note como a `range()` se le entrega el resultado de la función `len`. La función `len` regresa la cantidad de elementos contenidos en `valores`, con un total de 5. Entonces, el ciclo `for` irá de 0 a 4, los números suficientes para marcar la posición de todos los elementos en la lista `valores`.\n",
    "\n",
    "Para sumarle a `count` cada dato contenido en `valores`, se indica la posición en la lista conforme el ciclo `for` avanza. Para la primera iteración se tiene `i=0`, entonces el dato en la posición `valores[0]` es 115, y se suma a `count`.\n",
    "\n",
    "Usted debe saber escoger la manera en como usará un ciclo `for` para una lista. Debe saber que la primera forma solo maneja los datos de una lista, pero la segunda forma ofrece un número que puede ser usado como posición y en muchas más presentaciones."
   ]
  },
  {
   "cell_type": "markdown",
   "id": "2fd58c38",
   "metadata": {
    "id": "2fd58c38"
   },
   "source": [
    "### 2.4.1.4 Operaciones con listas\n",
    "\n",
    "Las listas manejan un tipo diferente de operaciones que aquellas que se aplican a otros tipos de datos, como los enteros o flotantes.\n",
    "\n",
    "#### Operación suma `+`\n",
    "\n",
    "La suma de listas no devolverá la suma de cada dato de cada lista, ni tiene una semejanza con la suma de vectores. La suma de listas consiste en juntar los datos de dos listas en una misma."
   ]
  },
  {
   "cell_type": "code",
   "execution_count": 14,
   "id": "fbafbec4",
   "metadata": {
    "id": "fbafbec4"
   },
   "outputs": [
    {
     "name": "stdout",
     "output_type": "stream",
     "text": [
      "[1, 2, 3, 4, 5, 6, 7, 8, 9, 10]\n"
     ]
    }
   ],
   "source": [
    "l1, l2  = [1,2,3,4,5], [6,7,8,9,10]\n",
    "\n",
    "print(l1+l2)"
   ]
  },
  {
   "cell_type": "markdown",
   "id": "2b66acda",
   "metadata": {
    "id": "2b66acda"
   },
   "source": [
    "#### Operación pertenece `in`\n",
    "\n",
    "Si se desea conocer si un dato pertenece a una lista, basta con escribir la siguiente estructura:"
   ]
  },
  {
   "cell_type": "code",
   "execution_count": 15,
   "id": "4b09f581",
   "metadata": {
    "id": "4b09f581"
   },
   "outputs": [
    {
     "name": "stdout",
     "output_type": "stream",
     "text": [
      "False\n"
     ]
    }
   ],
   "source": [
    "pares = [0,2,4,6,8,10]\n",
    "\n",
    "print(5 in pares)"
   ]
  },
  {
   "cell_type": "markdown",
   "id": "b0036e9b",
   "metadata": {
    "id": "b0036e9b"
   },
   "source": [
    "El resultado de la celda anterior es `False`, indicando que el valor 5 no se encuentra en la lista.\n",
    "\n",
    "Más adelante podrá conocer la posición de un dato si es que este mismo se encuentra en la lista."
   ]
  },
  {
   "cell_type": "markdown",
   "id": "149cd279",
   "metadata": {
    "id": "149cd279"
   },
   "source": [
    "### 2.4.1.5 Funciones a listas\n",
    "\n",
    "Existen funciones que permiten manipular los datos de una lista, así como usarlos para diferentes operaciones convenientes. En este apartado solo se manejarán las más importantes, por lo que deberá buscar una documentación más completa respecto a funciones y métodos aplicados a listas.\n",
    "\n",
    "#### Función `len`\n",
    "\n",
    "La función `len` regresa la cantidad de elementos que tiene una lista. Esta función se explicó anteriormente al analizar las listas y el ciclo `for`."
   ]
  },
  {
   "cell_type": "code",
   "execution_count": 16,
   "id": "dcb5b683",
   "metadata": {
    "id": "dcb5b683"
   },
   "outputs": [
    {
     "name": "stdout",
     "output_type": "stream",
     "text": [
      "4\n"
     ]
    }
   ],
   "source": [
    "lista_3 = [\"Hola\", True, -5.2, []]\n",
    "\n",
    "# Note como se ingresa el nombre de la variable de la lista\n",
    "# en la función\n",
    "print(len(lista_3))"
   ]
  },
  {
   "cell_type": "markdown",
   "id": "1b6e6a86",
   "metadata": {
    "id": "1b6e6a86"
   },
   "source": [
    "#### Función `append`\n",
    "\n",
    "La función `append` añade un nuevo dato a la lista, en su última posición."
   ]
  },
  {
   "cell_type": "code",
   "execution_count": 17,
   "id": "63d43e42",
   "metadata": {
    "id": "63d43e42"
   },
   "outputs": [
    {
     "name": "stdout",
     "output_type": "stream",
     "text": [
      "['Hola', True, -5.2, [], 'x']\n"
     ]
    }
   ],
   "source": [
    "# El nuevo dato a ingresar puede ser de cualquier tipo\n",
    "lista_3.append(\"x\")\n",
    "\n",
    "print(lista_3)"
   ]
  },
  {
   "cell_type": "markdown",
   "id": "a7cb1d95",
   "metadata": {
    "id": "a7cb1d95"
   },
   "source": [
    "#### Función `extend`\n",
    "\n",
    "La función `extend` permite añadir múltiples datos al final de una lista, a diferencia de la función `append`, donde solo se añade un dato.\n",
    "\n",
    "Al utilizar esta función, por ser varios datos que se deben de ingresar, estos deben de estar contenidos dentro de una lista. Siguiendo esta idea, el argumento que reciba `extend` puede ser una variable que contenga a una lista ya definida."
   ]
  },
  {
   "cell_type": "code",
   "execution_count": 18,
   "id": "51a5ebda",
   "metadata": {
    "id": "51a5ebda"
   },
   "outputs": [
    {
     "name": "stdout",
     "output_type": "stream",
     "text": [
      "['Hola', True, -5.2, [], 0, True, 'count', 1, 1, 1]\n"
     ]
    }
   ],
   "source": [
    "lista_3 = [\"Hola\", True, -5.2, []]\n",
    "\n",
    "dl = [1,1,1]\n",
    "\n",
    "# Se agregan 3 datos arbitrarios\n",
    "lista_3.extend([0, True, \"count\"])\n",
    "\n",
    "# Se agrega la lista >>dl<<\n",
    "lista_3.extend(dl)\n",
    "\n",
    "print(lista_3)"
   ]
  },
  {
   "cell_type": "markdown",
   "id": "e9bb0562",
   "metadata": {
    "id": "e9bb0562"
   },
   "source": [
    "#### Función `sum`\n",
    "\n",
    "La función `sum` permite sumar todos los datos de una lista. Tenga cuidado al usar esta función, ya que debe asegurarse que todos los datos de la lista son enteros o flotantes."
   ]
  },
  {
   "cell_type": "code",
   "execution_count": 19,
   "id": "5017fd16",
   "metadata": {
    "id": "5017fd16"
   },
   "outputs": [
    {
     "name": "stdout",
     "output_type": "stream",
     "text": [
      "4.966666666666667\n"
     ]
    }
   ],
   "source": [
    "datos = [1,2,-5.4,6.7,2/3]\n",
    "\n",
    "print(sum(datos))"
   ]
  },
  {
   "cell_type": "markdown",
   "id": "c06e4212",
   "metadata": {
    "id": "c06e4212"
   },
   "source": [
    "#### Función `insert`\n",
    "\n",
    "La función `insert` permite añadir un nuevo dato a una lista en una posición deseada. Su formato es `lista.insert(i,Dato)`, donde `i` es la posición deseada."
   ]
  },
  {
   "cell_type": "code",
   "execution_count": 20,
   "id": "d14e3214",
   "metadata": {
    "id": "d14e3214"
   },
   "outputs": [
    {
     "name": "stdout",
     "output_type": "stream",
     "text": [
      "[1, 2, 3, -5.4, 6.7, 0.6666666666666666]\n"
     ]
    }
   ],
   "source": [
    "datos = [1,2,-5.4,6.7,2/3]\n",
    "\n",
    "# Se agrega el numero 3 despues del 2\n",
    "datos.insert(2,3)\n",
    "\n",
    "print(datos)"
   ]
  },
  {
   "cell_type": "markdown",
   "id": "cbb7191a",
   "metadata": {
    "id": "cbb7191a"
   },
   "source": [
    "#### Función `remove`\n",
    "\n",
    "La función `remove` permite extraer un dato de una lista. A diferencia de otras funciones, `remove` solo necesita conocer la estructura del dato, mas no su posición."
   ]
  },
  {
   "cell_type": "code",
   "execution_count": 21,
   "id": "2a982b27",
   "metadata": {
    "id": "2a982b27"
   },
   "outputs": [
    {
     "name": "stdout",
     "output_type": "stream",
     "text": [
      "[1, 3, 5, 7, 9]\n"
     ]
    }
   ],
   "source": [
    "orden = [0,1,2,3,4,5,6,7,8,9,10]\n",
    "\n",
    "#Se desea extraer todos los numeros pares\n",
    "for i in range(0,11,2):\n",
    "    orden.remove(i)\n",
    "    \n",
    "print(orden)"
   ]
  },
  {
   "cell_type": "markdown",
   "id": "50019742",
   "metadata": {
    "id": "50019742"
   },
   "source": [
    "#### Función `pop`\n",
    "\n",
    "Una desventaja de la función `remove` es que el dato extraido no se puede conservar en una variable. La función `pop` si permite ser asignada a una variable.\n",
    "\n",
    "El formato es `lista.pop(k)`, donde `k` es la posición del dato a extraer. Si la función no recibe ningún argumento, se extraerá el último dato de la lista."
   ]
  },
  {
   "cell_type": "code",
   "execution_count": 22,
   "id": "86eadded",
   "metadata": {
    "id": "86eadded"
   },
   "outputs": [
    {
     "name": "stdout",
     "output_type": "stream",
     "text": [
      "[0, 3, 9, 2, 8, 9] \n",
      " error\n"
     ]
    }
   ],
   "source": [
    "datos = [0,3,9,2,\"error\",8,9]\n",
    "\n",
    "# Se extrae el unico dato que no es un numero\n",
    "palabra = datos.pop(4)\n",
    "\n",
    "print(datos,\"\\n\",palabra)"
   ]
  },
  {
   "cell_type": "markdown",
   "id": "52ecdd0f",
   "metadata": {
    "id": "52ecdd0f"
   },
   "source": [
    "#### Función `index`\n",
    "\n",
    "La función `index` ayuda a localizar la posición de un dato de acuerdo a como está compuesto."
   ]
  },
  {
   "cell_type": "code",
   "execution_count": 23,
   "id": "0ce1abe4",
   "metadata": {
    "id": "0ce1abe4"
   },
   "outputs": [
    {
     "name": "stdout",
     "output_type": "stream",
     "text": [
      "3\n"
     ]
    }
   ],
   "source": [
    "lista = [2, \"Python\", True, [1,1], False, [\"x\",1]]\n",
    "\n",
    "# ¿En donde esta ubicada la lista [1,1]?\n",
    "print(lista.index([1,1]))"
   ]
  },
  {
   "cell_type": "markdown",
   "id": "8a55babd",
   "metadata": {
    "id": "8a55babd"
   },
   "source": [
    "#### Función `sort`\n",
    "\n",
    "La función `sort` ordena los **números** de una lista. Si se desea que sea de forma ascendente, se ejecuta la función sin ningún parámetro; si se desea que sea de forma descendente, entonces la función recibe el parámetro `reverse = True`."
   ]
  },
  {
   "cell_type": "code",
   "execution_count": 24,
   "id": "2a82c5af",
   "metadata": {
    "id": "2a82c5af"
   },
   "outputs": [
    {
     "name": "stdout",
     "output_type": "stream",
     "text": [
      "[22, 100, 150, 153, 1558]\n"
     ]
    }
   ],
   "source": [
    "lista = [100,150,22,153,1558]\n",
    "lista.sort()\n",
    "\n",
    "print(lista)"
   ]
  },
  {
   "cell_type": "markdown",
   "id": "ed78b2c9",
   "metadata": {
    "id": "ed78b2c9"
   },
   "source": [
    "Esta función tiene un comportamiento definido. Si la lista a ordenar contiene más listas, el resultado será en base a cada número menor dentro de cada lista. La siguiente celda muestra este caso:"
   ]
  },
  {
   "cell_type": "code",
   "execution_count": 25,
   "id": "214f4d3f",
   "metadata": {
    "id": "214f4d3f"
   },
   "outputs": [
    {
     "name": "stdout",
     "output_type": "stream",
     "text": [
      "[[-2, 0, 1], [1, 8, 2], [9, 4, 2]]\n"
     ]
    }
   ],
   "source": [
    "lista = [[1,8,2],[9,4,2],[-2,0,1]]\n",
    "lista.sort()\n",
    "print(lista)"
   ]
  },
  {
   "cell_type": "markdown",
   "id": "ae8228fa",
   "metadata": {
    "id": "ae8228fa"
   },
   "source": [
    "Si la lista se compone de cadenas de texto, el orden será en base a las letras."
   ]
  },
  {
   "cell_type": "code",
   "execution_count": 26,
   "id": "f0bd0e32",
   "metadata": {
    "id": "f0bd0e32"
   },
   "outputs": [
    {
     "name": "stdout",
     "output_type": "stream",
     "text": [
      "['abc', 'hola', 'java', 'serpiente']\n"
     ]
    }
   ],
   "source": [
    "lista = [\"abc\",\"hola\",\"serpiente\",\"java\"]\n",
    "lista.sort()\n",
    "print(lista)"
   ]
  },
  {
   "cell_type": "markdown",
   "id": "40e5e031",
   "metadata": {
    "id": "40e5e031"
   },
   "source": [
    "#### Función `split`\n",
    "\n",
    "La función `split` permite convertir una cadena de texto a una lista en base a un caracter especial."
   ]
  },
  {
   "cell_type": "code",
   "execution_count": 27,
   "id": "d8d5655f",
   "metadata": {
    "id": "d8d5655f"
   },
   "outputs": [
    {
     "name": "stdout",
     "output_type": "stream",
     "text": [
      "['cadena', 'de', 'texto', 'en', 'python']\n"
     ]
    }
   ],
   "source": [
    "texto = \"cadena,de,texto,en,python\"\n",
    "\n",
    "# Se convierte una lista de cada palabra\n",
    "print(texto.split(','))"
   ]
  },
  {
   "cell_type": "markdown",
   "id": "9285f629",
   "metadata": {
    "id": "9285f629"
   },
   "source": [
    "#### Función `zip`\n",
    "\n",
    "La función `zip` permite trabajar con los datos de dos listas al mismo tiempo, en pares ordenados. Esta función normalmente es utilizada en ciclos `for`.\n",
    "\n",
    "El formato de la función es `for i,j in zip(lista1,lista2)`.\n",
    "\n",
    "Para visualizar esto, se tienen dos listas, `x` y `y`, y se desea escribir una nueva lista donde su contenido sea la suma en pares ordenados de cada dato de `x` y `y`."
   ]
  },
  {
   "cell_type": "code",
   "execution_count": 28,
   "id": "b412b505",
   "metadata": {
    "id": "b412b505"
   },
   "outputs": [
    {
     "name": "stdout",
     "output_type": "stream",
     "text": [
      "[89, -34, -2, 147, 108, 47, 70]\n"
     ]
    }
   ],
   "source": [
    "x = [41,-54,2,48,72,2,62]\n",
    "y = [48,20,-4,99,36,45,8]\n",
    "\n",
    "# En esta variable se guardaran los resultados\n",
    "resultado = []\n",
    "\n",
    "for i,j in zip(x,y):\n",
    "    resultado.append(i+j)\n",
    "    \n",
    "print(resultado)"
   ]
  },
  {
   "cell_type": "markdown",
   "id": "aae3b571",
   "metadata": {
    "id": "aae3b571"
   },
   "source": [
    "## 2.4.2 Tuplas\n",
    "***"
   ]
  },
  {
   "cell_type": "markdown",
   "id": "827f25d5",
   "metadata": {
    "id": "827f25d5"
   },
   "source": [
    "Todo lo que hemos explicado sobre las listas se aplica también a las `tuplas`, a excepción de la forma de definirla.\n",
    "\n",
    "Las tuplas son inmutables, es decir, sus valores no se pueden modificar una vez creada; y tienen un tamaño fijo. Una ventaja de las tuplas sobre las listas es que las primeras ocupan menos espacio de memoria.\n",
    "\n",
    "El formato de una tupla es `(dato0, dato1, ..., dato(n-1))`. A diferencia de las listas, las tuplas se definen con paréntesis. La siguiente celda de código muestra un ejemplo de una tupla:"
   ]
  },
  {
   "cell_type": "code",
   "execution_count": 29,
   "id": "eaba5380",
   "metadata": {
    "id": "eaba5380"
   },
   "outputs": [
    {
     "name": "stdout",
     "output_type": "stream",
     "text": [
      "<class 'tuple'>\n"
     ]
    }
   ],
   "source": [
    "tupla = (\"Hola\", 23, True, [1,2],(4,5))\n",
    "\n",
    "print(type(tupla))"
   ]
  },
  {
   "cell_type": "markdown",
   "id": "f92be1ea",
   "metadata": {
    "id": "f92be1ea"
   },
   "source": [
    "Para crear una tupla, también se pueden obviar los paréntesis y Python reconocerá que es una tupla, simplificando la sintaxis. A esto se le conoce como **empaquetar**."
   ]
  },
  {
   "cell_type": "code",
   "execution_count": 30,
   "id": "11154555",
   "metadata": {
    "id": "11154555"
   },
   "outputs": [
    {
     "name": "stdout",
     "output_type": "stream",
     "text": [
      "('fy', False, [0, 1])\n"
     ]
    }
   ],
   "source": [
    "x = \"fy\", False, [0,1]\n",
    "print(x)"
   ]
  },
  {
   "cell_type": "markdown",
   "id": "fecd665c",
   "metadata": {
    "id": "fecd665c"
   },
   "source": [
    "Note como a la variable `x` se le asignaron distintos resultados, pero Python los junta todos y los asigna en forma de tupla. Si se desea **desempaquetar** el contenido, se deben asignar tantas variables como los datos en la tupla. La siguiente celda muestra este procedimiento:"
   ]
  },
  {
   "cell_type": "code",
   "execution_count": 31,
   "id": "087ea627",
   "metadata": {
    "id": "087ea627"
   },
   "outputs": [
    {
     "name": "stdout",
     "output_type": "stream",
     "text": [
      "fy\n",
      "False\n",
      "[0, 1]\n"
     ]
    }
   ],
   "source": [
    "valor1, valor2, valor3 = x\n",
    "print(f\"{valor1}\\n{valor2}\\n{valor3}\")"
   ]
  },
  {
   "cell_type": "markdown",
   "id": "9ded75ed",
   "metadata": {
    "id": "9ded75ed"
   },
   "source": [
    "Las tuplas son similares a las listas en cuanto a los datos que albergan, ya que pueden contener una tupla en sus datos. El tipo de dato que caracteriza a las tuplas recibe el nombre de `tuple`.\n",
    "\n",
    "Como se mencionó anteriormente, una tupla no puede ser modificada después de ser creada. Si se ejecuta una función para las listas, vistas anteriormente, marcará un error, como lo muestra la siguiente celda:"
   ]
  },
  {
   "cell_type": "code",
   "execution_count": 32,
   "id": "a5a98d0d",
   "metadata": {
    "id": "a5a98d0d"
   },
   "outputs": [
    {
     "ename": "AttributeError",
     "evalue": "'tuple' object has no attribute 'append'",
     "output_type": "error",
     "traceback": [
      "\u001b[0;31m---------------------------------------------------------------------------\u001b[0m",
      "\u001b[0;31mAttributeError\u001b[0m                            Traceback (most recent call last)",
      "\u001b[0;32m/tmp/ipykernel_11063/244501323.py\u001b[0m in \u001b[0;36m<module>\u001b[0;34m\u001b[0m\n\u001b[1;32m      1\u001b[0m \u001b[0mtupla\u001b[0m \u001b[0;34m=\u001b[0m \u001b[0;34m(\u001b[0m\u001b[0;34m\"Hola\"\u001b[0m\u001b[0;34m,\u001b[0m \u001b[0;36m23\u001b[0m\u001b[0;34m,\u001b[0m \u001b[0;32mTrue\u001b[0m\u001b[0;34m,\u001b[0m \u001b[0;34m[\u001b[0m\u001b[0;36m1\u001b[0m\u001b[0;34m,\u001b[0m\u001b[0;36m2\u001b[0m\u001b[0;34m]\u001b[0m\u001b[0;34m,\u001b[0m\u001b[0;34m(\u001b[0m\u001b[0;36m4\u001b[0m\u001b[0;34m,\u001b[0m\u001b[0;36m5\u001b[0m\u001b[0;34m)\u001b[0m\u001b[0;34m)\u001b[0m\u001b[0;34m\u001b[0m\u001b[0;34m\u001b[0m\u001b[0m\n\u001b[1;32m      2\u001b[0m \u001b[0;34m\u001b[0m\u001b[0m\n\u001b[0;32m----> 3\u001b[0;31m \u001b[0mtupla\u001b[0m\u001b[0;34m.\u001b[0m\u001b[0mappend\u001b[0m\u001b[0;34m(\u001b[0m\u001b[0;34m\"nuevo dato\"\u001b[0m\u001b[0;34m)\u001b[0m\u001b[0;34m\u001b[0m\u001b[0;34m\u001b[0m\u001b[0m\n\u001b[0m",
      "\u001b[0;31mAttributeError\u001b[0m: 'tuple' object has no attribute 'append'"
     ]
    }
   ],
   "source": [
    "tupla = (\"Hola\", 23, True, [1,2],(4,5))\n",
    "\n",
    "tupla.append(\"nuevo dato\")"
   ]
  },
  {
   "cell_type": "markdown",
   "id": "2db5525c",
   "metadata": {
    "id": "2db5525c"
   },
   "source": [
    "De igual forma, si se desea acceder a un dato contenido en una tupla, se sigue el mismo formato mencionado anteriormente: `tupla[i:j:k]`, donde `i` es la posición inicial, `j ` es la posición final, y `k`, los saltos a dar. Si no se da un valor para cualquiera de estos, Python lo tomará como 0."
   ]
  },
  {
   "cell_type": "code",
   "execution_count": null,
   "id": "2bf3e233",
   "metadata": {
    "id": "2bf3e233"
   },
   "outputs": [],
   "source": [
    "tupla = (\"Hola\", 23, True, [1,2],(4,5))\n",
    "\n",
    "print(tupla[:3:2])"
   ]
  },
  {
   "cell_type": "markdown",
   "id": "fb86fae8",
   "metadata": {
    "id": "fb86fae8"
   },
   "source": [
    "### 2.4.2.1 Conversiones entre tuplas y listas\n",
    "\n",
    "En ocasiones, al ejecutar funciones de distintos módulos, el resultado regresado es una tupla, pero puede ser conveniente manejar este resultado como una lista. Para transformar una tupla a una lista, basta con escribir `list(tupla)`.\n",
    "\n",
    "Del mismo modo, si se desea convertir una lista a una tupla, se utiliza la función `tuple(lista)`."
   ]
  },
  {
   "cell_type": "code",
   "execution_count": 33,
   "id": "c0d0a2ee",
   "metadata": {
    "id": "c0d0a2ee"
   },
   "outputs": [
    {
     "name": "stdout",
     "output_type": "stream",
     "text": [
      "[True, False, 3, 'FCFM']\n",
      "(False, 90, 'UADEC', [])\n"
     ]
    }
   ],
   "source": [
    "tupla1 = True, False, 3, \"FCFM\"\n",
    "print(list(tupla1))\n",
    "\n",
    "lista1 = [False, 90, \"UADEC\", []]\n",
    "print(tuple(lista1))"
   ]
  },
  {
   "cell_type": "markdown",
   "id": "3704dffa",
   "metadata": {
    "id": "3704dffa"
   },
   "source": [
    "## 2.4.3 Diccionarios\n",
    "***"
   ]
  },
  {
   "cell_type": "markdown",
   "id": "5b2e166a",
   "metadata": {
    "id": "5b2e166a"
   },
   "source": [
    "Los `diccionarios`, también llamados *matrices asociativas*, deben su nombre a que son colectores que relacionan una clave y un valor. \n",
    "\n",
    "Los diccionarios tienen el formato ```{clave0:valor0, clave1:valor1, ...}```. Note como a cada clave se le asigna un valor por medio de dos puntos. Como clave se puede usar cualquier valor inmutable: números, cadenas, booleanos, tuplas...\n",
    "\n",
    "Los diccionarios pueden ser modificados, pero no pueden existir más de dos claves iguales.\n",
    "\n",
    "A continuación, se muestra un ejemplo de diccionario:"
   ]
  },
  {
   "cell_type": "code",
   "execution_count": 34,
   "id": "54e46199",
   "metadata": {
    "id": "54e46199"
   },
   "outputs": [],
   "source": [
    "Cal_Sem = {\"Física 1\": 70, \"Cálculo\": 90, \"Algebra\": 100, \"Laboratorio\": 80}"
   ]
  },
  {
   "cell_type": "markdown",
   "id": "0e21989d",
   "metadata": {
    "id": "0e21989d"
   },
   "source": [
    "Un diccionario presenta una gran agilidad a la hora de buscar un valor que está asociado a un dato (clave). Si se desea acceder a este valor, basta con usar la misma sintaxis para las listas o tuplas, pero en vez de indicar la posición se indicará la clave. El formato es `diccionario[clave]`.\n",
    "\n",
    "Del diccionario anterior, se desea encontrar la calificación obtenida para Laboratorio, entonces se escribe:"
   ]
  },
  {
   "cell_type": "code",
   "execution_count": 35,
   "id": "a643f476",
   "metadata": {
    "id": "a643f476"
   },
   "outputs": [
    {
     "name": "stdout",
     "output_type": "stream",
     "text": [
      "80\n"
     ]
    }
   ],
   "source": [
    "print(Cal_Sem[\"Laboratorio\"])"
   ]
  },
  {
   "cell_type": "markdown",
   "id": "a59a9746",
   "metadata": {
    "id": "a59a9746"
   },
   "source": [
    "Como se mencionó anteriormente, las listas son objetos mutables, por lo que no son candidatas para ser claves. Sin embargo, pueden ser valores asociados, y acceder a una lista por medio de un diccionario es por el formato `diccionario[clave][posición]`.\n",
    "\n",
    "A continuación, se muestra un ejemplo:"
   ]
  },
  {
   "cell_type": "code",
   "execution_count": 36,
   "id": "721a3f21",
   "metadata": {
    "id": "721a3f21"
   },
   "outputs": [
    {
     "name": "stdout",
     "output_type": "stream",
     "text": [
      "5\n"
     ]
    }
   ],
   "source": [
    "dicc = {\"vector1\": [1,2,3], \"vector2\":[-8,5,4]}\n",
    "\n",
    "# Se desea buscar la segunda componente del vector dos\n",
    "print(dicc[\"vector2\"][1])"
   ]
  },
  {
   "cell_type": "markdown",
   "id": "b21f6f2a",
   "metadata": {
    "id": "b21f6f2a"
   },
   "source": [
    "Si se desea modificar un valor asignado a una clave, basta con señalar la clave y dar un nuevo valor.\n",
    "\n",
    "Si del diccionario anterior se desea cambiar el vector 1, se sigue:"
   ]
  },
  {
   "cell_type": "code",
   "execution_count": 37,
   "id": "325f8f0e",
   "metadata": {
    "id": "325f8f0e"
   },
   "outputs": [
    {
     "name": "stdout",
     "output_type": "stream",
     "text": [
      "{'vector1': [3, 8, 5], 'vector2': [-8, 5, 4]}\n"
     ]
    }
   ],
   "source": [
    "dicc[\"vector1\"] = [3,8,5]\n",
    "\n",
    "print(dicc)"
   ]
  },
  {
   "cell_type": "markdown",
   "id": "e9448131",
   "metadata": {
    "id": "e9448131"
   },
   "source": [
    "### 2.4.3.1 Recorrer valores y claves de un diccionario\n",
    "\n",
    "Al igual que en las listas, usted puede iterar dentro de un diccionario para manejar o analizar su contenido. Hay 3 formas de recorrer un diccionario, cada una con su método adecuado:\n",
    "\n",
    "* **claves y valores:** `diccionario.items()`\n",
    "* **claves**: `diccionario.keys()`\n",
    "* **valores**: `diccionario.values()`\n",
    "\n",
    "A continuación, se construye un diccionario y se muestra el uso de cada método:"
   ]
  },
  {
   "cell_type": "code",
   "execution_count": 38,
   "id": "454f7484",
   "metadata": {
    "id": "454f7484"
   },
   "outputs": [
    {
     "name": "stdout",
     "output_type": "stream",
     "text": [
      "('OP', True)\n",
      "('ERA', 250)\n",
      "('RGB', [1, 2, 3])\n",
      "('NDA', True)\n",
      "\n",
      "\n",
      "OP\n",
      "ERA\n",
      "RGB\n",
      "NDA\n",
      "\n",
      "\n",
      "True\n",
      "250\n",
      "[1, 2, 3]\n",
      "True\n",
      "\n",
      "\n"
     ]
    }
   ],
   "source": [
    "D = {\"OP\":True, \"ERA\":250, \"RGB\":[1,2,3], \"NDA\": True}\n",
    "\n",
    "# Claves y valores\n",
    "\n",
    "for i in D.items():\n",
    "    print(i)\n",
    "print(\"\\n\")\n",
    "\n",
    "# Claves\n",
    "\n",
    "for i in D.keys():\n",
    "    print(i)\n",
    "print(\"\\n\")\n",
    "\n",
    "# Valores\n",
    "\n",
    "for i in D.values():\n",
    "    print(i)\n",
    "print(\"\\n\")"
   ]
  },
  {
   "cell_type": "markdown",
   "id": "ac5f1db1",
   "metadata": {
    "id": "ac5f1db1"
   },
   "source": [
    "Note que cuando se iteró sobre el diccionario buscando las claves y valores, el resultado final es una tupla, ya que se están manejando dos datos a la vez. Para evitar esto, basta con repetir el ciclo `for` pero con dos variables iterativas."
   ]
  },
  {
   "cell_type": "code",
   "execution_count": 39,
   "id": "6864eeaa",
   "metadata": {
    "id": "6864eeaa"
   },
   "outputs": [
    {
     "name": "stdout",
     "output_type": "stream",
     "text": [
      "OP True\n",
      "ERA 250\n",
      "RGB [1, 2, 3]\n",
      "NDA True\n"
     ]
    }
   ],
   "source": [
    "D = {\"OP\":True, \"ERA\":250, \"RGB\":[1,2,3], \"NDA\": True}\n",
    "\n",
    "for i,j in D.items():\n",
    "    print(i,j)"
   ]
  }
 ],
 "metadata": {
  "colab": {
   "provenance": []
  },
  "hide_input": false,
  "kernelspec": {
   "display_name": "Python 3 (ipykernel)",
   "language": "python",
   "name": "python3"
  },
  "language_info": {
   "codemirror_mode": {
    "name": "ipython",
    "version": 3
   },
   "file_extension": ".py",
   "mimetype": "text/x-python",
   "name": "python",
   "nbconvert_exporter": "python",
   "pygments_lexer": "ipython3",
   "version": "3.8.12"
  },
  "toc": {
   "base_numbering": 1,
   "nav_menu": {},
   "number_sections": true,
   "sideBar": true,
   "skip_h1_title": false,
   "title_cell": "Table of Contents",
   "title_sidebar": "Contents",
   "toc_cell": false,
   "toc_position": {},
   "toc_section_display": true,
   "toc_window_display": false
  }
 },
 "nbformat": 4,
 "nbformat_minor": 5
}
