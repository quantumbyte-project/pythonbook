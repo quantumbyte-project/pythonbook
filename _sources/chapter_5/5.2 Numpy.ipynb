{
 "cells": [
  {
   "cell_type": "markdown",
   "id": "e5b842ec",
   "metadata": {},
   "source": [
    "# 5.2 Numpy\n",
    "\n",
    "***\n",
    "\n",
    "```{admonition} Advertencia\n",
    ":class: warning\n",
    "Este libro está actualmente en proceso de desarrollo, por lo que es posible que algunos de sus contenidos aún no estén disponibles. Agradecemos su comprensión mientras trabajamos en completarlo y mejorar su contenido.\n",
    "```"
   ]
  },
  {
   "cell_type": "markdown",
   "id": "9af125ab",
   "metadata": {},
   "source": [
    "`Numpy` es considerada la primera biblioteca que se creó externa a Pyhton con el fin de poder trabajar en computación científica. Su nombre proviene de _\"Numerical Python\"_."
   ]
  },
  {
   "cell_type": "markdown",
   "id": "5bdde07e",
   "metadata": {},
   "source": [
    "Es una libreria para el lenguaje de programación Python que da soporte para crear vectores y matrices grandes multidimensionales, junyo con una gran colección de funciones matemáticas de alto nivel para operar con ellas."
   ]
  },
  {
   "cell_type": "markdown",
   "id": "5252d68d",
   "metadata": {},
   "source": [
    "Tiene muchas funciones que permiten hacer cálculos para álgebra lineal, estadística o métodos numéricos que serán de mucha ayuda."
   ]
  },
  {
   "cell_type": "markdown",
   "id": "f3015bfa",
   "metadata": {},
   "source": [
    "Como `Numpy` es una biblioteca, se tendrá que exportar para poder utilizarla en el código que se esté creando."
   ]
  },
  {
   "cell_type": "markdown",
   "id": "e1350d3a",
   "metadata": {},
   "source": [
    "***\n",
    "## Importar biblioteca"
   ]
  },
  {
   "cell_type": "markdown",
   "id": "dbcd52b0",
   "metadata": {},
   "source": [
    "Para importar la biblioteca se utiliza `import` y después el nombre de la biblioteca a importar. Además de agregar la _keyword_ `as` para crear un alias a la biblioteca importada."
   ]
  },
  {
   "cell_type": "code",
   "execution_count": 3,
   "id": "5d4dde92",
   "metadata": {},
   "outputs": [],
   "source": [
    "import numpy as np"
   ]
  },
  {
   "cell_type": "markdown",
   "id": "0947b184",
   "metadata": {},
   "source": [
    "La sintaxis es:\n",
    "\n",
    "```python\n",
    "\n",
    "    import nombre_biblioteca as alias_biblioteca\n",
    "\n",
    "```"
   ]
  },
  {
   "cell_type": "markdown",
   "id": "f7da599c",
   "metadata": {},
   "source": [
    "Se utiliza de forma estándar el alias _np_ para Numpy. Incluso cuando se lea el código de alguien más, es muy común encontrar este reenombre. Esto servirá para que la codificación sea más práctica, rápida y fácil de leer."
   ]
  },
  {
   "cell_type": "markdown",
   "id": "6e0abfb6",
   "metadata": {},
   "source": [
    "Cada vez que se comience un código nuevo, se tendrá que realizar el importe de la biblioteca."
   ]
  },
  {
   "cell_type": "markdown",
   "id": "a313ce64",
   "metadata": {},
   "source": [
    "***\n",
    "## Comandos"
   ]
  },
  {
   "cell_type": "markdown",
   "id": "6b844d53",
   "metadata": {},
   "source": [
    "Se tiene dos vectores $\\vec{u}$ y $\\vec{v}$ y se quiere realizar su suma.\n",
    "\n",
    "$$\\begin{matrix}\n",
    "\\vec{u} = \\begin{pmatrix}\n",
    "1\\\\ \n",
    "2\\\\ \n",
    "3\n",
    "\\end{pmatrix} & \\vec{v} = \\begin{pmatrix}\n",
    "4\\\\ \n",
    "5\\\\ \n",
    "6\n",
    "\\end{pmatrix} &  \\overrightarrow{u+v} = \\begin{pmatrix}\n",
    "5\\\\ \n",
    "7\\\\ \n",
    "9\n",
    "\\end{pmatrix}\n",
    "\\end{matrix}$$"
   ]
  },
  {
   "cell_type": "markdown",
   "id": "f14f0276",
   "metadata": {},
   "source": [
    "Si se usaran listas : "
   ]
  },
  {
   "cell_type": "code",
   "execution_count": 6,
   "id": "1afa03ce",
   "metadata": {},
   "outputs": [
    {
     "name": "stdout",
     "output_type": "stream",
     "text": [
      "[1, 2, 3, 4, 5, 6]\n"
     ]
    }
   ],
   "source": [
    "u = [1,2,3]\n",
    "v = [4,5,6]\n",
    "\n",
    "print(u+v)"
   ]
  },
  {
   "cell_type": "markdown",
   "id": "97699b67",
   "metadata": {},
   "source": [
    "Por lo que no realiza la suma de componente a componente como le corresponde a la suma de vectores. "
   ]
  },
  {
   "cell_type": "markdown",
   "id": "66c5d86e",
   "metadata": {},
   "source": [
    "Para crear un arreglo se utilizará la función `np.array()`. Dentro de este arreglo irá la lista que contiene los elementos de cada vector. Con esto, ya se pueden tratar como vectores y realizar la suma."
   ]
  },
  {
   "cell_type": "markdown",
   "id": "62c12b6b",
   "metadata": {},
   "source": [
    "La sintaxis es:\n",
    "\n",
    "```python\n",
    "    arreglo = np.array(nombre_lista)\n",
    "```"
   ]
  },
  {
   "cell_type": "code",
   "execution_count": 8,
   "id": "6325db98",
   "metadata": {},
   "outputs": [
    {
     "name": "stdout",
     "output_type": "stream",
     "text": [
      "[5 7 9]\n"
     ]
    }
   ],
   "source": [
    "x = np.array(u)\n",
    "y = np.array(v)\n",
    "\n",
    "print(x+y)"
   ]
  },
  {
   "cell_type": "markdown",
   "id": "590855a4",
   "metadata": {},
   "source": [
    "Se tienen dos matrices $A$ y $B$ y se quiere realizar su suma."
   ]
  },
  {
   "cell_type": "markdown",
   "id": "dff8c9a2",
   "metadata": {},
   "source": [
    "$$\n",
    "A = \\begin{pmatrix}\n",
    "1 & 2\\\\ \n",
    "3 &4 \n",
    "\\end{pmatrix}$$\n"
   ]
  },
  {
   "cell_type": "markdown",
   "id": "d494c9b7",
   "metadata": {},
   "source": [
    "$$\n",
    "B = \\begin{pmatrix}\n",
    "5 & 6\\\\ \n",
    "7 & 8 \n",
    "\\end{pmatrix}\n",
    "$$"
   ]
  },
  {
   "cell_type": "markdown",
   "id": "fc8b91ad",
   "metadata": {},
   "source": [
    "$$\n",
    "A+B = \\begin{pmatrix}\n",
    "6 & 8\\\\ \n",
    "10 & 12 \n",
    "\\end{pmatrix}\n",
    "$$"
   ]
  },
  {
   "cell_type": "markdown",
   "id": "70a453c5",
   "metadata": {},
   "source": [
    "Si se recuerda, para crear matrices con listas se creaban una dentro de otra. "
   ]
  },
  {
   "cell_type": "code",
   "execution_count": 11,
   "id": "52465fc9",
   "metadata": {},
   "outputs": [
    {
     "name": "stdout",
     "output_type": "stream",
     "text": [
      "[[1, 2], [3, 4], [5, 6], [7, 8]]\n"
     ]
    }
   ],
   "source": [
    "A = [[1,2],\n",
    "     [3,4]]\n",
    "\n",
    "B = [[5,6],\n",
    "     [7,8]]\n",
    "\n",
    "print(A+B)"
   ]
  },
  {
   "cell_type": "markdown",
   "id": "d8d402d4",
   "metadata": {},
   "source": [
    "Por lo que en realidad no suma las matrices, si no las listas."
   ]
  },
  {
   "cell_type": "markdown",
   "id": "8a3c57eb",
   "metadata": {},
   "source": [
    "Entonces, podemos convertirlas en arreglos para poder tratarles como matrices y realizar su suma."
   ]
  },
  {
   "cell_type": "code",
   "execution_count": 12,
   "id": "48fe9e86",
   "metadata": {},
   "outputs": [
    {
     "name": "stdout",
     "output_type": "stream",
     "text": [
      "[[ 6  8]\n",
      " [10 12]]\n"
     ]
    }
   ],
   "source": [
    "A = np.array(A)\n",
    "B = np.array(B)\n",
    "\n",
    "print(A+B)"
   ]
  },
  {
   "cell_type": "markdown",
   "id": "92258cf9",
   "metadata": {},
   "source": [
    "A veces es necesario crear vectores grandes que, por ejemplo, vayan del 1 al 100 de 1 en 1. Hacer esto a mano sería muy cansado."
   ]
  },
  {
   "cell_type": "markdown",
   "id": "d1f6871c",
   "metadata": {},
   "source": [
    "Con listas:"
   ]
  },
  {
   "cell_type": "code",
   "execution_count": 13,
   "id": "10b41839",
   "metadata": {},
   "outputs": [
    {
     "name": "stdout",
     "output_type": "stream",
     "text": [
      "[1, 2, 3, 4, 5, 6, 7, 8, 9, 10, 11, 12, 13, 14, 15, 16, 17, 18, 19, 20, 21, 22, 23, 24, 25, 26, 27, 28, 29, 30, 31, 32, 33, 34, 35, 36, 37, 38, 39, 40, 41, 42, 43, 44, 45, 46, 47, 48, 49, 50, 51, 52, 53, 54, 55, 56, 57, 58, 59, 60, 61, 62, 63, 64, 65, 66, 67, 68, 69, 70, 71, 72, 73, 74, 75, 76, 77, 78, 79, 80, 81, 82, 83, 84, 85, 86, 87, 88, 89, 90, 91, 92, 93, 94, 95, 96, 97, 98, 99, 100]\n"
     ]
    }
   ],
   "source": [
    "x = list(range(1,101))\n",
    "\n",
    "print(x)"
   ]
  },
  {
   "cell_type": "markdown",
   "id": "d4ffdbe1",
   "metadata": {},
   "source": [
    "Con Numpy se puede crear esto con la función `np.arange()`. El parámetro que recibe será el inicio de la lista, el fin de la lista y el salto entre cada número."
   ]
  },
  {
   "cell_type": "markdown",
   "id": "15f237b5",
   "metadata": {},
   "source": [
    "La sintaxis es:\n",
    "\n",
    "```python\n",
    "\n",
    "    arreglo = np.arange(inicio_lista , fin_lista , salto_lista)\n",
    "\n",
    "```"
   ]
  },
  {
   "cell_type": "code",
   "execution_count": 14,
   "id": "41b194f4",
   "metadata": {},
   "outputs": [
    {
     "name": "stdout",
     "output_type": "stream",
     "text": [
      "[  1   2   3   4   5   6   7   8   9  10  11  12  13  14  15  16  17  18\n",
      "  19  20  21  22  23  24  25  26  27  28  29  30  31  32  33  34  35  36\n",
      "  37  38  39  40  41  42  43  44  45  46  47  48  49  50  51  52  53  54\n",
      "  55  56  57  58  59  60  61  62  63  64  65  66  67  68  69  70  71  72\n",
      "  73  74  75  76  77  78  79  80  81  82  83  84  85  86  87  88  89  90\n",
      "  91  92  93  94  95  96  97  98  99 100]\n"
     ]
    }
   ],
   "source": [
    "y = np.arange(1,101,1)\n",
    "\n",
    "print(y)"
   ]
  },
  {
   "cell_type": "markdown",
   "id": "94bf57df",
   "metadata": {},
   "source": [
    "La ventaja de usar esta función es que está _optimizada_, es decir, tomará menos tiempo computacional. Además de que, ya estará en el entorno de Numpy."
   ]
  },
  {
   "cell_type": "markdown",
   "id": "09b6ce9d",
   "metadata": {},
   "source": [
    "Otro ejemplo, donde se definió una variable `dt` y se definió la matriz `y` que comienza en $1$, terminará en $11$ más el valor que se le dió a la variable `dt`y el salto será el valor de `dt` "
   ]
  },
  {
   "cell_type": "code",
   "execution_count": 16,
   "id": "e3a70638",
   "metadata": {},
   "outputs": [
    {
     "name": "stdout",
     "output_type": "stream",
     "text": [
      "[ 1.   1.2  1.4  1.6  1.8  2.   2.2  2.4  2.6  2.8  3.   3.2  3.4  3.6\n",
      "  3.8  4.   4.2  4.4  4.6  4.8  5.   5.2  5.4  5.6  5.8  6.   6.2  6.4\n",
      "  6.6  6.8  7.   7.2  7.4  7.6  7.8  8.   8.2  8.4  8.6  8.8  9.   9.2\n",
      "  9.4  9.6  9.8 10.  10.2 10.4 10.6 10.8 11. ]\n"
     ]
    }
   ],
   "source": [
    "dt = 0.2\n",
    "\n",
    "y = np.arange(1,11+dt,dt)\n",
    "\n",
    "print(y)"
   ]
  },
  {
   "cell_type": "markdown",
   "id": "8e388ffb",
   "metadata": {},
   "source": [
    "Para crear un arreglo vacío:"
   ]
  },
  {
   "cell_type": "code",
   "execution_count": 18,
   "id": "9c1a4e3d",
   "metadata": {},
   "outputs": [],
   "source": [
    "x = np.array([])"
   ]
  },
  {
   "cell_type": "markdown",
   "id": "4e8b316e",
   "metadata": {},
   "source": [
    "A este arreglo, así como en listas, podemos ir agregandole datos. Para esto se utiliza la función `np.append()`, los parámetros que necesita será el arreglo al que se le van a agregar datos y lo que se le va agregar."
   ]
  },
  {
   "cell_type": "markdown",
   "id": "e2ed4f49",
   "metadata": {},
   "source": [
    "La sintaxis es:\n",
    "    \n",
    "```python\n",
    "    arreglo = np.append(arreglo_modificar, datos_agregar)\n",
    "```"
   ]
  },
  {
   "cell_type": "code",
   "execution_count": 22,
   "id": "6abda829",
   "metadata": {},
   "outputs": [
    {
     "name": "stdout",
     "output_type": "stream",
     "text": [
      "[2.]\n"
     ]
    }
   ],
   "source": [
    "x = np.array([])\n",
    "\n",
    "x = np.append(x,2)\n",
    "\n",
    "print(x)"
   ]
  },
  {
   "cell_type": "markdown",
   "id": "6fda0614",
   "metadata": {},
   "source": [
    "La desventaja de esta función será que, creará un vector totalmente nuevo, pero que ahora tendrá el dato que se le agregó. Por ello, no es recomendable comenzar un arreglo vacío e irle agregando datos."
   ]
  },
  {
   "cell_type": "markdown",
   "id": "468467c4",
   "metadata": {},
   "source": [
    "Lo que es viáble y más común es realizar una matriz de ceros para irle modificando sus componentes."
   ]
  },
  {
   "cell_type": "markdown",
   "id": "2dbbe38b",
   "metadata": {},
   "source": [
    "Para esto se utiliza la función `np.zeros()`, su parámetro será la cantidad de elementos que tendrá el arreglo."
   ]
  },
  {
   "cell_type": "markdown",
   "id": "f9b0f526",
   "metadata": {},
   "source": [
    "La sintaxis es: \n",
    "    \n",
    "```python\n",
    "\n",
    "    arreglo = np.zeros(cantidad_elementos)\n",
    "\n",
    "```"
   ]
  },
  {
   "cell_type": "code",
   "execution_count": 23,
   "id": "a26086a4",
   "metadata": {},
   "outputs": [
    {
     "name": "stdout",
     "output_type": "stream",
     "text": [
      "[0. 0. 0. 0. 0. 0. 0. 0. 0. 0.]\n"
     ]
    }
   ],
   "source": [
    "z = np.zeros(10)\n",
    "\n",
    "print(z)"
   ]
  },
  {
   "cell_type": "markdown",
   "id": "cf31406d",
   "metadata": {},
   "source": [
    "De nuevo, la ventaja será su _optimización_ en el tiempo."
   ]
  },
  {
   "cell_type": "markdown",
   "id": "ee388fda",
   "metadata": {},
   "source": [
    "Para crear una matriz de ceros, los parámetros serán la cantidad de filas y de columnas."
   ]
  },
  {
   "cell_type": "markdown",
   "id": "021dce11",
   "metadata": {},
   "source": [
    "La sintaxis es: \n",
    "    \n",
    "```python\n",
    "\n",
    "    matriz = np.zeros((cantidad_filas , cantidad_columnas))\n",
    "\n",
    "```"
   ]
  },
  {
   "cell_type": "code",
   "execution_count": 24,
   "id": "bb12b866",
   "metadata": {},
   "outputs": [
    {
     "name": "stdout",
     "output_type": "stream",
     "text": [
      "[[0. 0. 0. ... 0. 0. 0.]\n",
      " [0. 0. 0. ... 0. 0. 0.]\n",
      " [0. 0. 0. ... 0. 0. 0.]\n",
      " ...\n",
      " [0. 0. 0. ... 0. 0. 0.]\n",
      " [0. 0. 0. ... 0. 0. 0.]\n",
      " [0. 0. 0. ... 0. 0. 0.]]\n"
     ]
    }
   ],
   "source": [
    "z = np.zeros((100,100))\n",
    "\n",
    "print(z)"
   ]
  },
  {
   "cell_type": "markdown",
   "id": "376ff3fc",
   "metadata": {},
   "source": [
    "Así como se pueden crear arreglos de ceros, también se puede de unos. Para ello se utiliza la función `np.ones()`, y de igual manera su parámetro será la cantidad de elementos que se desea que tenga el arreglo."
   ]
  },
  {
   "cell_type": "markdown",
   "id": "39bd5ef6",
   "metadata": {},
   "source": [
    "La sintaxis es: \n",
    "    \n",
    "```python\n",
    "\n",
    "    arreglo = np.ones(cantidad_elementos)\n",
    "\n",
    "```"
   ]
  },
  {
   "cell_type": "code",
   "execution_count": 27,
   "id": "356f9251",
   "metadata": {},
   "outputs": [
    {
     "name": "stdout",
     "output_type": "stream",
     "text": [
      "[1. 1. 1. 1. 1. 1. 1. 1. 1. 1. 1. 1. 1. 1. 1. 1. 1. 1. 1. 1.]\n"
     ]
    }
   ],
   "source": [
    "a = np.ones(20)\n",
    "\n",
    "print(a)"
   ]
  },
  {
   "cell_type": "markdown",
   "id": "4db97b36",
   "metadata": {},
   "source": [
    "Similar a lo anterior, se pueden crear matrices de unos."
   ]
  },
  {
   "cell_type": "markdown",
   "id": "33ed83a2",
   "metadata": {},
   "source": [
    "La sintaxis es: \n",
    "    \n",
    "```python\n",
    "\n",
    "    matriz = np.ones((cantidad_filas , cantidad_columnas))\n",
    "\n",
    "```"
   ]
  },
  {
   "cell_type": "code",
   "execution_count": 28,
   "id": "6c032bad",
   "metadata": {},
   "outputs": [
    {
     "name": "stdout",
     "output_type": "stream",
     "text": [
      "[[1. 1. 1.]\n",
      " [1. 1. 1.]]\n"
     ]
    }
   ],
   "source": [
    "z = np.ones((2,3))\n",
    "\n",
    "print(z)"
   ]
  },
  {
   "cell_type": "markdown",
   "id": "cf62bb22",
   "metadata": {},
   "source": [
    "Como se dijo anteriormente, estos se pueden modificar de acuerdo a las necesidades como se hacía en listas."
   ]
  },
  {
   "cell_type": "markdown",
   "id": "3f9feb99",
   "metadata": {},
   "source": [
    "Entonces para modificar los elementos del arreglo se manipularán por medio de $[$ $]$ las posiciones de este, como si de un vector o matriz se tratara."
   ]
  },
  {
   "cell_type": "markdown",
   "id": "e8b5730d",
   "metadata": {},
   "source": [
    "En este ejemplo se creó un arreglo de ceros de nombre `s` con $7$ elementos. Después se modificó la posición $3$ del arreglo, antes siendo un $0$ y ahora un $2$. Se realizó lo mismo con la posición $5$.  "
   ]
  },
  {
   "cell_type": "code",
   "execution_count": 32,
   "id": "48b9b193",
   "metadata": {},
   "outputs": [
    {
     "name": "stdout",
     "output_type": "stream",
     "text": [
      "[0. 0. 0. 2. 0. 9. 0.]\n"
     ]
    }
   ],
   "source": [
    "s = np.zeros(7)\n",
    "\n",
    "s[3] = 2\n",
    "s[5] = 9\n",
    "\n",
    "print(s)"
   ]
  },
  {
   "cell_type": "markdown",
   "id": "4d27e9cb",
   "metadata": {},
   "source": [
    "En este ejemplo se creó un arreglo de ceros `w` y se imprimió. Luego usando un ciclo `for`se fue iterando en la cantidad de elementos del arreglo para en cada posición, asignarle su valor. Por último se imprimió después de la modificación."
   ]
  },
  {
   "cell_type": "code",
   "execution_count": 35,
   "id": "41ef7a55",
   "metadata": {},
   "outputs": [
    {
     "name": "stdout",
     "output_type": "stream",
     "text": [
      "[0. 0. 0. 0. 0. 0. 0. 0. 0. 0.]\n",
      "[0. 1. 2. 3. 4. 5. 6. 7. 8. 9.]\n"
     ]
    }
   ],
   "source": [
    "w = np.zeros(10)\n",
    "\n",
    "print(w)\n",
    "\n",
    "for i in range(len(w)):\n",
    "    w[i] = i\n",
    "    \n",
    "print(w)"
   ]
  },
  {
   "cell_type": "markdown",
   "id": "308b74bf",
   "metadata": {},
   "source": [
    "También se puede realizar en matrices."
   ]
  },
  {
   "cell_type": "code",
   "execution_count": 36,
   "id": "d239b266",
   "metadata": {},
   "outputs": [
    {
     "name": "stdout",
     "output_type": "stream",
     "text": [
      "[[5. 0. 0. 0. 0.]\n",
      " [0. 0. 0. 0. 0.]\n",
      " [0. 0. 0. 0. 0.]\n",
      " [0. 0. 0. 0. 0.]\n",
      " [0. 0. 0. 0. 0.]]\n"
     ]
    }
   ],
   "source": [
    "D = np.zeros((5,5))\n",
    "\n",
    "D[0][0] = 5\n",
    "\n",
    "print(D)"
   ]
  },
  {
   "cell_type": "markdown",
   "id": "a578e9eb",
   "metadata": {},
   "source": [
    "En este ejemplo, se importó una librería que otorga datos aleatorios.Luego con un `for`se fue iterando en la cantidad de elementos que contiene un arreglo `z` de ceros, entonces se le fue asignando un dato.\n"
   ]
  },
  {
   "cell_type": "code",
   "execution_count": 38,
   "id": "bd5a433d",
   "metadata": {},
   "outputs": [
    {
     "name": "stdout",
     "output_type": "stream",
     "text": [
      "[0.01433902 0.83147765 0.95528174 0.01724442 0.10771419 0.60510031\n",
      " 0.08100033 0.84495594 0.28541056 0.82419213]\n"
     ]
    }
   ],
   "source": [
    "import random as ra\n",
    "\n",
    "z = np.zeros(10)\n",
    "\n",
    "for i in range(len(z)):\n",
    "    z[i] = ra.random()\n",
    "    \n",
    "print(z)"
   ]
  },
  {
   "cell_type": "markdown",
   "id": "0261b0e6",
   "metadata": {},
   "source": [
    "Una función interesante es `np.linspace()`, el cual permite crear un vector cuyos datos estarán en un intérvalo y un $n$ cantidad de datos."
   ]
  },
  {
   "cell_type": "markdown",
   "id": "d6230db0",
   "metadata": {},
   "source": [
    "La sintaxis es: \n",
    "    \n",
    "```python\n",
    "\n",
    "    vector = np.linspace(inicio_vector, fin_vector, n_cantidad)\n",
    "\n",
    "```"
   ]
  },
  {
   "cell_type": "markdown",
   "id": "a21aabbb",
   "metadata": {},
   "source": [
    "El salto que se dará entre cada dato será\n",
    "\n",
    "$$salto = \\frac{fin - inicio }{n}$$"
   ]
  },
  {
   "cell_type": "code",
   "execution_count": 42,
   "id": "2563c5c1",
   "metadata": {},
   "outputs": [
    {
     "name": "stdout",
     "output_type": "stream",
     "text": [
      "[1.   1.01 1.02 1.03 1.04 1.05 1.06 1.07 1.08 1.09 1.1  1.11 1.12 1.13\n",
      " 1.14 1.15 1.16 1.17 1.18 1.19 1.2  1.21 1.22 1.23 1.24 1.25 1.26 1.27\n",
      " 1.28 1.29 1.3  1.31 1.32 1.33 1.34 1.35 1.36 1.37 1.38 1.39 1.4  1.41\n",
      " 1.42 1.43 1.44 1.45 1.46 1.47 1.48 1.49 1.5  1.51 1.52 1.53 1.54 1.55\n",
      " 1.56 1.57 1.58 1.59 1.6  1.61 1.62 1.63 1.64 1.65 1.66 1.67 1.68 1.69\n",
      " 1.7  1.71 1.72 1.73 1.74 1.75 1.76 1.77 1.78 1.79 1.8  1.81 1.82 1.83\n",
      " 1.84 1.85 1.86 1.87 1.88 1.89 1.9  1.91 1.92 1.93 1.94 1.95 1.96 1.97\n",
      " 1.98 1.99 2.  ]\n"
     ]
    }
   ],
   "source": [
    "w = np.linspace(1,2,101)\n",
    "\n",
    "print(w)"
   ]
  },
  {
   "cell_type": "markdown",
   "id": "077ab79e",
   "metadata": {},
   "source": [
    "Esta función es muy útil para crear gráficas."
   ]
  },
  {
   "cell_type": "markdown",
   "id": "eb7787da",
   "metadata": {},
   "source": [
    "Otro ejemplo"
   ]
  },
  {
   "cell_type": "code",
   "execution_count": 44,
   "id": "f29fc8c4",
   "metadata": {},
   "outputs": [
    {
     "name": "stdout",
     "output_type": "stream",
     "text": [
      "[ 1.    1.09  1.18  1.27  1.36  1.45  1.54  1.63  1.72  1.81  1.9   1.99\n",
      "  2.08  2.17  2.26  2.35  2.44  2.53  2.62  2.71  2.8   2.89  2.98  3.07\n",
      "  3.16  3.25  3.34  3.43  3.52  3.61  3.7   3.79  3.88  3.97  4.06  4.15\n",
      "  4.24  4.33  4.42  4.51  4.6   4.69  4.78  4.87  4.96  5.05  5.14  5.23\n",
      "  5.32  5.41  5.5   5.59  5.68  5.77  5.86  5.95  6.04  6.13  6.22  6.31\n",
      "  6.4   6.49  6.58  6.67  6.76  6.85  6.94  7.03  7.12  7.21  7.3   7.39\n",
      "  7.48  7.57  7.66  7.75  7.84  7.93  8.02  8.11  8.2   8.29  8.38  8.47\n",
      "  8.56  8.65  8.74  8.83  8.92  9.01  9.1   9.19  9.28  9.37  9.46  9.55\n",
      "  9.64  9.73  9.82  9.91 10.  ]\n"
     ]
    }
   ],
   "source": [
    "w = np.linspace(1,10,101)\n",
    "\n",
    "print(w)"
   ]
  },
  {
   "cell_type": "markdown",
   "id": "4a63e89d",
   "metadata": {},
   "source": [
    "Como se ha mencionado, Numpy permite realizar operaciones entre vectores."
   ]
  },
  {
   "cell_type": "markdown",
   "id": "10053f3d",
   "metadata": {},
   "source": [
    "Se definen dos vectores, y se realizarán operaciones entre ellos."
   ]
  },
  {
   "cell_type": "code",
   "execution_count": 46,
   "id": "9f6a9cc3",
   "metadata": {},
   "outputs": [
    {
     "name": "stdout",
     "output_type": "stream",
     "text": [
      "[ 1  2  3  4  5  6  7  8  9 10]\n",
      "[11 12 13 14 15 16 17 18 19 20]\n"
     ]
    }
   ],
   "source": [
    "x = np.arange(1,11)\n",
    "\n",
    "y = np.arange(11,21)\n",
    "\n",
    "print(x)\n",
    "print(y)"
   ]
  },
  {
   "cell_type": "markdown",
   "id": "962e4d67",
   "metadata": {},
   "source": [
    "- **Suma de vectores**\n",
    "\n",
    "Se imprime la suma de los dos vectores `x` y `y`creados."
   ]
  },
  {
   "cell_type": "code",
   "execution_count": 48,
   "id": "a5eb13f6",
   "metadata": {},
   "outputs": [
    {
     "name": "stdout",
     "output_type": "stream",
     "text": [
      "[12 14 16 18 20 22 24 26 28 30]\n"
     ]
    }
   ],
   "source": [
    "print(x+y)"
   ]
  },
  {
   "cell_type": "markdown",
   "id": "6c404a3d",
   "metadata": {},
   "source": [
    "- **Multiplicar por una constante**\n",
    "\n",
    "Se imprime la multiplicación de una constante $\\alpha = 3$ por el vector `x`. "
   ]
  },
  {
   "cell_type": "code",
   "execution_count": 50,
   "id": "a503ba09",
   "metadata": {},
   "outputs": [
    {
     "name": "stdout",
     "output_type": "stream",
     "text": [
      "[ 3  6  9 12 15 18 21 24 27 30]\n"
     ]
    }
   ],
   "source": [
    "print(3*x)"
   ]
  },
  {
   "cell_type": "markdown",
   "id": "f00e37c5",
   "metadata": {},
   "source": [
    "- **Suma de una constante a los elementos** \n",
    "\n",
    "Se imprime la suma de una constante $\\alpha = 10$ a cada elemento del vector `x`. "
   ]
  },
  {
   "cell_type": "code",
   "execution_count": 51,
   "id": "e33ea3ea",
   "metadata": {},
   "outputs": [
    {
     "name": "stdout",
     "output_type": "stream",
     "text": [
      "[11 12 13 14 15 16 17 18 19 20]\n"
     ]
    }
   ],
   "source": [
    "print(x+10)"
   ]
  },
  {
   "cell_type": "markdown",
   "id": "03568ae8",
   "metadata": {},
   "source": [
    "- **Potenciación a los elementos**\n",
    "\n",
    "Se imprime el cuadrado de los elementos del vector `x`. "
   ]
  },
  {
   "cell_type": "code",
   "execution_count": 52,
   "id": "d14b7d37",
   "metadata": {},
   "outputs": [
    {
     "name": "stdout",
     "output_type": "stream",
     "text": [
      "[  1   4   9  16  25  36  49  64  81 100]\n"
     ]
    }
   ],
   "source": [
    "print(x**2)"
   ]
  },
  {
   "cell_type": "markdown",
   "id": "f679ea66",
   "metadata": {},
   "source": [
    "Numpy además permite el manejo de funciones matemáticas para aplicarlo a cada componente de un vector. "
   ]
  },
  {
   "cell_type": "markdown",
   "id": "536a71ca",
   "metadata": {},
   "source": [
    "Se define un vector de datos que va de $-2\\pi$ a $2\\pi$, para ello se utiliza las constantes definidas en Numpy como lo es $\\pi$, con el comando `np.pi`."
   ]
  },
  {
   "cell_type": "code",
   "execution_count": 55,
   "id": "d0c0c39d",
   "metadata": {},
   "outputs": [
    {
     "name": "stdout",
     "output_type": "stream",
     "text": [
      "[-6.28318531 -3.14159265  0.          3.14159265  6.28318531]\n"
     ]
    }
   ],
   "source": [
    "x = np.arange(-2*np.pi, 2*np.pi + np.pi,np.pi)\n",
    "\n",
    "print(x)"
   ]
  },
  {
   "cell_type": "markdown",
   "id": "39143ee8",
   "metadata": {},
   "source": [
    "- **Seno**\n",
    "\n",
    "Se aplica el seno a cada elemento del vector `x`."
   ]
  },
  {
   "cell_type": "code",
   "execution_count": 56,
   "id": "559ea7fb",
   "metadata": {},
   "outputs": [
    {
     "name": "stdout",
     "output_type": "stream",
     "text": [
      "[ 2.4492936e-16 -1.2246468e-16  0.0000000e+00  1.2246468e-16\n",
      " -2.4492936e-16]\n"
     ]
    }
   ],
   "source": [
    "print(np.sin(x))"
   ]
  },
  {
   "cell_type": "markdown",
   "id": "3c6c9e33",
   "metadata": {},
   "source": [
    "- **Coseno**\n",
    "\n",
    "Se aplica el coseno a cada elemento del vector `x`."
   ]
  },
  {
   "cell_type": "code",
   "execution_count": 58,
   "id": "6762693b",
   "metadata": {},
   "outputs": [
    {
     "name": "stdout",
     "output_type": "stream",
     "text": [
      "[ 1. -1.  1. -1.  1.]\n"
     ]
    }
   ],
   "source": [
    "print(np.cos(x))"
   ]
  },
  {
   "cell_type": "markdown",
   "id": "8742dba0",
   "metadata": {},
   "source": [
    "- **Exponencial**\n",
    "\n",
    "Se aplica el exponencial a cada elemento del vector `x`."
   ]
  },
  {
   "cell_type": "code",
   "execution_count": 60,
   "id": "c10b7c35",
   "metadata": {},
   "outputs": [
    {
     "name": "stdout",
     "output_type": "stream",
     "text": [
      "[1.86744273e-03 4.32139183e-02 1.00000000e+00 2.31406926e+01\n",
      " 5.35491656e+02]\n"
     ]
    }
   ],
   "source": [
    "print(np.exp(x))"
   ]
  },
  {
   "cell_type": "markdown",
   "id": "f1e4a4a6",
   "metadata": {},
   "source": [
    "También se le pueden aplicar métodos."
   ]
  },
  {
   "cell_type": "markdown",
   "id": "bb909e7c",
   "metadata": {},
   "source": [
    "- `nombre_arreglo.ndim`\n",
    "\n",
    "Determina la dimensión del vector o matriz. "
   ]
  },
  {
   "cell_type": "code",
   "execution_count": 62,
   "id": "43aab935",
   "metadata": {},
   "outputs": [
    {
     "name": "stdout",
     "output_type": "stream",
     "text": [
      "1\n"
     ]
    }
   ],
   "source": [
    "x = np.arange(1,11)\n",
    "\n",
    "print(x.ndim)"
   ]
  },
  {
   "cell_type": "markdown",
   "id": "0925ddf9",
   "metadata": {},
   "source": [
    "- `nombre_arreglo.size`\n",
    "\n",
    "Determina el tamaño del vector o matriz."
   ]
  },
  {
   "cell_type": "code",
   "execution_count": 67,
   "id": "203a69e4",
   "metadata": {},
   "outputs": [
    {
     "name": "stdout",
     "output_type": "stream",
     "text": [
      "10\n"
     ]
    }
   ],
   "source": [
    "x = np.arange(1,11)\n",
    "\n",
    "print(x.size)"
   ]
  },
  {
   "cell_type": "markdown",
   "id": "6f56a814",
   "metadata": {},
   "source": [
    "- `nombre_arreglo.shap`\n",
    "\n",
    "Determina $nxm$ de una matriz."
   ]
  },
  {
   "cell_type": "code",
   "execution_count": 66,
   "id": "8a9a4545",
   "metadata": {},
   "outputs": [
    {
     "name": "stdout",
     "output_type": "stream",
     "text": [
      "(5, 5)\n"
     ]
    }
   ],
   "source": [
    "D = np.zeros((5,5))\n",
    "\n",
    "print(D.shape)"
   ]
  },
  {
   "cell_type": "markdown",
   "id": "29fa3990",
   "metadata": {},
   "source": [
    "***\n",
    "## Álgebra Lineal"
   ]
  },
  {
   "cell_type": "markdown",
   "id": "b8a9f97f",
   "metadata": {},
   "source": [
    "Numpy permite realizar operaciones de álgebra lineal a los vectores que se definan."
   ]
  },
  {
   "cell_type": "markdown",
   "id": "fe543b0c",
   "metadata": {},
   "source": [
    "Se definen dos vectores y se realizan operaciones entre estos."
   ]
  },
  {
   "cell_type": "markdown",
   "id": "484a68d4",
   "metadata": {},
   "source": [
    "$$\\begin{matrix}\n",
    "\\vec{x} = \\begin{pmatrix}\n",
    "1\\\\ \n",
    "2\\\\\n",
    "3\n",
    "\\end{pmatrix} & \\vec{y} = \\begin{pmatrix}\n",
    "3\\\\ \n",
    "4\\\\\n",
    "5\n",
    "\\end{pmatrix}\n",
    "\\end{matrix}$$"
   ]
  },
  {
   "cell_type": "code",
   "execution_count": 71,
   "id": "10e32495",
   "metadata": {},
   "outputs": [],
   "source": [
    "x = np.array([1,2,3])\n",
    "y = np.array([3,4,5])"
   ]
  },
  {
   "cell_type": "markdown",
   "id": "7af54852",
   "metadata": {},
   "source": [
    "- **Producto punto**\n",
    "\n",
    "Se realiza el producto punto entre los dos vectores `x` y `y` con el comando `vector_1.dot(vector_2)`"
   ]
  },
  {
   "cell_type": "markdown",
   "id": "27fc4208",
   "metadata": {},
   "source": [
    "$$\n",
    "\\vec{x}\\cdot \\vec{y} = (1\\cdot 3 + 2\\cdot 4 + 3\\cdot 5) = 26\n",
    "$$"
   ]
  },
  {
   "cell_type": "code",
   "execution_count": 72,
   "id": "43f3444c",
   "metadata": {},
   "outputs": [
    {
     "name": "stdout",
     "output_type": "stream",
     "text": [
      "26\n"
     ]
    }
   ],
   "source": [
    "print(x.dot(y))"
   ]
  },
  {
   "cell_type": "markdown",
   "id": "92ea22bb",
   "metadata": {},
   "source": [
    "- **Producto cruz**\n",
    "\n",
    "Se realiza el producto cruz entre los dos vectores `x` y `y` con el comando `np.cross(vector_1,vector_2)`"
   ]
  },
  {
   "cell_type": "markdown",
   "id": "f23fed26",
   "metadata": {},
   "source": [
    "$$\n",
    "\\vec{x}\\times  \\vec{y} = \\begin{bmatrix}\n",
    "\\hat{i} & \\hat{j} & \\hat{k}\\\\ \n",
    "1 & 2 & 3\\\\ \n",
    "3 & 4 & 5\n",
    "\\end{bmatrix} = [-2,4,-2]\n",
    "$$"
   ]
  },
  {
   "cell_type": "code",
   "execution_count": 73,
   "id": "4a601d6f",
   "metadata": {},
   "outputs": [
    {
     "name": "stdout",
     "output_type": "stream",
     "text": [
      "[-2  4 -2]\n"
     ]
    }
   ],
   "source": [
    "print(np.cross(x,y))"
   ]
  },
  {
   "cell_type": "markdown",
   "id": "d58ff198",
   "metadata": {},
   "source": [
    "- **Sistemas de ecuaciones**\n",
    "\n",
    "Se resuelve un sistema de ecuaciones transformándola en una matriz y aplicando la función `np.linalg.solve(A,b)`"
   ]
  },
  {
   "cell_type": "markdown",
   "id": "d2a9ff8b",
   "metadata": {},
   "source": [
    "$$x+2y = 5$$\n",
    "$$3x+4y = 6$$"
   ]
  },
  {
   "cell_type": "markdown",
   "id": "e9637a9d",
   "metadata": {},
   "source": [
    "$$A = \\begin{bmatrix}\n",
    "1 & 2\\\\ \n",
    " 3& 4\n",
    "\\end{bmatrix}\n",
    "b = \\begin{bmatrix}\n",
    "5\\\\ \n",
    "6\n",
    "\\end{bmatrix}$$"
   ]
  },
  {
   "cell_type": "code",
   "execution_count": 77,
   "id": "b5ea7962",
   "metadata": {},
   "outputs": [
    {
     "name": "stdout",
     "output_type": "stream",
     "text": [
      "[-4.   4.5]\n"
     ]
    }
   ],
   "source": [
    "A = np.array([[1,2],[3,4]])\n",
    "b = np.array([5,6])\n",
    "\n",
    "print(np.linalg.solve(A,b))"
   ]
  },
  {
   "cell_type": "markdown",
   "id": "3b3569f2",
   "metadata": {},
   "source": [
    "***\n",
    "## Estadística"
   ]
  },
  {
   "cell_type": "markdown",
   "id": "d298d39b",
   "metadata": {},
   "source": [
    "Así mismo, la biblioteca contiene algunas funciones para el análisis de datos estadísticos."
   ]
  },
  {
   "cell_type": "markdown",
   "id": "93ffb31b",
   "metadata": {},
   "source": [
    "Se tienen los resultados de un mapeo estadístico y se realiza un análisis sobre estos."
   ]
  },
  {
   "cell_type": "markdown",
   "id": "346208ae",
   "metadata": {},
   "source": [
    " $$resultados = (2,3,5,7,9,1,3,4,6)$$"
   ]
  },
  {
   "cell_type": "code",
   "execution_count": 82,
   "id": "91b75b19",
   "metadata": {},
   "outputs": [],
   "source": [
    "resultados = np.array([2,3,5,7,9,1,3,4,6])"
   ]
  },
  {
   "cell_type": "markdown",
   "id": "50e4e20b",
   "metadata": {},
   "source": [
    "- **Promedio**\n",
    "\n",
    "Se calcula el promedio de datos obtenidos usando la función `np.mean(datos)`."
   ]
  },
  {
   "cell_type": "code",
   "execution_count": 83,
   "id": "ddc51d1c",
   "metadata": {},
   "outputs": [
    {
     "name": "stdout",
     "output_type": "stream",
     "text": [
      "4.444444444444445\n"
     ]
    }
   ],
   "source": [
    "print(np.mean(resultados))"
   ]
  },
  {
   "cell_type": "markdown",
   "id": "63c65d8a",
   "metadata": {},
   "source": [
    "- **Mediana**\n",
    "\n",
    "Se calcula la mediana de los datos obtenidos usando la función `np.median(datos)`."
   ]
  },
  {
   "cell_type": "code",
   "execution_count": 84,
   "id": "36992dd1",
   "metadata": {},
   "outputs": [
    {
     "name": "stdout",
     "output_type": "stream",
     "text": [
      "4.0\n"
     ]
    }
   ],
   "source": [
    "print(np.median(resultados))"
   ]
  },
  {
   "cell_type": "markdown",
   "id": "dcd9360b",
   "metadata": {},
   "source": [
    "- **Percentiles**\n",
    "\n",
    "Se calcula el percentil de los datos obtendios usando la función `np.percentile(datos,percentil)`"
   ]
  },
  {
   "cell_type": "code",
   "execution_count": 85,
   "id": "9e2ea668",
   "metadata": {},
   "outputs": [
    {
     "name": "stdout",
     "output_type": "stream",
     "text": [
      "3.2\n"
     ]
    }
   ],
   "source": [
    "print(np.percentile(resultados,40))"
   ]
  },
  {
   "cell_type": "markdown",
   "id": "365cee1d",
   "metadata": {},
   "source": [
    "- **Desviación estándar**\n",
    "\n",
    "Se calcula la desviación estándar de los datos obtenidos usando la función `np.std(datos)`"
   ]
  },
  {
   "cell_type": "code",
   "execution_count": 86,
   "id": "6e3fd0c0",
   "metadata": {},
   "outputs": [
    {
     "name": "stdout",
     "output_type": "stream",
     "text": [
      "2.4088314876309775\n"
     ]
    }
   ],
   "source": [
    "print(np.std(resultados))"
   ]
  },
  {
   "cell_type": "markdown",
   "id": "117bcde2",
   "metadata": {},
   "source": [
    "Para conocer más acerca de la libreria Numpy, puedes leer la documentación oficial en la página web."
   ]
  },
  {
   "cell_type": "markdown",
   "id": "889bbeb3",
   "metadata": {},
   "source": [
    "https://numpy.org"
   ]
  }
 ],
 "metadata": {
  "hide_input": false,
  "kernelspec": {
   "display_name": "Python 3 (ipykernel)",
   "language": "python",
   "name": "python3"
  },
  "language_info": {
   "codemirror_mode": {
    "name": "ipython",
    "version": 3
   },
   "file_extension": ".py",
   "mimetype": "text/x-python",
   "name": "python",
   "nbconvert_exporter": "python",
   "pygments_lexer": "ipython3",
   "version": "3.8.12"
  },
  "toc": {
   "base_numbering": 1,
   "nav_menu": {},
   "number_sections": true,
   "sideBar": true,
   "skip_h1_title": false,
   "title_cell": "Table of Contents",
   "title_sidebar": "Contents",
   "toc_cell": false,
   "toc_position": {},
   "toc_section_display": true,
   "toc_window_display": false
  }
 },
 "nbformat": 4,
 "nbformat_minor": 5
}
