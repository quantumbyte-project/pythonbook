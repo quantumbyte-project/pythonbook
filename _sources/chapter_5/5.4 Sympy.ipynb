{
 "cells": [
  {
   "cell_type": "markdown",
   "id": "e01819a4",
   "metadata": {},
   "source": [
    "# 5.4 Sympy\n",
    "***\n",
    "\n",
    "```{admonition} Advertencia\n",
    ":class: warning\n",
    "Este libro está actualmente en proceso de desarrollo, por lo que es posible que algunos de sus contenidos aún no estén disponibles. Agradecemos su comprensión mientras trabajamos en completarlo y mejorar su contenido.\n",
    "```"
   ]
  },
  {
   "cell_type": "markdown",
   "id": "d0f8182e",
   "metadata": {},
   "source": [
    "SymPy es una biblioteca de `Python` que consiste en dar un tratamiento para las matemáticas simbólicas, su objetivo es reunir todas las características de un sistema de álgebra cmputacional `(CAS)`. \n",
    "Sympy es completamente gratuito además es de código abierto. \n",
    "Esta librería resulta tan interesante ya que tiene funciones que ayudana a procesar datos que pueden ser difíciles a la hora de realizar manualmente, como por ejemplo:\n",
    "- *`Productos notables`* .\n",
    "- *`Cálculo integral, diferencial`* \n",
    "- *`Sistemas de ecuaciones`* \n",
    "\n",
    "La ventaja de Sympy es que esta basado en le lenguaje `Python`, por lo que facilita su uso para quienes se adentran a dicho lenguaje. \n"
   ]
  },
  {
   "cell_type": "markdown",
   "id": "40f9efb6",
   "metadata": {},
   "source": [
    "Para importar SymPy y disponer de todos los módulos y funciones que le componen  se utilizan diversas formas:\n",
    "\n",
    "- *`Forma Tradicional `* →. `Import SymPy`\n",
    "\n",
    "De esta forma, se carga toda la librería y se accede a cada una de las funciones mediante la sintaxis\n",
    "\n",
    "- *`Importando funciones seleccionadas`* →. `from sympy import Symbol,integrate,sin,cos`\n",
    "\n",
    "De este modo se importan solamente las funciones que vayan a utilizarse, es recomendable cuando se utilizará un número reducido de las mismas. Proporciona cierta ventaja dado que para acceder a una función no es necesario anteponer el nombre de la librería (sympy), aunque esto mismo represente una desventaja en aquellos casos en los que existen funciones de diferentes librerías con el mismo nombre."
   ]
  },
  {
   "cell_type": "markdown",
   "id": "a08479e4",
   "metadata": {},
   "source": [
    "Para tener una idea, se realiza la siguiente prueba, se hace uso de la forma tradicional. \n",
    "Al renombrar como `as`, funciona para que sea más ágil a la hora de mandar llamar las funciones."
   ]
  },
  {
   "cell_type": "code",
   "execution_count": null,
   "id": "c8fa2208",
   "metadata": {},
   "outputs": [],
   "source": [
    "#Se comienza por importar la librería\n",
    "import sympy as sy"
   ]
  },
  {
   "cell_type": "markdown",
   "id": "a416b087",
   "metadata": {},
   "source": [
    "$$\\sqrt{8} = 2 \\sqrt{2} $$"
   ]
  },
  {
   "cell_type": "markdown",
   "id": "15bcde86",
   "metadata": {},
   "source": [
    " Al trabajar con la raíz $\\sqrt{8}$, en la bilbioteca SymPy lo que hace es tomarlo como un símbolo."
   ]
  },
  {
   "cell_type": "code",
   "execution_count": null,
   "id": "93c6f080",
   "metadata": {},
   "outputs": [],
   "source": [
    "sy.sqrt(8)"
   ]
  },
  {
   "cell_type": "markdown",
   "id": "415965cc",
   "metadata": {},
   "source": [
    "Al utilizar print((8)**(1/2))"
   ]
  },
  {
   "cell_type": "markdown",
   "id": "fa7a52d4",
   "metadata": {},
   "source": [
    "Sin emabrgo si se desa obtener el resultado de esta raíz, lo que se hace es escribir la sintaxis correcta, como, $8^{1/2}$"
   ]
  },
  {
   "cell_type": "markdown",
   "id": "4430601a",
   "metadata": {},
   "source": [
    "Para tarabajar con SpymPy, es realizar una declaración de símbolos. Esto proporciona a la librería  dar un trato a la hora de realizar un programa consitirán como `símbolos` y no como variables. \n",
    "Para ello se utiliza la declaración de una variable `x` y `y`"
   ]
  },
  {
   "cell_type": "code",
   "execution_count": null,
   "id": "d8519fb6",
   "metadata": {},
   "outputs": [],
   "source": [
    "#Declaración de símbolos\n",
    "\n",
    "x, y  = sy.symbols(\"x y\")\n"
   ]
  },
  {
   "cell_type": "markdown",
   "id": "5a2a9711",
   "metadata": {},
   "source": [
    "La declaración de dicas variables puede hacerse por separado o en la misma línea. Ppara realizar su sintaxis. notese que importa el orden. Es decir,dado que se escribió `x, y  = sy.symbols(\"x y\")`, entonces a la variable `x` le corresponde el símbolo de `x` y de igual forma para `y`. Si ahora se decide cambiar su orden `y, x  = sy.symbols(\"x y\")`, entonces a `y` le corresponde `x` por su parte a la variable `x` se le asigna el  símbolo de `y`. \n",
    "\n",
    "Una vez, que se asigan las variables que tomarán el papel como símbolos, se pueden comenzar a usar. Aquí un ejemplo:\n"
   ]
  },
  {
   "cell_type": "code",
   "execution_count": 7,
   "id": "ec216774",
   "metadata": {},
   "outputs": [
    {
     "name": "stdout",
     "output_type": "stream",
     "text": [
      "x + 3*y\n"
     ]
    }
   ],
   "source": [
    "import sympy as sy\n",
    "x, y  = sy.symbols(\"x y\")\n",
    "print(x + 3*y)"
   ]
  },
  {
   "cell_type": "markdown",
   "id": "e6f67872",
   "metadata": {},
   "source": [
    "Si causa conflicto entender la asignación a la varibles es decir si son símbolos o no, se puede hacer uso de la función `type`, de esta manera se puede conocer la clase, tipo de dato que son. \n",
    " Su formato es el siguiente: \n",
    " `type(variable)`\n",
    " Aplicando al caso anterior, se tendra que  `type(x)`, su resultado arrojará  `sympy.core.symbol.Symbol`"
   ]
  },
  {
   "cell_type": "markdown",
   "id": "645b79e5",
   "metadata": {},
   "source": [
    "### Simplificación \n",
    "Para este ejemplo, se crea una expresión, nomrada como `Exp`. Al ejecutar la impresión, notese que `x` y `y` las toma como símbolos, entonces al realizar la operación `Exp - x**2`, lo que hace es eliminar `el x**2` y solo dejar como resultado la variable `y`."
   ]
  },
  {
   "cell_type": "code",
   "execution_count": 1,
   "id": "d630b185",
   "metadata": {},
   "outputs": [
    {
     "ename": "NameError",
     "evalue": "name 'x' is not defined",
     "output_type": "error",
     "traceback": [
      "\u001b[1;31m---------------------------------------------------------------------------\u001b[0m",
      "\u001b[1;31mNameError\u001b[0m                                 Traceback (most recent call last)",
      "\u001b[1;32m~\\AppData\\Local\\Temp\\ipykernel_21308\\3428327612.py\u001b[0m in \u001b[0;36m<module>\u001b[1;34m\u001b[0m\n\u001b[1;32m----> 1\u001b[1;33m \u001b[0mExp\u001b[0m \u001b[1;33m=\u001b[0m \u001b[0mx\u001b[0m\u001b[1;33m**\u001b[0m\u001b[1;36m2\u001b[0m \u001b[1;33m+\u001b[0m \u001b[0my\u001b[0m\u001b[1;33m\u001b[0m\u001b[1;33m\u001b[0m\u001b[0m\n\u001b[0m\u001b[0;32m      2\u001b[0m \u001b[1;33m\u001b[0m\u001b[0m\n\u001b[0;32m      3\u001b[0m \u001b[0mprint\u001b[0m\u001b[1;33m(\u001b[0m\u001b[0mExp\u001b[0m \u001b[1;33m-\u001b[0m \u001b[0mx\u001b[0m\u001b[1;33m**\u001b[0m\u001b[1;36m2\u001b[0m\u001b[1;33m)\u001b[0m\u001b[1;33m\u001b[0m\u001b[1;33m\u001b[0m\u001b[0m\n",
      "\u001b[1;31mNameError\u001b[0m: name 'x' is not defined"
     ]
    }
   ],
   "source": [
    "Exp = x**2 + y\n",
    "\n",
    "print(Exp - x**2)"
   ]
  },
  {
   "cell_type": "markdown",
   "id": "791fd773",
   "metadata": {},
   "source": [
    "Otra forma de realizar simplifaciones es por medio de la función `symplify()`, en donde el arguemento es lo que se desea simplificar, así como muestra el siguiente ejemplo: \n"
   ]
  },
  {
   "cell_type": "code",
   "execution_count": 12,
   "id": "b80d2c8c",
   "metadata": {},
   "outputs": [
    {
     "data": {
      "text/latex": [
       "$\\displaystyle b \\left(a^{2} + 1\\right)$"
      ],
      "text/plain": [
       "b*(a**2 + 1)"
      ]
     },
     "execution_count": 12,
     "metadata": {},
     "output_type": "execute_result"
    }
   ],
   "source": [
    "a, b = sy.symbols(\"a b\")\n",
    "\n",
    "Exp_1 = (a**2)*b +2*b - b \n",
    "\n",
    "sy.simplify(Exp_1)"
   ]
  },
  {
   "cell_type": "markdown",
   "id": "d9148255",
   "metadata": {},
   "source": [
    "Se definen las variables `a` y `b` como símbolos, así como la variable `Exp_1` que contiene un producto notable, al utilizar la función `simplify`, nos damos cuenta que simplifica dicha expresión en $b(a^2 + 1)$"
   ]
  },
  {
   "cell_type": "markdown",
   "id": "72ba68f6",
   "metadata": {},
   "source": [
    "### Factorización \n",
    "Para relizar factorizaciones se hace uso de la función llamada `factor()`.\n"
   ]
  },
  {
   "cell_type": "code",
   "execution_count": 6,
   "id": "ddb396db",
   "metadata": {},
   "outputs": [
    {
     "data": {
      "text/latex": [
       "$\\displaystyle \\left(x + y\\right)^{2}$"
      ],
      "text/plain": [
       "(x + y)**2"
      ]
     },
     "execution_count": 6,
     "metadata": {},
     "output_type": "execute_result"
    }
   ],
   "source": [
    "import sympy as sy\n",
    "Exp_2 = x**2 + 2*x*y + y**2\n",
    "sy.factor(Exp_2)"
   ]
  },
  {
   "cell_type": "markdown",
   "id": "ae08515c",
   "metadata": {},
   "source": [
    "De esta forma, al utilizar la función `factor`, nos damos cuenta que simplifica la expresión en un binomio. "
   ]
  },
  {
   "cell_type": "markdown",
   "id": "4d10177b",
   "metadata": {},
   "source": [
    "Algo interesante de dicha biblioteca. es que se pueden realizas sustituciones. Para ello, se utiliza la función `subs()` en donde el argumento a contener es el símbolo que se esta utilizando seguido de una `,` y por último la variable que se desea sustituir. así como se muestra en el siguiente ejemplo:\n",
    "\n"
   ]
  },
  {
   "cell_type": "code",
   "execution_count": 9,
   "id": "e37e767f",
   "metadata": {},
   "outputs": [
    {
     "name": "stdout",
     "output_type": "stream",
     "text": [
      "x**2 + 2*x\n"
     ]
    },
    {
     "data": {
      "text/latex": [
       "$\\displaystyle 3$"
      ],
      "text/plain": [
       "3"
      ]
     },
     "execution_count": 9,
     "metadata": {},
     "output_type": "execute_result"
    }
   ],
   "source": [
    "Exp_3 = x**2 + 2*x\n",
    "\n",
    "print(Exp_3)\n",
    "\n",
    "Exp_3.subs(x, 1)"
   ]
  },
  {
   "cell_type": "markdown",
   "id": "fe2636c4",
   "metadata": {},
   "source": [
    "- *`Símbolo actual` → x* .\n",
    "- *`Variable a reemplazar` → 1*\n",
    "\n",
    "Por lo que el resultado será `3`\n"
   ]
  },
  {
   "cell_type": "markdown",
   "id": "7075cbbf",
   "metadata": {},
   "source": [
    "### Determinar si las expresiones son iguales"
   ]
  },
  {
   "cell_type": "markdown",
   "id": "b4343b9e",
   "metadata": {},
   "source": [
    "En matemáticas, un enunciado en el que dos expresiones (iguales o distintas) denotan el mismo objeto matemático se llama igualdad matemática. Dos objetos matemáticos son considerados iguales si los objetos poseen el mismo valor.\n",
    "\n",
    "Para ello, gracias a la biblioteca SymPy es posible igualar expresiones para determinar si posen el mismo valor o no. "
   ]
  },
  {
   "cell_type": "markdown",
   "id": "741f3e55",
   "metadata": {},
   "source": [
    "Para el siguiente ejemplo se hace uso de la identidad pitagórica , $$\\cos ^2 (x) + \\sin^2 (x) = 1 $$\n",
    " \n",
    "Esta identidad puede verificarse con SymPy, como muestra el ejemplo . "
   ]
  },
  {
   "cell_type": "code",
   "execution_count": 13,
   "id": "c2937053",
   "metadata": {},
   "outputs": [
    {
     "data": {
      "text/plain": [
       "True"
      ]
     },
     "execution_count": 13,
     "metadata": {},
     "output_type": "execute_result"
    }
   ],
   "source": [
    "h = sy.cos(x)**2 + sy.sin(x)**2\n",
    "g = 1\n",
    "\n",
    "h.equals(g)"
   ]
  },
  {
   "cell_type": "markdown",
   "id": "0990621a",
   "metadata": {},
   "source": [
    "Se definieron dos expresiones `h` y `g`, en donde en la variable `h` se manda a llamar al coseno asi como a la función seno. En la variable `g`, se guarda el valor de lo que la identidad pitagórica vale.\n",
    "\n",
    "Una vez que se define las variables, se hace uso de la función `equals`, la sintaxis para esta función es anteponer la la variable que se desea determinar si es igual, en este casa `h`, seguida de un `.`, luego se agrega la función `equals` en donde el argumento a contener es la variable que contiene el valor a igualar, o sea `g`. \n",
    "\n",
    "De tal manera que como la variable `h` es igual a la variable `g` el resultado arrojado será, `True`. "
   ]
  },
  {
   "cell_type": "markdown",
   "id": "8d7a31cc",
   "metadata": {},
   "source": [
    "### Operaciones aritméticas\n",
    "Para realizar operaciones aritméticas y conocer su valor, se procede a definir variables con valores numéricos. Para verificar que su tratamiento sea simbólico se utiliza la función `Integer()`, para ello se muestra el siguiente ejemplo: \n"
   ]
  },
  {
   "cell_type": "code",
   "execution_count": null,
   "id": "188173e6",
   "metadata": {},
   "outputs": [],
   "source": [
    "Number = sy.Integer(1)\n"
   ]
  },
  {
   "cell_type": "markdown",
   "id": "c390c254",
   "metadata": {},
   "source": [
    "Se define la variable `Number` y dado que el valor numérico `1` se quiere tomar como símbolo se escribe dentro del argumento de la función `Integer`, de esa forma se puede manejar valores numéricos como símbolos.\n",
    "\n",
    "Trabajar con esta función brinda la posibilidad evitar errores de puntos flotantes "
   ]
  },
  {
   "cell_type": "markdown",
   "id": "89d92126",
   "metadata": {},
   "source": [
    "### Impresión en pantalla\n"
   ]
  },
  {
   "cell_type": "markdown",
   "id": "875a1705",
   "metadata": {},
   "source": [
    "Existen varias formas de imprimir los resultados, como lo son\n",
    "- *`str (cadenas de texto)`* .\n",
    "- *`ASCII`* \n",
    "- *`Unicode`* \n",
    "- *`Latex`* \n",
    "- *`MathML`* \n",
    " \n",
    " Cada uno de ellos cuenta con distintas carcterísticas, así como formatos para impresión dentro de la biblioteca SymPy."
   ]
  },
  {
   "cell_type": "markdown",
   "id": "d47901cc",
   "metadata": {},
   "source": [
    "Para utilizar dichas impresiones, se hace uso de la función `limit_printing()` anteponiendo el seudónimo `sy`. De esa forma le dice al programa que se desea imprimir.\n",
    "\n",
    " Reecordando que anteriormente se definieron las variables `x` y `y`, se toma el siguiente ejemplo. "
   ]
  },
  {
   "cell_type": "code",
   "execution_count": null,
   "id": "1eb795ca",
   "metadata": {},
   "outputs": [],
   "source": [
    "sy.init_printing()"
   ]
  },
  {
   "cell_type": "code",
   "execution_count": 14,
   "id": "1dca190a",
   "metadata": {},
   "outputs": [
    {
     "data": {
      "text/latex": [
       "$\\displaystyle x^{2} + y^{2} + 2$"
      ],
      "text/plain": [
       "x**2 + y**2 + 2"
      ]
     },
     "execution_count": 14,
     "metadata": {},
     "output_type": "execute_result"
    }
   ],
   "source": [
    "x**2 + 2 + y**2"
   ]
  },
  {
   "cell_type": "markdown",
   "id": "6e6eb9f4",
   "metadata": {},
   "source": [
    "Al ejecutar dicha expresión, realiza la impresión en `Latex`, si se quiere imprimir dicha expresión `x**2 + 2 + y**2` en una cadena de texto la ofrma de haxcerlo es escribir la función `str` que contenga como argumento la expresión a imprimir. Como se muestra en el ejemplo:"
   ]
  },
  {
   "cell_type": "code",
   "execution_count": 15,
   "id": "1d398de3",
   "metadata": {},
   "outputs": [
    {
     "data": {
      "text/plain": [
       "'x**2 + y**2 + 2'"
      ]
     },
     "execution_count": 15,
     "metadata": {},
     "output_type": "execute_result"
    }
   ],
   "source": [
    "str(x**2 + 2 + y**2)"
   ]
  },
  {
   "cell_type": "markdown",
   "id": "0a81c4e5",
   "metadata": {},
   "source": [
    "Nos damos cuenta que la impresión que realiza es una cadena de texto."
   ]
  },
  {
   "cell_type": "markdown",
   "id": "ec8fa291",
   "metadata": {},
   "source": [
    "También se puede utilizar `Unicode`, que lo que ace es realizar una impresión mas sofisticada. Para ello se utiliza una función llamada `pprint`, anteponiendo el seudónimo `sy`. Como se muestra en el ejemplo: "
   ]
  },
  {
   "cell_type": "code",
   "execution_count": null,
   "id": "bf0ae83a",
   "metadata": {},
   "outputs": [],
   "source": [
    "sy.pprint(x**2 + y**2 + 2, use_unicode=True)"
   ]
  },
  {
   "cell_type": "markdown",
   "id": "74bfa775",
   "metadata": {},
   "source": [
    "Para realizar la impresión con `ASCII`, lo que cambia es que para igualar la expresión se considera el `False`, como se muestra:\n"
   ]
  },
  {
   "cell_type": "code",
   "execution_count": null,
   "id": "13666606",
   "metadata": {},
   "outputs": [],
   "source": [
    "sy.pprint(x**2 + y**2 + 2, use_unicode=False)"
   ]
  },
  {
   "cell_type": "code",
   "execution_count": 16,
   "id": "b1d7845c",
   "metadata": {},
   "outputs": [
    {
     "data": {
      "text/latex": [
       "$\\displaystyle \\int e^{- x^{2}}\\, dx$"
      ],
      "text/plain": [
       "Integral(exp(-x**2), x)"
      ]
     },
     "execution_count": 16,
     "metadata": {},
     "output_type": "execute_result"
    }
   ],
   "source": [
    "Sum = sy.Integral(sy.exp(-x**2), x)\n",
    "\n",
    "Sum"
   ]
  },
  {
   "cell_type": "markdown",
   "id": "5aa4040e",
   "metadata": {},
   "source": [
    "En este caso, se define la variable `Sum`, seguido de la función `Integral` anteponiendo el seudónimo `sy`, en donde la función a integrar es `sy.exp(-x**2)` la `,` va seguido del símbolo que se quiera integrar en este caso `x`."
   ]
  },
  {
   "cell_type": "markdown",
   "id": "9462bee8",
   "metadata": {},
   "source": [
    "DE tal manera que de esta forma se pueden utilizar las diferentes impresiones, como:\n",
    "- *`str (cadenas de texto)`* → str(Sum)\n",
    "- *`ASCII`* → sy.pprint(Sum, use_unicode=False) \n",
    "\n",
    "- *`Unicode`* →sy.pprint(Sum, use_unicode=True)\n",
    "\n",
    "etc. \n",
    "\n",
    "    "
   ]
  },
  {
   "cell_type": "markdown",
   "id": "cd8fa0ad",
   "metadata": {},
   "source": []
  },
  {
   "cell_type": "code",
   "execution_count": 21,
   "id": "eb36c42c",
   "metadata": {},
   "outputs": [
    {
     "name": "stdout",
     "output_type": "stream",
     "text": [
      "⌠        \n",
      "⎮    2   \n",
      "⎮  -x    \n",
      "⎮ ℯ    dx\n",
      "⌡        \n",
      "  /       \n",
      " |        \n",
      " |    2   \n",
      " |  -x    \n",
      " | e    dx\n",
      " |        \n",
      "/         \n"
     ]
    }
   ],
   "source": [
    "str(Sum)\n",
    "\n",
    "sy.pprint(Sum, use_unicode=True) #Unicode\n",
    "\n",
    "sy.pprint(Sum, use_unicode=False) #ASCII"
   ]
  },
  {
   "cell_type": "markdown",
   "id": "473560ea",
   "metadata": {},
   "source": [
    "Ahora se trabajará con cálculo simbólico mediante el cálculo diferencial e integral, así como algunos conceptos del álgebra lineal como `matrices`, `sistemas`, etc. "
   ]
  },
  {
   "cell_type": "markdown",
   "id": "7c63195a",
   "metadata": {},
   "source": [
    "***\n",
    "## Cálculo \n",
    "\n",
    "Para comenzar a resolver derivadas e integrales, se comienza por importar el módulo **symPy**, agregando su seudónimo `sy`. \n",
    "\n"
   ]
  },
  {
   "cell_type": "code",
   "execution_count": 25,
   "id": "19959ee9",
   "metadata": {},
   "outputs": [],
   "source": [
    "import sympy as sy\n",
    "x = sy.symbols(\"x\")"
   ]
  },
  {
   "cell_type": "markdown",
   "id": "51ea5c76",
   "metadata": {},
   "source": [
    "En tal ejemplo, se define la variable `x` como símbolo. \n",
    " \n",
    "Supongamos que se tiene la siguiente función exponencial $e^{x^{2}}$, en donde al imprimir mediante la ejecución de `f`, se tiene que:"
   ]
  },
  {
   "cell_type": "code",
   "execution_count": 28,
   "id": "a67d906a",
   "metadata": {},
   "outputs": [
    {
     "data": {
      "text/latex": [
       "$\\displaystyle e^{x^{2}}$"
      ],
      "text/plain": [
       "exp(x**2)"
      ]
     },
     "execution_count": 28,
     "metadata": {},
     "output_type": "execute_result"
    }
   ],
   "source": [
    "f = sy.exp(x**2)\n",
    "\n",
    "f"
   ]
  },
  {
   "cell_type": "markdown",
   "id": "1dfa66de",
   "metadata": {},
   "source": [
    "Si se requiere derivar dicha expresión, se utiliza la función `diff()` en donde recibe como argumento la expresión que se desea derivar seguido de una `,` para luego escribir el simbolo sobre el cual se desea derivar. Como se muestra en el ejemplo: "
   ]
  },
  {
   "cell_type": "code",
   "execution_count": 31,
   "id": "50a6959f",
   "metadata": {},
   "outputs": [
    {
     "data": {
      "text/latex": [
       "$\\displaystyle 2 x e^{x^{2}}$"
      ],
      "text/plain": [
       "2*x*exp(x**2)"
      ]
     },
     "execution_count": 31,
     "metadata": {},
     "output_type": "execute_result"
    }
   ],
   "source": [
    "sy.diff(f, x)"
   ]
  },
  {
   "cell_type": "markdown",
   "id": "b9d8b783",
   "metadata": {},
   "source": [
    "Donde: \n",
    "- *`f `* → Representa la función a derivar \n",
    "- *`x `* → Representa el símbolo respecto al cual se va a derivar\n",
    "\n",
    "De tal manera que de esa forma se puede obtener la derivada de la función `f `."
   ]
  },
  {
   "cell_type": "markdown",
   "id": "8b5efa3b",
   "metadata": {},
   "source": [
    "Anteriormente se habia visto como imprimir integrales, por lo que ahora se mostrará como resolverlas. \n",
    "\n",
    "Para ello, se propone el siguiente ejemplo: \n",
    "\n",
    "Se define la función `g`"
   ]
  },
  {
   "cell_type": "code",
   "execution_count": null,
   "id": "0da5b417",
   "metadata": {},
   "outputs": [],
   "source": [
    "g = sy.exp(-x)\n",
    "\n",
    "g"
   ]
  },
  {
   "cell_type": "markdown",
   "id": "d0434606",
   "metadata": {},
   "source": [
    "Para resolver integrales se hace uso de la función `integrate()` en donde recibe como argumento la función a integrar, seguido de una `,` para luego escribir el simbolo respecto al cual se integrará. Es decir, \n",
    "Donde: \n",
    "- *`g `* → Representa la función a integrar \n",
    "- *`x `* → Representa el símbolo respecto al cual se integrará"
   ]
  },
  {
   "cell_type": "markdown",
   "id": "c36f3a2a",
   "metadata": {},
   "source": [
    "Si se quiere realizar una integral definida, que vaya desde $0$ hasta $\\infty$, es decir: \n",
    "$$\\int_{0}^{\\infty} e^{-x} \\; dx$$"
   ]
  },
  {
   "cell_type": "markdown",
   "id": "7e7f4658",
   "metadata": {},
   "source": [
    "Para dar solución a dicha integral se utiliza nuevamente la función `integrate()`, con la diferencia que en el arguemnto de la `x` alrededor de ella se abren `()`, en donde seguido de la x la acompaña `,` para escribir el límite inferior seguido de `,` y por último escribir el limite superior.\n",
    "\n",
    "- *`0`* → Representa el límite inferior\n",
    "- *`\\infty `* → Representa el límite superior \n",
    "\n",
    "Así como muestra el siguiente ejemplo: "
   ]
  },
  {
   "cell_type": "code",
   "execution_count": 37,
   "id": "c10e01cb",
   "metadata": {},
   "outputs": [
    {
     "data": {
      "text/latex": [
       "$\\displaystyle 1$"
      ],
      "text/plain": [
       "1"
      ]
     },
     "execution_count": 37,
     "metadata": {},
     "output_type": "execute_result"
    }
   ],
   "source": [
    "g = sy.exp(-x)\n",
    "x = sy.symbols(\"x\")\n",
    "sy.integrate(g, (x, 0, sy.oo)) "
   ]
  },
  {
   "cell_type": "markdown",
   "id": "1b23cdcd",
   "metadata": {},
   "source": [
    "Note que la manera de escribir el símbolo de infinito en SymPy está dado por `sy.oo`\n",
    "El resultado para la integral de  la función `g` es: $1$"
   ]
  },
  {
   "cell_type": "markdown",
   "id": "d2c6577c",
   "metadata": {},
   "source": [
    "Previamente se mostró que también existe la forma de escribir integrales siguiendo el formato `Integral`, pero esta sintaxis solo mostraba la impresión de la función a integrar más no daba solución, como se ve en el ejemplo para la función: \n",
    "$$\\int e^{-x^{2}} \\; dx$$"
   ]
  },
  {
   "cell_type": "code",
   "execution_count": 39,
   "id": "57b65068",
   "metadata": {},
   "outputs": [
    {
     "data": {
      "text/latex": [
       "$\\displaystyle \\int e^{- x^{2}}\\, dx$"
      ],
      "text/plain": [
       "Integral(exp(-x**2), x)"
      ]
     },
     "execution_count": 39,
     "metadata": {},
     "output_type": "execute_result"
    }
   ],
   "source": [
    "Sum = sy.Integral(sy.exp(-x**2), x)\n",
    "\n",
    "Sum"
   ]
  },
  {
   "cell_type": "markdown",
   "id": "37c3a3c6",
   "metadata": {},
   "source": [
    "Si se quiere solucionar dicha integral con la función `Integral`, se utiliza el  método `doit()` anteponiendo el nombre la de la función para dar solución. Así como se muestra en el ejemplo: \n"
   ]
  },
  {
   "cell_type": "code",
   "execution_count": 40,
   "id": "3b599d6e",
   "metadata": {},
   "outputs": [
    {
     "data": {
      "text/latex": [
       "$\\displaystyle \\frac{\\sqrt{\\pi} \\operatorname{erf}{\\left(x \\right)}}{2}$"
      ],
      "text/plain": [
       "sqrt(pi)*erf(x)/2"
      ]
     },
     "execution_count": 40,
     "metadata": {},
     "output_type": "execute_result"
    }
   ],
   "source": [
    "Sum.doit()"
   ]
  },
  {
   "cell_type": "markdown",
   "id": "79dad80a",
   "metadata": {},
   "source": [
    "La solución para la función `Sum`, esta integral no cuenta con una antiderivada por lo que el resultado arroja un error, como se muestra: \n",
    "$$\\frac{\\sqrt {\\pi} erf(x)}{2}$$\n",
    "\n",
    "Sin embargo, la función `Sum` si se puede integrar mediante una integral deifnida que va desde $-\\infty$ hasta  $\\infty$, es decir: \n",
    "$$\\int_{-\\infty}^{\\infty} e^{-x^{2}} \\; dx$$\n",
    "\n",
    "Para resolverla se utiliza la función `Integrate`, como se ve:  "
   ]
  },
  {
   "cell_type": "code",
   "execution_count": 41,
   "id": "c853f994",
   "metadata": {},
   "outputs": [
    {
     "data": {
      "text/latex": [
       "$\\displaystyle \\sqrt{\\pi}$"
      ],
      "text/plain": [
       "sqrt(pi)"
      ]
     },
     "execution_count": 41,
     "metadata": {},
     "output_type": "execute_result"
    }
   ],
   "source": [
    "sy.integrate(sy.exp(-x**2), (x, -sy.oo, sy.oo))"
   ]
  },
  {
   "cell_type": "markdown",
   "id": "2886596f",
   "metadata": {},
   "source": [
    "Arrojando como resultado: \n",
    "$$\\sqrt{\\pi}$$"
   ]
  },
  {
   "cell_type": "markdown",
   "id": "413101df",
   "metadata": {},
   "source": [
    "### Evaluación de límites "
   ]
  },
  {
   "cell_type": "markdown",
   "id": "fd96646b",
   "metadata": {},
   "source": [
    "En el área del cálculo, la evlauación de límites resulta una tarea muy importante en la cual permite haveriguar lo que le ocurre a la función en las proximidades de puntos o el infinito. Al evaluar límites generalmente se usan herramientas del álgebra para simplificar dichas funciones y asi encontrar la convergencia en dado caso de que exista o el límite en el cual diverge.  \n",
    "\n",
    "En SymPy se cuenta con la función `limit()` para evaluar los límites, anteponiendo el seudónimo de `sy`, en el argumento de la función `limit` se agrega la función a la cual se desea encontrar el limite, seguido del símbolo sobre el cual se enontrará el límite y por último la tendencia al cuál el límite desea acercarse. \n",
    "Tal como muestra el ejemplo para la función: \n",
    "$$h = \\frac{1}{x}$$"
   ]
  },
  {
   "cell_type": "code",
   "execution_count": 42,
   "id": "da079e07",
   "metadata": {},
   "outputs": [
    {
     "data": {
      "text/latex": [
       "$\\displaystyle \\infty$"
      ],
      "text/plain": [
       "oo"
      ]
     },
     "execution_count": 42,
     "metadata": {},
     "output_type": "execute_result"
    }
   ],
   "source": [
    "h = 1/x\n",
    "\n",
    "sy.limit(h, x, 0)"
   ]
  },
  {
   "cell_type": "markdown",
   "id": "7be43218",
   "metadata": {},
   "source": [
    "Reecordando que la variable `x` ya esta definida anteriormente como símbolo. De la función `h` el resultado es: \n",
    "$$\\infty$$\n"
   ]
  },
  {
   "cell_type": "markdown",
   "id": "19df967d",
   "metadata": {},
   "source": [
    "***\n",
    "## Solución de ecuaciones "
   ]
  },
  {
   "cell_type": "markdown",
   "id": "bf19341a",
   "metadata": {},
   "source": [
    "En lalibrería SymPy, también cuenta con la alternativa de dar solución a sistemas de ecuaciones, para ello se propone la siguiente expresión: \n",
    "$$x^2 + 1 = 0$$\n",
    "\n",
    "Se define una variable `Expr` en la que se guarda $x^2 + 1$. Anteriormente se trabajo con expresiones pero no con ecuacione, para ello se crea la variable `Ec` en la cual guardará el lado izquierdo de la expresión $x^2 + 1$, para definir ecuaciones se toma la función `Eq()` anteponiendo el seudónimo `sy` y guardando en el argumento de `Eq` el valor del lado izquierdo seguido del valor del lado derecho, en este caso `0`, es decir `Eq(Expr, 0)` ."
   ]
  },
  {
   "cell_type": "code",
   "execution_count": 44,
   "id": "3c78270c",
   "metadata": {},
   "outputs": [
    {
     "data": {
      "text/latex": [
       "$\\displaystyle x^{2} + 1 = 0$"
      ],
      "text/plain": [
       "Eq(x**2 + 1, 0)"
      ]
     },
     "execution_count": 44,
     "metadata": {},
     "output_type": "execute_result"
    }
   ],
   "source": [
    "Expr = x**2 + 1\n",
    "\n",
    "Ec = sy.Eq(Expr, 0)\n",
    "\n",
    "Ec"
   ]
  },
  {
   "cell_type": "markdown",
   "id": "008bd5f6",
   "metadata": {},
   "source": [
    "Para resolver dicha ecuación se toma la función `solvest()`, la cual guarda en su argumento la ecuación que se desea resolver, en este caso `Ec` seguido del símbolo que se desea despejar `x` que representa un símbolo. Por tanto, esto sería: `sy.solveset(Ec, x)`, arrojando como resultado ${-i,i}$"
   ]
  },
  {
   "cell_type": "code",
   "execution_count": 45,
   "id": "d9ac4611",
   "metadata": {},
   "outputs": [
    {
     "data": {
      "text/latex": [
       "$\\displaystyle \\left\\{- i, i\\right\\}$"
      ],
      "text/plain": [
       "{-I, I}"
      ]
     },
     "execution_count": 45,
     "metadata": {},
     "output_type": "execute_result"
    }
   ],
   "source": [
    "sy.solveset(Ec, x)"
   ]
  },
  {
   "cell_type": "markdown",
   "id": "1753cf92",
   "metadata": {},
   "source": [
    "***\n",
    "## Matrices"
   ]
  },
  {
   "cell_type": "markdown",
   "id": "250a1313",
   "metadata": {},
   "source": [
    "En `Python` se definía una matriz como una lista que contenía listas, es decir que cada una de esas listas represntan las filas. \n",
    "\n",
    "Para ello se toma la siguiente matriz `A`: \n",
    " $$ A = \\begin{pmatrix}\n",
    " 1 & 2 \\\\\n",
    " 3 & 4 \\\\\n",
    " \\end{pmatrix}$$\n",
    " \n",
    " Para definir matrices se usa la misma sintaxis que en `Python`` →``A = [[1,2], [3,4]]`"
   ]
  },
  {
   "cell_type": "code",
   "execution_count": 47,
   "id": "dc180527",
   "metadata": {},
   "outputs": [],
   "source": [
    "A = [[1,2], [3,4]]"
   ]
  },
  {
   "cell_type": "markdown",
   "id": "1c7e5f40",
   "metadata": {},
   "source": [
    "Para dar un tratamiento simbólico para una matriz, el formato que se usa es `sy.Matrix()`, en donde el arguemnto de `Matrix` guarda la matriz, en este caso la matriz `A`, quedando asi, `Matriz = sy.Matrix(A)`. \n"
   ]
  },
  {
   "cell_type": "code",
   "execution_count": 49,
   "id": "d37d659d",
   "metadata": {},
   "outputs": [
    {
     "data": {
      "text/latex": [
       "$\\displaystyle \\left[\\begin{matrix}1 & 2\\\\3 & 4\\end{matrix}\\right]$"
      ],
      "text/plain": [
       "Matrix([\n",
       "[1, 2],\n",
       "[3, 4]])"
      ]
     },
     "execution_count": 49,
     "metadata": {},
     "output_type": "execute_result"
    }
   ],
   "source": [
    "A = [[1,2], [3,4]]\n",
    "Matriz = sy.Matrix(A)\n",
    "Matriz"
   ]
  },
  {
   "cell_type": "markdown",
   "id": "165b8cb4",
   "metadata": {},
   "source": []
  },
  {
   "cell_type": "markdown",
   "id": "e77439ee",
   "metadata": {},
   "source": [
    "Por su parte, se define la matriz `B = [[5,6], [7,8]]`"
   ]
  },
  {
   "cell_type": "code",
   "execution_count": null,
   "id": "7f9d7a72",
   "metadata": {},
   "outputs": [],
   "source": [
    "B = [[5,6], [7,8]]\n",
    "\n",
    "Matriz1 = sy.Matrix(B)\n",
    "\n",
    "Matriz1"
   ]
  },
  {
   "cell_type": "markdown",
   "id": "44f5c2ac",
   "metadata": {},
   "source": [
    "Guardando en la variable `Matriz1` dicha matriz `B"
   ]
  },
  {
   "cell_type": "markdown",
   "id": "0b2346e3",
   "metadata": {},
   "source": [
    "Una vez definidas las matrices, también existe la posibilidad de operar sobre ellas, es decir:\n",
    "- *`Sumas`* .\n",
    "- *`Restas`* \n",
    "- *`Multiplicación`* \n",
    "\n",
    "etc.\n",
    "\n",
    "Por ejemplo para realizar una **suma**, basta con sumar las variables definidas previamente`Matriz + Matriz1`, así como se muestra en el ejemplo: "
   ]
  },
  {
   "cell_type": "code",
   "execution_count": 51,
   "id": "aa5b31c9",
   "metadata": {},
   "outputs": [
    {
     "data": {
      "text/latex": [
       "$\\displaystyle \\left[\\begin{matrix}6 & 8\\\\10 & 12\\end{matrix}\\right]$"
      ],
      "text/plain": [
       "Matrix([\n",
       "[ 6,  8],\n",
       "[10, 12]])"
      ]
     },
     "execution_count": 51,
     "metadata": {},
     "output_type": "execute_result"
    }
   ],
   "source": [
    "A = [[1,2], [3,4]]\n",
    "Matriz = sy.Matrix(A)\n",
    "\n",
    "B = [[5,6], [7,8]]\n",
    "Matriz1 = sy.Matrix(B)\n",
    "\n",
    "Matriz + Matriz1"
   ]
  },
  {
   "cell_type": "markdown",
   "id": "8ea8eaa5",
   "metadata": {},
   "source": [
    "Para realizar la **multiplicación**, se sigue un sintaxis parecida al de la suma solo que ahora se añde el operador de multiplicación `*`, es decir, `Matriz*Matriz1`, así como se muestra en el ejemplo:"
   ]
  },
  {
   "cell_type": "code",
   "execution_count": 52,
   "id": "8ef97faa",
   "metadata": {},
   "outputs": [
    {
     "data": {
      "text/latex": [
       "$\\displaystyle \\left[\\begin{matrix}19 & 22\\\\43 & 50\\end{matrix}\\right]$"
      ],
      "text/plain": [
       "Matrix([\n",
       "[19, 22],\n",
       "[43, 50]])"
      ]
     },
     "execution_count": 52,
     "metadata": {},
     "output_type": "execute_result"
    }
   ],
   "source": [
    "A = [[1,2], [3,4]]\n",
    "Matriz = sy.Matrix(A)\n",
    "\n",
    "B = [[5,6], [7,8]]\n",
    "Matriz1 = sy.Matrix(B)\n",
    "\n",
    "Matriz*Matriz1"
   ]
  },
  {
   "cell_type": "markdown",
   "id": "902953bb",
   "metadata": {},
   "source": [
    "Otra función que brinda SymPy es sacar determinantes para las matrices. La sintaxis para realizar esta operación es tomar la variable que guarda a la matriz seguida de la función `det()`, por ejemplo: `Matriz.det()`\n"
   ]
  },
  {
   "cell_type": "code",
   "execution_count": 53,
   "id": "c5b0477e",
   "metadata": {},
   "outputs": [
    {
     "data": {
      "text/latex": [
       "$\\displaystyle -2$"
      ],
      "text/plain": [
       "-2"
      ]
     },
     "execution_count": 53,
     "metadata": {},
     "output_type": "execute_result"
    }
   ],
   "source": [
    "Matriz.det()"
   ]
  },
  {
   "cell_type": "markdown",
   "id": "00f40412",
   "metadata": {},
   "source": [
    "Otro operación a realizar en las matrices es trasponerlas, la sintaxis para ello es el nombre de la variable que contiene a la matriz, seguida de `T` que represebta el símbolo para trasponer `Matriz.T`, es decir:\n"
   ]
  },
  {
   "cell_type": "code",
   "execution_count": 54,
   "id": "847d30a6",
   "metadata": {},
   "outputs": [
    {
     "data": {
      "text/latex": [
       "$\\displaystyle \\left[\\begin{matrix}1 & 3\\\\2 & 4\\end{matrix}\\right]$"
      ],
      "text/plain": [
       "Matrix([\n",
       "[1, 3],\n",
       "[2, 4]])"
      ]
     },
     "execution_count": 54,
     "metadata": {},
     "output_type": "execute_result"
    }
   ],
   "source": [
    "Matriz.T "
   ]
  }
 ],
 "metadata": {
  "hide_input": false,
  "kernelspec": {
   "display_name": "Python 3 (ipykernel)",
   "language": "python",
   "name": "python3"
  },
  "language_info": {
   "codemirror_mode": {
    "name": "ipython",
    "version": 3
   },
   "file_extension": ".py",
   "mimetype": "text/x-python",
   "name": "python",
   "nbconvert_exporter": "python",
   "pygments_lexer": "ipython3",
   "version": "3.8.12"
  },
  "toc": {
   "base_numbering": 1,
   "nav_menu": {},
   "number_sections": true,
   "sideBar": true,
   "skip_h1_title": false,
   "title_cell": "Table of Contents",
   "title_sidebar": "Contents",
   "toc_cell": false,
   "toc_position": {},
   "toc_section_display": true,
   "toc_window_display": false
  }
 },
 "nbformat": 4,
 "nbformat_minor": 5
}
