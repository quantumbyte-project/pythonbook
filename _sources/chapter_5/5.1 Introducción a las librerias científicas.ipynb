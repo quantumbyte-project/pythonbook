{
 "cells": [
  {
   "cell_type": "markdown",
   "id": "0df836ba",
   "metadata": {
    "id": "0df836ba"
   },
   "source": [
    "<h1 style=\"text-align: center\">Introducción a las librerías científicas<br></h1>\n",
    "<h3 style=\"text-align: center\">Más allá de la librería estandar<br></h3>\n",
    "<p style=\"text-align: justify;\">Una vez que conocemos la sintaxis básica, las estructuras de control y los módulos en Python es que podemos entrar en un área nueva y fascinante, las librerías científicas, con ellas, se abre un mundo de posibilidades, pues nos facilitan y ahorran muchísimo trabajo al momento de desarrollar nuestros proyectos en Python.</p>\n",
    "<p style=\"text-align: justify;\">Las librerías son módulos, los cuales nos permiten ahorrar tiempo y código al utilizar código ya escrito con anterioridad por la colaboración de múltiples personas, estas librerías son externas a Python, es decir, no son parte de la librería estandar de Python como sí lo serían <em>math</em> u <em>os</em>.</p>\n",
    "<p style=\"text-align: justify;\">Las librerías científicas fueron creadas en su mayoría por personas ajenas al desarrollo de las versiones principales de Python y son mantenidas y actualizadas por estas mismas personas.</p>\n",
    "<p style=\"text-align: justify;\">Las librerías científicas fueron creadas con diferentes propósitos como la ciencia de datos, inteligencia artificial o computación científica, ejemplos de estas librerías son <em>matplotlib</em>, <em>tensorflow</em>, <em>pandas</em>, <em>sympy</em> o <em>numpy</em>.</p>\n",
    "<p style=\"text-align: justify;\">Al no ser parte de la librería estandar, para trabajar con estas librerías deberíamos de instalarlas todas una a una, no obstante, es por esto mismo que realizamos la instalación de Python a través de Anaconda, pues Anaconda posee por defecto estas librerías, ahorrándonos así instalaciones manuales y problemas de compatibilidad, no obstante, no todas las librerías científicas están presentes en Anaconda, ejemplo de esto es la librería <em>plotly</em>, por lo que deberemos instalar manualmente cualquier librería que deseemos usar y no esté instalada por defecto.</p>\n",
    "<h3 style=\"text-align: center\">¿Para qué nos sirven las librerías científicas?<br></h3>\n",
    "<p style=\"text-align: justify;\">Python no fue diseñado originalmente para computación numérica, sin embargo, atrajo mucho la atención de la comunidad científica y de ingeniería desde el principio, esto por lo fácil y simple que resulta de aprender y utilizar. Por esto mismo es que Python se empezó a adecuar para que fuera viable utilizarlo para la computación numérica, muestra de esto fue una de las primeras librerías científicas que se creó, <em>numpy</em>, cuyo nombre significa <em>Numeric Python</em>, esta librería nos permite dar un tratamiento de arreglos, vectores o matrices dándonos la capacidad de sumar vectores, sumar matrices y realizar álgebra lineal con estos de forma muy simple, además, es posible realizar múltiples cosas con esta librería tal como estadística.</p>\n",
    "<h3 style=\"text-align: center\">¿Qué tipos de librerías tenemos?<br></h3>\n",
    "<ul style=\"text-align: center\">\n",
    "  <li>Crear y manipular arreglos: <em>Numpy</em>.</li>\n",
    "  <li>Visualización de datos: <em>Matplotlib, Plotly, Seaborn</em>.</li>\n",
    "  <li>Cálculo simbólico: <em>Sympy</em>.</li>\n",
    "  <li>Manipulación de datos: <em>Pandas</em>.</li>\n",
    "  <li>Herramientas matemáticas: <em>Scipy</em>.</li>\n",
    "  <li>Aprendizaje automático: <em>TensorFlow, ScikitLearn</em>.</li>\n",
    "  <li>Interfaces gráficas: <em>Tkinter (Esta sí pertenece a la librería estandar), PyQT</em>.</li>\n",
    "</ul>\n",
    "<p style=\"text-align: justify;\">Entre muchas otras librerías disponibles para nuestro uso.</p>\n",
    "<p style=\"text-align: justify;\">Extendiéndonos un poco en lo que hacen las librerías anteriormente mencioandas:</p>\n",
    "<p style=\"text-align: justify;\">Para crear y manipular arreglos podemos hacer uso de la librería <em>Numpy</em>.</p>\n",
    "<p style=\"text-align: justify;\">Para la visualización de datos, es decir, graficación en 2D, algo que normlamente se ve en cálculo, y graficación en 3D podemos hacer uso de las librerías <em>Matplotlib, Plotly</em> o <em>Seaborn</em>.</p>\n",
    "<p style=\"text-align: justify;\">Para cálculo simbólico, llamado así en el algebra computacional por no operar directamente con números sino con expresiones, esto quiere decir que pueden obtenerse resultados analíticos tal como haríamos con papel y lapiz podemos hacer uso de la librería <em>Sympy</em>.</p>\n",
    "<p style=\"text-align: justify;\">Para manipulación de datos, ya sea de forma interna al proyecto desarrollado o con archivos externos generados por otra fuente, y realizar un análisis o estadística con ellos podemos hacer uso de la librería <em>Pandas</em>, siendo muy similar a lo que podríamos hacer con el uso de Excel.</p>\n",
    "<p style=\"text-align: justify;\">Podemos encontrar herramientas matemáticas como métodos numéricos para resolver ecuaciones diferenciales, tratamientos de álgebra lineal o tratamientos de estadística al hacer uso de la librería <em>Scipy</em>.</p>\n",
    "<p style=\"text-align: justify;\">Para el aprendizaje automático, inteligencia artificial, ámbito en el que actualmente destaca muchísimo Python por su uso extendido podemos hacer uso de las librerías <em>TensorFlow</em> o <em>ScikitLearn</em>.</p>\n",
    "<p style=\"text-align: justify;\">Para realizar interfaces gráficas en nuestros proyectos para que sean de fácil uso para el usuario final podemos hacer uso de las librerías <em>Tkinter</em> o <em>PyQT</em>.</p>\n",
    "<p style=\"text-align: justify;\">Todas las librerías antes mencionadas son extremadamente extensas y ofrecen una inmensa variedad de opciones, es por ello que, en lo que respecta a este libro, solo se verán algunas de estas librerías, además de solo mostrar una parte de las posibilidades que estas nos ofrecen, no obstante, lo mostrado aquí será suficiente para que el lector tenga las bases necesarias para que por su propia cuenta pueda comenzar a trabajar con estas librerías y pueda desenvolverse de forma óptima cuando deba investigar sobre todas las demás posibilidades que estas librerías le ofrecen.</p>\n",
    "<h3 style=\"text-align: center\">¿Cómo utilizarlas?<br></h3>\n",
    "<p style=\"text-align: justify;\">Para poder utilizar estas librerías tenemos las diferentes herramientas con las que cuenta Anaconda, el IDE Spyder, los JupyterNotebooks y la consola de IPython, además, podemos utilizarlas en <a href=\"https://colab.research.google.com/\">Google Colab</a>, una plataforma desarrollada por Google que funciona de forma similar a un JupyterNotebook que nos permite escribir y ejecutar código de Python en tu navegador de preferencia sin necesidad de realizar configuración alguna, teniendo acceso a GPU proporcionada por este servicio sin costo y dando una mayor facilidad para compartir los proyectos realizados.</p>\n",
    "<p style=\"text-align: justify;\">Nosotros utilizaremos JupyterNotebooks y la consola de IPyhton para trabajar con librerías científicas, pues estas herramientas fueron diseñadas específicamente para hacer uso de estas librerías.</p>"
   ]
  },
  {
   "cell_type": "code",
   "execution_count": null,
   "id": "9555f59d",
   "metadata": {
    "id": "9555f59d"
   },
   "outputs": [],
   "source": []
  }
 ],
 "metadata": {
  "colab": {
   "provenance": []
  },
  "hide_input": false,
  "kernelspec": {
   "display_name": "Python 3 (ipykernel)",
   "language": "python",
   "name": "python3"
  },
  "language_info": {
   "codemirror_mode": {
    "name": "ipython",
    "version": 3
   },
   "file_extension": ".py",
   "mimetype": "text/x-python",
   "name": "python",
   "nbconvert_exporter": "python",
   "pygments_lexer": "ipython3",
   "version": "3.8.12"
  },
  "toc": {
   "base_numbering": 1,
   "nav_menu": {},
   "number_sections": true,
   "sideBar": true,
   "skip_h1_title": false,
   "title_cell": "Table of Contents",
   "title_sidebar": "Contents",
   "toc_cell": false,
   "toc_position": {},
   "toc_section_display": true,
   "toc_window_display": false
  }
 },
 "nbformat": 4,
 "nbformat_minor": 5
}
