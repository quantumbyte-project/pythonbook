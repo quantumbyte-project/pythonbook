{
 "cells": [
  {
   "cell_type": "markdown",
   "metadata": {
    "id": "6N8FOyJx0var"
   },
   "source": [
    "# 4.3 Módulos\n",
    "***\n"
   ]
  },
  {
   "cell_type": "markdown",
   "metadata": {
    "id": "vhtNuhhraXBm"
   },
   "source": [
    "Los módulos son componentes de código escritos por otras personas que cumplen funciones específicas y comunes en Python. Estos módulos son una parte esencial de la versatilidad de Python, ya que nos permiten acceder a funcionalidades y características adicionales sin tener que escribir todo el código desde cero.\n",
    "\n",
    "Existen una amplia variedad de módulos disponibles en la comunidad de Python que abarcan una gama de tareas y aplicaciones. Algunos ejemplos de módulos populares incluyen aquellos que generan números aleatorios, realizan operaciones matemáticas avanzadas, interactúan con bases de datos, manipulan archivos, realizan operaciones de red, trabajan con fechas y horas, entre otros. En específico, destacamos los siguientes:\n",
    "\n",
    "- `math`: contiene operaciones matemáticas (seno, coseno, tangente).\n",
    "- `random`: generar números aleatorios.\n",
    "- `os`: permite acceder a funcionalidades dependientes del sistema operativo.\n",
    "- `collections`: permite trabajar con datos de forma concisa y eficiente.\n",
    "- `time`: proporciona varias funciones relacionadas con el tiempo.\n",
    "- `sys`: encargado de proveer variables y funcionalidades, directamente relacionadas con el intérprete.\n",
    "\n",
    "Estos módulos han sido desarrollados y probados por otros programadores, lo que nos brinda la confianza de utilizar código probado y optimizado para realizar tareas específicas. Al importar y utilizar módulos en nuestros propios programas, podemos aprovechar su funcionalidad sin tener que preocuparnos por los detalles internos de implementación.\n",
    "\n",
    "La comunidad de Python es muy activa y constantemente se desarrollan nuevos módulos y se actualizan los existentes. Esto significa que siempre hay una amplia selección de módulos disponibles para satisfacer nuestras necesidades y facilitar el desarrollo de aplicaciones más eficientes y poderosas en Python."
   ]
  },
  {
   "cell_type": "markdown",
   "metadata": {
    "id": "sc6Cc1pXaj92"
   },
   "source": [
    "## 4.3.1 Importar y utilizar módulos\n",
    "***\n",
    "\n",
    "Los módulos en Python son archivos externos que contienen código que puede ser utilizado en otros programas. Para importar un módulo en nuestro programa, utilizamos la palabra clave `impor`, seguida del nombre del archivo de módulo. Si deseamos, también podemos utilizar la declaración `as` para asignar un alias al módulo y facilitar su uso en nuestro código.\n",
    "\n",
    "Por ejemplo, si tenemos un archivo de módulo llamado `modulo.py`, podemos importarlo en nuestro programa de la siguiente manera:"
   ]
  },
  {
   "cell_type": "markdown",
   "metadata": {},
   "source": [
    "`````{grid}\n",
    "````{grid-item-card}\n",
    "Importación del módulo\n",
    "^^^^^^^^^^^^^\n",
    "```python\n",
    "import modulo as md\n",
    "```\n",
    "````\n",
    "\n",
    "````{grid-item-card}\n",
    "Utilización del módulo\n",
    "^^^^^^^^^^^^^^^^^^^^\n",
    "\n",
    "```python\n",
    "md.parte()\n",
    "```\n",
    "````\n",
    "`````"
   ]
  },
  {
   "cell_type": "markdown",
   "metadata": {},
   "source": [
    "En este caso, hemos importado el módulo `modulo.py` y le hemos asignado el alias `md`. Ahora podemos acceder a las funciones, clases y variables definidas en el módulo utilizando el prefijo `md`.\n",
    "\n",
    "Además de importar todo el módulo, también es posible importar partes específicas del mismo. En este caso, utilizamos la sintaxis `from modulo import parte`. Por ejemplo:\n",
    "\n",
    "`````{grid}\n",
    "````{grid-item-card}\n",
    "Importación del módulo\n",
    "^^^^^^^^^^^^^\n",
    "```python\n",
    "from modulo import parte\n",
    "```\n",
    "````\n",
    "\n",
    "````{grid-item-card}\n",
    "Utilización del módulo\n",
    "^^^^^^^^^^^^^^^^^^^^\n",
    "\n",
    "```python\n",
    "parte()\n",
    "```\n",
    "````\n",
    "`````\n",
    "\n",
    "Aquí hemos importado únicamente la función `parte` del módulo `modulo.py`. Ahora podemos utilizar la función directamente en nuestro código sin necesidad de utilizar el prefijo del módulo.\n",
    "\n",
    "Estos fragmentos de código ejemplifican el uso de los módulos en Python. Al importar módulos, podemos aprovechar funcionalidades adicionales desarrolladas por otros programadores y reutilizar código existente, lo cual nos ayuda a ahorrar tiempo y mejorar la eficiencia en el desarrollo de nuestros programas."
   ]
  },
  {
   "cell_type": "markdown",
   "metadata": {
    "id": "4V8ALhmMdPg4"
   },
   "source": [
    "## 4.3.2 Más allá de la librería estándar\n",
    "\n",
    "***\n",
    "\n",
    "Además de la extensa librería estándar de Python, existe un vasto ecosistema de módulos desarrollados por la comunidad para abordar diversas áreas y propósitos específicos. Estos módulos adicionales amplían las capacidades de Python y ofrecen soluciones especializadas para diferentes campos y aplicaciones.\n",
    "\n",
    "En el ámbito de la ciencia de datos, por ejemplo, existen módulos populares como NumPy, Pandas y Matplotlib, que brindan herramientas para el análisis de datos, manipulación de matrices, visualización y más. Para el aprendizaje automático (machine learning), podemos aprovechar módulos como Scikit-learn, TensorFlow o PyTorch, que proporcionan algoritmos y herramientas para desarrollar modelos predictivos y de aprendizaje automático.\n",
    "\n",
    "Para la computación científica, Python cuenta con módulos como SciPy y SymPy, que ofrecen funciones y algoritmos para cálculos científicos, optimización, álgebra simbólica y más. Además, hay módulos específicos para aplicaciones web como Django o Flask, para desarrollo de juegos como Pygame, para interacción con bases de datos como SQLAlchemy, entre muchos otros.\n",
    "\n",
    "Estos módulos adicionales han sido desarrollados por personas externas a Python, quienes se sintieron motivadas a contribuir al ecosistema y crear herramientas específicas para sus necesidades. Esta colaboración comunitaria enriquece enormemente el potencial de Python, ya que nos permite acceder a una amplia gama de módulos especializados y reutilizar el código existente en nuestras propias aplicaciones.\n",
    "\n",
    "Gracias a este enfoque de código abierto y colaborativo, Python se ha convertido en una opción popular en diversas industrias y disciplinas, ya que ofrece una gran flexibilidad y un rico conjunto de herramientas para abordar diferentes desafíos de programación.\n",
    "\n",
    "Algunos ejemplos son:\n",
    "- *`Numpy`*: cálculo numérico y el análisis de datos, especialmente para un gran volumen de datos.\n",
    "- *`Pandas`*: manejo y análisis de estructuras de datos.\n",
    "- *`Plotly`*: herramientas de visualización y análisis de datos.\n",
    "- *`Matplotlib`*: creación de gráficos en dos dimensiones.\n",
    "- *`Sympy`*: matemáticas simbólicas.\n",
    "- *`Scikit-learn`*: algoritmos de clasificación, regresión, clustering y reducción de dimensionalidad."
   ]
  },
  {
   "cell_type": "markdown",
   "metadata": {},
   "source": [
    "::::{grid}\n",
    ":gutter: 3\n",
    "\n",
    ":::{grid-item-card} Numpy\n",
    "Creación de vectores y matrices grandes multidimensionales.\n",
    "\n",
    "```{button-ref} https://numpy.org/\n",
    ":class: stretched-link\n",
    "\n",
    "{bdg-primary}`Sitio web`\n",
    "```\n",
    ":::\n",
    "\n",
    ":::{grid-item-card} Pandas\n",
    "Manejo y análisis de estructuras de datos.\n",
    ":::\n",
    "\n",
    ":::{grid-item-card} Matplotlib\n",
    "Generación de gráficos a partir de datos contenidos en listas o arrays.\n",
    ":::\n",
    "::::"
   ]
  },
  {
   "cell_type": "markdown",
   "metadata": {
    "id": "NMtV2GtjN0Tn"
   },
   "source": [
    "## Aplicaciones de módulos \n",
    "_________________"
   ]
  },
  {
   "cell_type": "markdown",
   "metadata": {
    "id": "yFwHGJyiCw7A"
   },
   "source": [
    "### Calculadora"
   ]
  },
  {
   "cell_type": "markdown",
   "metadata": {
    "id": "g0hMN0H_CZap"
   },
   "source": [
    "Se crea un módulo llamado *`Calculadora`*, con las siguientes funciones:"
   ]
  },
  {
   "cell_type": "markdown",
   "metadata": {},
   "source": [
    "`````{grid}\n",
    "````{grid-item-card}\n",
    "`calculadora.py`\n",
    "^^^^^^^^^^^^^\n",
    "```python\n",
    "def sumar(x,y):\n",
    "    return x+y\n",
    "\n",
    "def restar(x,y):\n",
    "    return x-y\n",
    "\n",
    "def multiplicacion(x,y):\n",
    "    return x*y\n",
    "\n",
    "def division(x,y):\n",
    "    try:\n",
    "        return x/y\n",
    "    except ZeroDivisionError:\n",
    "        print('No se puede dividir entre cero.')\n",
    "\n",
    "def potencia(x,n):\n",
    "    if isinstance(n,int):\n",
    "        return(x**(abs(n)))\n",
    "    else:\n",
    "        raise ValueError('La potencia debe ser un número entero.')\n",
    "```\n",
    "````\n",
    "\n",
    "````{grid-item-card}\n",
    "`operaciones.py`\n",
    "^^^^^^^^^^^^^^^^^^^^\n",
    "\n",
    "```python\n",
    "import calculadora as cal\n",
    "\n",
    "print(cal.sumar(2,2))\n",
    "print(cal.restar(2,2))\n",
    "print(cal.multiplicacion(2,2))\n",
    "print(cal.division(2,2))\n",
    "print(cal.potencia(2,2))\n",
    "```\n",
    "````\n",
    "`````"
   ]
  },
  {
   "cell_type": "markdown",
   "metadata": {
    "id": "qulVTztGwbgw"
   },
   "source": [
    "#### Existen diversas formas en las que podemos utilizar los elementos del módulo:"
   ]
  },
  {
   "cell_type": "markdown",
   "metadata": {
    "id": "uycmwVHDwxfD"
   },
   "source": [
    "Realizamos una contracción del nombre *`Calculadora`*, a únicamente *`cal`*, para llamar a las funciones contenidas de una forma más rápida:"
   ]
  },
  {
   "cell_type": "code",
   "execution_count": null,
   "metadata": {
    "colab": {
     "base_uri": "https://localhost:8080/"
    },
    "id": "26nWgB6ZMHXv",
    "outputId": "0f0d9415-bead-42fd-c411-8704f5ac9823"
   },
   "outputs": [
    {
     "name": "stdout",
     "output_type": "stream",
     "text": [
      "4\n",
      "0\n",
      "4\n",
      "1.0\n",
      "4\n"
     ]
    }
   ],
   "source": [
    "import Calculadora as cal\n",
    "\n",
    "print(cal.sumar(2,2))\n",
    "print(cal.restar(2,2))\n",
    "print(cal.multiplicacion(2,2))\n",
    "print(cal.division(2,2))\n",
    "print(cal.potencia(2,2))"
   ]
  },
  {
   "cell_type": "markdown",
   "metadata": {
    "id": "xit74oB7xiOT"
   },
   "source": [
    "Para importar funciones específicas del módulo *`Calculadora`*, realizamos lo siguiente:\n"
   ]
  },
  {
   "cell_type": "code",
   "execution_count": null,
   "metadata": {
    "colab": {
     "base_uri": "https://localhost:8080/"
    },
    "id": "xl3x1ZStwmWj",
    "outputId": "7e2b9810-93a7-4329-e6a4-77ffc063a0f7"
   },
   "outputs": [
    {
     "name": "stdout",
     "output_type": "stream",
     "text": [
      "4\n",
      "0\n",
      "4\n"
     ]
    }
   ],
   "source": [
    "from Calculadora import sumar,restar,potencia\n",
    "\n",
    "print(sumar(2,2))\n",
    "print(restar(2,2))\n",
    "print(potencia(2,2))"
   ]
  },
  {
   "cell_type": "markdown",
   "metadata": {
    "id": "yGW-y-W7x5fr"
   },
   "source": [
    "Para importar todos los elementos del módulo *`Calculadora`*, utilizamos el símbolo de asterisco de la siguiente forma:"
   ]
  },
  {
   "cell_type": "code",
   "execution_count": null,
   "metadata": {
    "colab": {
     "base_uri": "https://localhost:8080/"
    },
    "id": "pA9g-R7JwnIZ",
    "outputId": "5adf3b15-e530-4a60-926f-75422cd2e6c7"
   },
   "outputs": [
    {
     "name": "stdout",
     "output_type": "stream",
     "text": [
      "4\n",
      "0\n",
      "4\n",
      "1.0\n",
      "4\n"
     ]
    }
   ],
   "source": [
    "from Calculadora import *\n",
    "\n",
    "print(sumar(2,2))\n",
    "print(restar(2,2))\n",
    "print(multiplicacion(2,2))\n",
    "print(division(2,2))\n",
    "print(potencia(2,2))"
   ]
  },
  {
   "cell_type": "markdown",
   "metadata": {
    "id": "lMoQNcWSzJsU"
   },
   "source": [
    "### Ejemplo 2"
   ]
  },
  {
   "cell_type": "markdown",
   "metadata": {
    "id": "8FK9PBz-zUIi"
   },
   "source": [
    "Se crea un módulo llamado *`Stats`*, con las siguientes funciones:"
   ]
  },
  {
   "cell_type": "code",
   "execution_count": null,
   "metadata": {
    "id": "KNpVKWTUzalo"
   },
   "outputs": [],
   "source": [
    "def promedio(datos):\n",
    "    return sum(datos)/len(datos)"
   ]
  },
  {
   "cell_type": "markdown",
   "metadata": {
    "id": "HeOpCw0BzsfS"
   },
   "source": [
    "Realizamos una contracción del nombre *`Stats`*, a únicamente *`st`*, para llamar a la función contenida de una forma más rápida:"
   ]
  },
  {
   "cell_type": "code",
   "execution_count": null,
   "metadata": {
    "colab": {
     "base_uri": "https://localhost:8080/"
    },
    "id": "lPJYB1Kl2pRa",
    "outputId": "109f6ecf-2398-4cd8-f516-f613291a2a77"
   },
   "outputs": [
    {
     "name": "stdout",
     "output_type": "stream",
     "text": [
      "3.0\n"
     ]
    }
   ],
   "source": [
    "import Stats as st\n",
    "\n",
    "A=[1,2,3,4,5]\n",
    "\n",
    "print(st.promedio(A))\n"
   ]
  },
  {
   "cell_type": "markdown",
   "metadata": {
    "id": "-drWFqCW24YQ"
   },
   "source": [
    "Para importar funciones específicas del módulo *`Stats`*, realizamos lo siguiente:\n"
   ]
  },
  {
   "cell_type": "code",
   "execution_count": null,
   "metadata": {
    "colab": {
     "base_uri": "https://localhost:8080/"
    },
    "id": "5QEZxJ2o275U",
    "outputId": "651df726-cc96-40d2-9315-a5d1a1818ba7"
   },
   "outputs": [
    {
     "name": "stdout",
     "output_type": "stream",
     "text": [
      "3.0\n"
     ]
    }
   ],
   "source": [
    "from Stats import promedio\n",
    "\n",
    "A=[1,2,3,4,5]\n",
    "\n",
    "print(st.promedio(A))"
   ]
  },
  {
   "cell_type": "markdown",
   "metadata": {
    "id": "5oGcv_zT3DOP"
   },
   "source": [
    "Para importar todos los elementos del módulo *`Stats`*, utilizamos el símbolo de asterisco de la siguiente forma:"
   ]
  },
  {
   "cell_type": "code",
   "execution_count": null,
   "metadata": {
    "colab": {
     "base_uri": "https://localhost:8080/"
    },
    "id": "iH5Klz-03GW_",
    "outputId": "d0c61301-a7f9-48cd-e770-6c6779f03274"
   },
   "outputs": [
    {
     "name": "stdout",
     "output_type": "stream",
     "text": [
      "3.0\n"
     ]
    }
   ],
   "source": [
    "from Stats import *\n",
    "\n",
    "A=[1,2,3,4,5]\n",
    "\n",
    "print(promedio(A))"
   ]
  },
  {
   "cell_type": "markdown",
   "metadata": {
    "id": "H0uuwDuL3avt"
   },
   "source": [
    "## Módulos de la librería estándar de Python"
   ]
  },
  {
   "cell_type": "markdown",
   "metadata": {
    "id": "ThkEDL_h3hJz"
   },
   "source": [
    "### math"
   ]
  },
  {
   "cell_type": "markdown",
   "metadata": {
    "id": "7Ri_2TzN3k2M"
   },
   "source": [
    "#### El módulo *`math`* contiene funciones y constantes matemáticas."
   ]
  },
  {
   "cell_type": "code",
   "execution_count": null,
   "metadata": {
    "id": "S0uZNUuz7gXb"
   },
   "outputs": [],
   "source": [
    "import math as m"
   ]
  },
  {
   "cell_type": "markdown",
   "metadata": {
    "id": "-f07mYcV4Ks0"
   },
   "source": [
    "Constante $\\pi$:"
   ]
  },
  {
   "cell_type": "code",
   "execution_count": null,
   "metadata": {
    "colab": {
     "base_uri": "https://localhost:8080/"
    },
    "id": "9EZ57UKE3kXj",
    "outputId": "e314474e-3af8-4808-a8b6-340582c20bca"
   },
   "outputs": [
    {
     "name": "stdout",
     "output_type": "stream",
     "text": [
      "3.141592653589793\n"
     ]
    }
   ],
   "source": [
    "print(m.pi)"
   ]
  },
  {
   "cell_type": "markdown",
   "metadata": {
    "id": "Y8H6w4mV4Rjs"
   },
   "source": [
    "Constante $e$:"
   ]
  },
  {
   "cell_type": "code",
   "execution_count": null,
   "metadata": {
    "colab": {
     "base_uri": "https://localhost:8080/"
    },
    "id": "l2bLYh6N4ROj",
    "outputId": "6f7abf88-bf45-410d-e42a-33eab1d7a25d"
   },
   "outputs": [
    {
     "name": "stdout",
     "output_type": "stream",
     "text": [
      "2.718281828459045\n"
     ]
    }
   ],
   "source": [
    "print(m.e)"
   ]
  },
  {
   "cell_type": "markdown",
   "metadata": {
    "id": "iXwLVYP34aKD"
   },
   "source": [
    "Función $sen(x)$ y $cos(x)$:"
   ]
  },
  {
   "cell_type": "code",
   "execution_count": null,
   "metadata": {
    "colab": {
     "base_uri": "https://localhost:8080/"
    },
    "id": "BpLbobHH4nz0",
    "outputId": "3f57820c-7211-46f1-f7d0-11447f783e27"
   },
   "outputs": [
    {
     "name": "stdout",
     "output_type": "stream",
     "text": [
      "1.2246467991473532e-16\n",
      "6.123233995736766e-17\n"
     ]
    }
   ],
   "source": [
    "print(m.sin(m.pi))\n",
    "print(m.cos(m.pi/2))"
   ]
  },
  {
   "cell_type": "markdown",
   "metadata": {
    "id": "ryW01jzo4xZb"
   },
   "source": [
    "Como se puede apreciar, las constantes también son aproximaciones, por lo tanto, haremos uso de la función *`round`*:"
   ]
  },
  {
   "cell_type": "code",
   "execution_count": null,
   "metadata": {
    "colab": {
     "base_uri": "https://localhost:8080/"
    },
    "id": "pEg_wkBA49AO",
    "outputId": "11ab1435-1bdf-462e-9e54-4ef93de4d5d9"
   },
   "outputs": [
    {
     "name": "stdout",
     "output_type": "stream",
     "text": [
      "0.0\n",
      "0.0\n"
     ]
    }
   ],
   "source": [
    "print(round(m.sin(m.pi),2))\n",
    "print(round(m.cos(m.pi/2),2))"
   ]
  },
  {
   "cell_type": "markdown",
   "metadata": {
    "id": "97lD-lXH5XQE"
   },
   "source": [
    "Función exponencial $e^x$:"
   ]
  },
  {
   "cell_type": "code",
   "execution_count": null,
   "metadata": {
    "colab": {
     "base_uri": "https://localhost:8080/"
    },
    "id": "0UPlIU-95c77",
    "outputId": "40e3f6aa-a70a-46cc-8069-5137d7f8fd4f"
   },
   "outputs": [
    {
     "name": "stdout",
     "output_type": "stream",
     "text": [
      "7.38905609893065\n"
     ]
    }
   ],
   "source": [
    "print(m.exp(2))"
   ]
  },
  {
   "cell_type": "markdown",
   "metadata": {
    "id": "EUJ-eNXB7N5G"
   },
   "source": [
    "### random"
   ]
  },
  {
   "cell_type": "markdown",
   "metadata": {
    "id": "h7EChslw7Sbx"
   },
   "source": [
    "#### El módulo *`random`* nos sirve para utilizar números pseudoaleatorios."
   ]
  },
  {
   "cell_type": "code",
   "execution_count": null,
   "metadata": {
    "id": "YIyrKtOr7lPT"
   },
   "outputs": [],
   "source": [
    "import random as ra"
   ]
  },
  {
   "cell_type": "markdown",
   "metadata": {
    "id": "LvqWxVB77y_k"
   },
   "source": [
    "Un número aleatorio:"
   ]
  },
  {
   "cell_type": "code",
   "execution_count": null,
   "metadata": {
    "colab": {
     "base_uri": "https://localhost:8080/"
    },
    "id": "2ccpqBfB71gc",
    "outputId": "b2bd7be2-9aed-408e-a8a4-5b04ef5cf994"
   },
   "outputs": [
    {
     "name": "stdout",
     "output_type": "stream",
     "text": [
      "0.795696592989977\n"
     ]
    }
   ],
   "source": [
    "print(ra.random())"
   ]
  },
  {
   "cell_type": "code",
   "execution_count": null,
   "metadata": {},
   "outputs": [],
   "source": []
  }
 ],
 "metadata": {
  "colab": {
   "provenance": []
  },
  "hide_input": false,
  "kernelspec": {
   "display_name": "Python 3 (ipykernel)",
   "language": "python",
   "name": "python3"
  },
  "language_info": {
   "codemirror_mode": {
    "name": "ipython",
    "version": 3
   },
   "file_extension": ".py",
   "mimetype": "text/x-python",
   "name": "python",
   "nbconvert_exporter": "python",
   "pygments_lexer": "ipython3",
   "version": "3.8.12"
  },
  "toc": {
   "base_numbering": 1,
   "nav_menu": {},
   "number_sections": true,
   "sideBar": true,
   "skip_h1_title": false,
   "title_cell": "Table of Contents",
   "title_sidebar": "Contents",
   "toc_cell": false,
   "toc_position": {},
   "toc_section_display": true,
   "toc_window_display": false
  }
 },
 "nbformat": 4,
 "nbformat_minor": 1
}
