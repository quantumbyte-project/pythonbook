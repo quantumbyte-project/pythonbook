{
 "cells": [
  {
   "cell_type": "markdown",
   "id": "5c2ca3e3",
   "metadata": {},
   "source": [
    "# 4.1 Excepciones "
   ]
  },
  {
   "cell_type": "markdown",
   "id": "666412d6",
   "metadata": {},
   "source": [
    "```{admonition} Advertencia\n",
    ":class: warning\n",
    "Este libro está actualmente en proceso de desarrollo, por lo que es posible que algunos de sus contenidos aún no estén disponibles. Agradecemos su comprensión mientras trabajamos en completarlo y mejorar su contenido.\n",
    "```"
   ]
  },
  {
   "cell_type": "markdown",
   "id": "698ccf93",
   "metadata": {},
   "source": [
    "Las excepciones en Python siguen siendo _estructuras de control_ que permiten manejar el flujo del programa. \n",
    "Se le conocerá como _excpeciones_ a aquellos errores detectados por Python durante la ejecución del programa.\n",
    "Generalmente, estas excepciones surgen a partir de cuando *NO* exista un error sintático; como cuando se llama una variable que no existe, se divide entre cero y demás.\n",
    "\n",
    "\n",
    "Suponiendo que se tiene un programa con ciertas instrucciones, dónde en la línea tres contiene un error, lo que pasará es que todas las instrucciones que se encuentran después no se ejecutarán, en el momento en que Python lea ese comando, lanzará una excepción, y a partir de ahí ya no permitirá el flujo del programa, por lo tanto se detendrá.\n",
    "\n",
    "\n",
    "El lenguaje te expresa estos errores de una manera \"amigable\" para que sea una tarea fácil encontrar su solución, a comparación de C/C++, cuyos errores suelen abarcar hasta la pantalla completa, confundiendo más al programador.\n",
    "\n",
    "\n",
    "En cambio, el _manejo de excepciones_ en python permite por ejemplo, saltarte de alguna manera esa instrucción que contiene un error y que lo demás se siga ejecutando como normalmente lo haría."
   ]
  },
  {
   "cell_type": "markdown",
   "id": "7a0a592c",
   "metadata": {},
   "source": [
    "```python\n",
    "      \n",
    "      Antes:                              Después con el manejo de la excepción:\n",
    "    \n",
    "    Instrucción                                     Instrucción \n",
    "    \n",
    "    Intrucción                                      Intrucción \n",
    "    \n",
    "    Intrucción  => error                            Intrucción     => error pero continúa\n",
    "    \n",
    "    Intrucción                                      Intrucción \n",
    "    \n",
    "    Intrucción                                      Intrucción\n",
    "    \n",
    "```"
   ]
  },
  {
   "cell_type": "markdown",
   "id": "7882dfdb",
   "metadata": {},
   "source": [
    "## Algunas excepciones de Python"
   ]
  },
  {
   "cell_type": "markdown",
   "id": "347eee6a",
   "metadata": {},
   "source": [
    "#### - ImportError"
   ]
  },
  {
   "cell_type": "markdown",
   "id": "52c57878",
   "metadata": {},
   "source": [
    "Este error es lanzado cuando falla la importación de algún módulo."
   ]
  },
  {
   "cell_type": "code",
   "execution_count": 4,
   "id": "1750d118",
   "metadata": {},
   "outputs": [
    {
     "ename": "ModuleNotFoundError",
     "evalue": "No module named 'toolkit'",
     "output_type": "error",
     "traceback": [
      "\u001b[0;31m---------------------------------------------------------------------------\u001b[0m",
      "\u001b[0;31mModuleNotFoundError\u001b[0m                       Traceback (most recent call last)",
      "Input \u001b[0;32mIn [4]\u001b[0m, in \u001b[0;36m<cell line: 1>\u001b[0;34m()\u001b[0m\n\u001b[0;32m----> 1\u001b[0m \u001b[38;5;28;01mfrom\u001b[39;00m \u001b[38;5;21;01mtoolkit\u001b[39;00m\u001b[38;5;21;01m.\u001b[39;00m\u001b[38;5;21;01minterface\u001b[39;00m \u001b[38;5;28;01mimport\u001b[39;00m interface\n",
      "\u001b[0;31mModuleNotFoundError\u001b[0m: No module named 'toolkit'"
     ]
    }
   ],
   "source": [
    "from toolkit.interface import interface"
   ]
  },
  {
   "cell_type": "markdown",
   "id": "3987970f",
   "metadata": {},
   "source": [
    "#### - NameError\n",
    "Ocurre cuando una variable local o global no se encuentra. "
   ]
  },
  {
   "cell_type": "markdown",
   "id": "e1d56243",
   "metadata": {},
   "source": [
    "Observa en el ejemplo que, se definieron dos variables, una de nombre `a` y otra de nombre `b`, cada uno tiene un valor asignado. Entonces, se imprime el producto entre la variable `a` y una variable `c` que es totalmente desconocida. Por lo tanto, Python anuncia que no fue definida ninguna `c`. Como se observa, después se trata de imprimir el producto entre `a` y `b`, que son variables conocidas, sin embargo, la multiplicación no se realiza por la excepción que rompió el flujo del código."
   ]
  },
  {
   "cell_type": "code",
   "execution_count": 1,
   "id": "6acf41b2",
   "metadata": {},
   "outputs": [
    {
     "ename": "NameError",
     "evalue": "name 'c' is not defined",
     "output_type": "error",
     "traceback": [
      "\u001b[0;31m---------------------------------------------------------------------------\u001b[0m",
      "\u001b[0;31mNameError\u001b[0m                                 Traceback (most recent call last)",
      "Input \u001b[0;32mIn [1]\u001b[0m, in \u001b[0;36m<cell line: 3>\u001b[0;34m()\u001b[0m\n\u001b[1;32m      1\u001b[0m a \u001b[38;5;241m=\u001b[39m \u001b[38;5;241m5\u001b[39m\n\u001b[1;32m      2\u001b[0m b \u001b[38;5;241m=\u001b[39m \u001b[38;5;241m2\u001b[39m\n\u001b[0;32m----> 3\u001b[0m \u001b[38;5;28mprint\u001b[39m(a\u001b[38;5;241m*\u001b[39m\u001b[43mc\u001b[49m)\n",
      "\u001b[0;31mNameError\u001b[0m: name 'c' is not defined"
     ]
    }
   ],
   "source": [
    "a = 5\n",
    "b = 2\n",
    "print(a*c)\n",
    "print(a*b)"
   ]
  },
  {
   "cell_type": "markdown",
   "id": "f5c87c9c",
   "metadata": {},
   "source": [
    "#### - TypeError"
   ]
  },
  {
   "cell_type": "markdown",
   "id": "e7dec604",
   "metadata": {},
   "source": [
    "Existe el error cuando se aplica a una operación o función a un objeto de un tipo inapropiado; por ejemplo, se suma un `int` con un `string`."
   ]
  },
  {
   "cell_type": "code",
   "execution_count": 2,
   "id": "d2a18948",
   "metadata": {},
   "outputs": [
    {
     "ename": "TypeError",
     "evalue": "can only concatenate list (not \"int\") to list",
     "output_type": "error",
     "traceback": [
      "\u001b[0;31m---------------------------------------------------------------------------\u001b[0m",
      "\u001b[0;31mTypeError\u001b[0m                                 Traceback (most recent call last)",
      "Input \u001b[0;32mIn [2]\u001b[0m, in \u001b[0;36m<cell line: 3>\u001b[0;34m()\u001b[0m\n\u001b[1;32m      1\u001b[0m lista \u001b[38;5;241m=\u001b[39m [\u001b[38;5;124m\"\u001b[39m\u001b[38;5;124mcasa\u001b[39m\u001b[38;5;124m\"\u001b[39m]\n\u001b[1;32m      2\u001b[0m numero \u001b[38;5;241m=\u001b[39m \u001b[38;5;28mint\u001b[39m(\u001b[38;5;241m5\u001b[39m)\n\u001b[0;32m----> 3\u001b[0m \u001b[38;5;28mprint\u001b[39m(\u001b[43mlista\u001b[49m\u001b[38;5;241;43m+\u001b[39;49m\u001b[43mnumero\u001b[49m)\n",
      "\u001b[0;31mTypeError\u001b[0m: can only concatenate list (not \"int\") to list"
     ]
    }
   ],
   "source": [
    "lista = [\"casa\"]\n",
    "numero = int(5)\n",
    "print(lista+numero)"
   ]
  },
  {
   "cell_type": "markdown",
   "id": "21d18f25",
   "metadata": {},
   "source": [
    "#### - TabError\n"
   ]
  },
  {
   "cell_type": "markdown",
   "id": "f984536d",
   "metadata": {},
   "source": [
    "Se produce cuando la indentación es inconsistente."
   ]
  },
  {
   "cell_type": "code",
   "execution_count": 4,
   "id": "345f4000",
   "metadata": {},
   "outputs": [
    {
     "ename": "IndentationError",
     "evalue": "expected an indented block (4272865727.py, line 2)",
     "output_type": "error",
     "traceback": [
      "\u001b[0;36m  Input \u001b[0;32mIn [4]\u001b[0;36m\u001b[0m\n\u001b[0;31m    return x**2\u001b[0m\n\u001b[0m    ^\u001b[0m\n\u001b[0;31mIndentationError\u001b[0m\u001b[0;31m:\u001b[0m expected an indented block\n"
     ]
    }
   ],
   "source": [
    "def f(x):\n",
    "return x**2"
   ]
  },
  {
   "cell_type": "markdown",
   "id": "2bed8eb2",
   "metadata": {},
   "source": [
    "#### - ValueError"
   ]
  },
  {
   "cell_type": "markdown",
   "id": "6d125704",
   "metadata": {},
   "source": [
    "Se presenta cuando a una operación o función se le da un argumento del tipo correcto, pero un valor inapropiado; por ejemplo, se le da un número negativo para calcular su raíz cuadrada."
   ]
  },
  {
   "cell_type": "code",
   "execution_count": 16,
   "id": "63ca1112",
   "metadata": {},
   "outputs": [
    {
     "ename": "ValueError",
     "evalue": "math domain error",
     "output_type": "error",
     "traceback": [
      "\u001b[0;31m---------------------------------------------------------------------------\u001b[0m",
      "\u001b[0;31mValueError\u001b[0m                                Traceback (most recent call last)",
      "Input \u001b[0;32mIn [16]\u001b[0m, in \u001b[0;36m<cell line: 6>\u001b[0;34m()\u001b[0m\n\u001b[1;32m      3\u001b[0m \u001b[38;5;28;01mdef\u001b[39;00m \u001b[38;5;21mRaizCuadrada\u001b[39m(numero):\n\u001b[1;32m      4\u001b[0m     \u001b[38;5;28;01mreturn\u001b[39;00m math\u001b[38;5;241m.\u001b[39msqrt(numero)\n\u001b[0;32m----> 6\u001b[0m \u001b[38;5;28mprint\u001b[39m(\u001b[43mRaizCuadrada\u001b[49m\u001b[43m(\u001b[49m\u001b[38;5;241;43m-\u001b[39;49m\u001b[38;5;241;43m1\u001b[39;49m\u001b[43m)\u001b[49m)\n",
      "Input \u001b[0;32mIn [16]\u001b[0m, in \u001b[0;36mRaizCuadrada\u001b[0;34m(numero)\u001b[0m\n\u001b[1;32m      3\u001b[0m \u001b[38;5;28;01mdef\u001b[39;00m \u001b[38;5;21mRaizCuadrada\u001b[39m(numero):\n\u001b[0;32m----> 4\u001b[0m     \u001b[38;5;28;01mreturn\u001b[39;00m \u001b[43mmath\u001b[49m\u001b[38;5;241;43m.\u001b[39;49m\u001b[43msqrt\u001b[49m\u001b[43m(\u001b[49m\u001b[43mnumero\u001b[49m\u001b[43m)\u001b[49m\n",
      "\u001b[0;31mValueError\u001b[0m: math domain error"
     ]
    }
   ],
   "source": [
    "import math\n",
    "\n",
    "def RaizCuadrada(numero):\n",
    "    return math.sqrt(numero)\n",
    "\n",
    "print(RaizCuadrada(-1))"
   ]
  },
  {
   "cell_type": "markdown",
   "id": "0b78b0e6",
   "metadata": {},
   "source": [
    "#### - ZeroDivisionError"
   ]
  },
  {
   "cell_type": "markdown",
   "id": "08406882",
   "metadata": {},
   "source": [
    "Como su nombre lo indica, sucede cuando se tiene una división entre cero."
   ]
  },
  {
   "cell_type": "code",
   "execution_count": 17,
   "id": "e32d9d0d",
   "metadata": {},
   "outputs": [
    {
     "ename": "ZeroDivisionError",
     "evalue": "division by zero",
     "output_type": "error",
     "traceback": [
      "\u001b[0;31m---------------------------------------------------------------------------\u001b[0m",
      "\u001b[0;31mZeroDivisionError\u001b[0m                         Traceback (most recent call last)",
      "Input \u001b[0;32mIn [17]\u001b[0m, in \u001b[0;36m<cell line: 1>\u001b[0;34m()\u001b[0m\n\u001b[0;32m----> 1\u001b[0m \u001b[38;5;28mprint\u001b[39m(\u001b[38;5;241;43m3\u001b[39;49m\u001b[38;5;241;43m/\u001b[39;49m\u001b[38;5;241;43m0\u001b[39;49m)\n",
      "\u001b[0;31mZeroDivisionError\u001b[0m: division by zero"
     ]
    }
   ],
   "source": [
    "print(3/0)"
   ]
  },
  {
   "cell_type": "markdown",
   "id": "5717715c",
   "metadata": {},
   "source": [
    "## Sintaxis para el manejo de excepciones"
   ]
  },
  {
   "cell_type": "markdown",
   "id": "17dcdfba",
   "metadata": {},
   "source": [
    "La primera sintaxis es:\n",
    "```python\n",
    "\n",
    "    try :\n",
    "        Intrucción \n",
    "        \n",
    "    except:\n",
    "        Intrucción\n",
    "```"
   ]
  },
  {
   "cell_type": "markdown",
   "id": "a5af6300",
   "metadata": {},
   "source": [
    "Es decir, Python _intentará_ (`try`) ejecutar el primer bloque de instrucciones, que podría contener algún error; si no se ejecuta esa primera parte, hará lo que se encuentra en `except`. Hay que tener en cuenta que es una estructura, por lo que hay que agregar indentaciones."
   ]
  },
  {
   "cell_type": "markdown",
   "id": "3d9033a9",
   "metadata": {},
   "source": [
    "La segunda sintaxis es:\n",
    "```python\n",
    "\n",
    "    try :\n",
    "        Intrucción \n",
    "        \n",
    "    except:\n",
    "        Intrucción\n",
    "    \n",
    "    finally:\n",
    "        Instrucción\n",
    "```"
   ]
  },
  {
   "cell_type": "markdown",
   "id": "1caf5b61",
   "metadata": {},
   "source": [
    "Es similar a la primera sintaxis, pero ahora se agrega un `finally`, lo que le dice a Python es que, independientemente lo que pase, siempre ejecutará esa parte del código."
   ]
  },
  {
   "cell_type": "markdown",
   "id": "93804d0c",
   "metadata": {},
   "source": [
    "## Ejemplo de excepciones"
   ]
  },
  {
   "cell_type": "markdown",
   "id": "11ab48c5",
   "metadata": {},
   "source": [
    "#### Ejemplo 1"
   ]
  },
  {
   "cell_type": "markdown",
   "id": "7bb301ed",
   "metadata": {},
   "source": [
    "Usando un `try`, a partir de darle dos números $x$ y $y$, que imprima $\\frac{x}{y}$, es decir su división. Entonces, ¿qué pasará cando se divida por cero?, pues se agrega el `except` que imprimirá que se está intentando una división entre cero.\n",
    "En este caso, se intentó realizar el primer bloque de instrucciones,pero como contenía una excepción, optó por ejecutar el `except`. De esta manera se puede ir manejando las excepciones poco a poco."
   ]
  },
  {
   "cell_type": "code",
   "execution_count": 3,
   "id": "5f01cfcc",
   "metadata": {},
   "outputs": [
    {
     "name": "stdout",
     "output_type": "stream",
     "text": [
      "Digite el primer número: 1\n",
      "Digite el segundo número: 0\n",
      "\n",
      " División entre cero\n"
     ]
    }
   ],
   "source": [
    "x = int(input(\"Digite el primer número: \"))\n",
    "y = int(input(\"Digite el segundo número: \"))\n",
    "\n",
    "try:\n",
    "    print(x/y)\n",
    "except:\n",
    "    print(\"\\n División entre cero\")"
   ]
  },
  {
   "cell_type": "markdown",
   "id": "b6d0ec4f",
   "metadata": {},
   "source": [
    "#### Ejemplo 2"
   ]
  },
  {
   "cell_type": "markdown",
   "id": "f9975db8",
   "metadata": {},
   "source": [
    "Se vió que existía una excepción que era lanzada cuando se intentaba sumar un `string` con un `int`, vea como puede ser manejada la excepción. En este caso, se sabe que una palabra no se puede sumar con un número,entonces automáticamente lanzará la excepción."
   ]
  },
  {
   "cell_type": "code",
   "execution_count": 5,
   "id": "92dfd7e7",
   "metadata": {},
   "outputs": [
    {
     "name": "stdout",
     "output_type": "stream",
     "text": [
      "No se pueden sumar\n"
     ]
    }
   ],
   "source": [
    "palabra = \"hola\"\n",
    "\n",
    "try:\n",
    "    print(palabra + 10)\n",
    "except:\n",
    "    print(\"No se pueden sumar\")"
   ]
  },
  {
   "cell_type": "markdown",
   "id": "69c42b61",
   "metadata": {},
   "source": [
    "Esta manera es una forma \"divertida\" de controlar lo que sucede con el programa, y evitar aquellos errores que puedan suceder. Ayudan además a programas muy largos, que suele ser difícil ver si hay errores."
   ]
  },
  {
   "cell_type": "markdown",
   "id": "02a42398",
   "metadata": {},
   "source": [
    "#### Ejemplo 3"
   ]
  },
  {
   "cell_type": "markdown",
   "id": "b5ed1950",
   "metadata": {},
   "source": [
    "Usando el `finally`, se puede ver su utilidad de la siguiente manera. Como se puede ver, sin importar si se ejecutó la parte de `try` o la del `except`, se ejecutará lo del `finally`."
   ]
  },
  {
   "cell_type": "code",
   "execution_count": 6,
   "id": "c51a48b9",
   "metadata": {},
   "outputs": [
    {
     "name": "stdout",
     "output_type": "stream",
     "text": [
      "No se pueden sumar\n",
      "\n",
      " Programa terminado\n"
     ]
    }
   ],
   "source": [
    "palabra = \"hola\"\n",
    "\n",
    "try:\n",
    "    print(palabra + 10)\n",
    "except:\n",
    "    print(\"No se pueden sumar\")\n",
    "finally:\n",
    "    print(\"\\n Programa terminado!\" )"
   ]
  },
  {
   "cell_type": "markdown",
   "id": "9bc7914f",
   "metadata": {},
   "source": [
    "#### Ejemplo 4"
   ]
  },
  {
   "cell_type": "markdown",
   "id": "b6ed0972",
   "metadata": {},
   "source": [
    "Algo interesante al momento de manejar excepciones, es que, en el `except` se puede indicar al programa cual tipo de error será. Lo que pasará es que, ya sabrá que tipo de error puede contener el`try`, pero aún así se intentará ejecutar."
   ]
  },
  {
   "cell_type": "code",
   "execution_count": 7,
   "id": "8ba985b5",
   "metadata": {},
   "outputs": [
    {
     "name": "stdout",
     "output_type": "stream",
     "text": [
      "No puedes dividir entre cero\n"
     ]
    }
   ],
   "source": [
    "x = 1\n",
    "y = 0\n",
    "\n",
    "try:\n",
    "    print(x/y)\n",
    "except ZeroDivisionError:\n",
    "    print(\"No puedes dividir entre cero\")"
   ]
  },
  {
   "cell_type": "markdown",
   "id": "fbc06671",
   "metadata": {},
   "source": [
    "Hay que recalcar que, todas las líneas debajo del manejo de excepciones se ejecutarán siempre y cuando no ocurra un error."
   ]
  },
  {
   "cell_type": "markdown",
   "id": "0fd051b0",
   "metadata": {},
   "source": [
    "#### Ejemplo 5"
   ]
  },
  {
   "cell_type": "markdown",
   "id": "4ad41ed9",
   "metadata": {},
   "source": [
    "Como se vió en el ejemplo 3, ahora al `except` se le avisa que si existe el `\"TypeError\"`, imprima que no se puedan sumar."
   ]
  },
  {
   "cell_type": "code",
   "execution_count": 8,
   "id": "b4eb45c7",
   "metadata": {},
   "outputs": [
    {
     "name": "stdout",
     "output_type": "stream",
     "text": [
      "No puedes sumar letras con números\n"
     ]
    }
   ],
   "source": [
    "letra = \"H\"\n",
    "\n",
    "try:\n",
    "    print(letra+10)\n",
    "except TypeError:\n",
    "    print(\"No puedes sumar letras con números\")"
   ]
  },
  {
   "cell_type": "markdown",
   "id": "d62cab8d",
   "metadata": {},
   "source": [
    "Así como en el manejo de excepciones se puede continuar con el flujo del programa, se puede además detener."
   ]
  },
  {
   "cell_type": "markdown",
   "id": "1d7ec77e",
   "metadata": {},
   "source": [
    "#### Ejemplo 6"
   ]
  },
  {
   "cell_type": "markdown",
   "id": "685e9be2",
   "metadata": {},
   "source": [
    "Usando condicionales y operadores se le pide al programa que, si el tipo de dato de `x` NO es entero, entonces ejecutará todo el bloque de código. `raise` permite lanzar la excepción, es similar al `return`, y hay que definirle el tipo de excepción. Sirve además para avisarle al usuario que tipo de error está cometiendo."
   ]
  },
  {
   "cell_type": "code",
   "execution_count": 9,
   "id": "4560d3e3",
   "metadata": {},
   "outputs": [
    {
     "ename": "TypeError",
     "evalue": "x no es de tipo entero",
     "output_type": "error",
     "traceback": [
      "\u001b[0;31m---------------------------------------------------------------------------\u001b[0m",
      "\u001b[0;31mTypeError\u001b[0m                                 Traceback (most recent call last)",
      "Input \u001b[0;32mIn [9]\u001b[0m, in \u001b[0;36m<cell line: 3>\u001b[0;34m()\u001b[0m\n\u001b[1;32m      1\u001b[0m x \u001b[38;5;241m=\u001b[39m \u001b[38;5;124m\"\u001b[39m\u001b[38;5;124mPyhton\u001b[39m\u001b[38;5;124m\"\u001b[39m\n\u001b[1;32m      3\u001b[0m \u001b[38;5;28;01mif\u001b[39;00m \u001b[38;5;129;01mnot\u001b[39;00m \u001b[38;5;28mtype\u001b[39m(x) \u001b[38;5;129;01mis\u001b[39;00m \u001b[38;5;28mint\u001b[39m:\n\u001b[0;32m----> 5\u001b[0m     \u001b[38;5;28;01mraise\u001b[39;00m \u001b[38;5;167;01mTypeError\u001b[39;00m(\u001b[38;5;124m\"\u001b[39m\u001b[38;5;124mx no es de tipo entero\u001b[39m\u001b[38;5;124m\"\u001b[39m)\n",
      "\u001b[0;31mTypeError\u001b[0m: x no es de tipo entero"
     ]
    }
   ],
   "source": [
    "x = \"Pyhton\"\n",
    "\n",
    "if not type(x) is int:\n",
    "    \n",
    "    raise TypeError(\"x no es de tipo entero\")"
   ]
  },
  {
   "cell_type": "markdown",
   "id": "90088c39",
   "metadata": {},
   "source": [
    "Así, no se ejecutarán las líneas que hay después de este bloque de instrucciones, pues el programa se rompe."
   ]
  },
  {
   "cell_type": "markdown",
   "id": "b7b75114",
   "metadata": {},
   "source": [
    "El manejo de excepciones puede ayudar bastante en distintas áreas; por ejemplo, en los métodos numéricos, que tienen que cumplir ciertas restricciones para realizar el proceso que este conlleva, entonces se puede utilizar el manejo de excepciones para poder controlarlas y que no ocurran."
   ]
  }
 ],
 "metadata": {
  "hide_input": false,
  "kernelspec": {
   "display_name": "Python 3 (ipykernel)",
   "language": "python",
   "name": "python3"
  },
  "language_info": {
   "codemirror_mode": {
    "name": "ipython",
    "version": 3
   },
   "file_extension": ".py",
   "mimetype": "text/x-python",
   "name": "python",
   "nbconvert_exporter": "python",
   "pygments_lexer": "ipython3",
   "version": "3.8.12"
  },
  "toc": {
   "base_numbering": 1,
   "nav_menu": {},
   "number_sections": true,
   "sideBar": true,
   "skip_h1_title": false,
   "title_cell": "Table of Contents",
   "title_sidebar": "Contents",
   "toc_cell": false,
   "toc_position": {},
   "toc_section_display": true,
   "toc_window_display": false
  }
 },
 "nbformat": 4,
 "nbformat_minor": 5
}
